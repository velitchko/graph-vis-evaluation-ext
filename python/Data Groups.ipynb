{
 "cells": [
  {
   "cell_type": "code",
   "execution_count": 1,
   "id": "90fb5456",
   "metadata": {},
   "outputs": [],
   "source": [
    "import os\n",
    "import pandas as pd\n",
    "import numpy as np\n",
    "import math\n",
    "from IPython.display import display\n",
    "import seaborn as sns\n",
    "import matplotlib.pyplot as plt\n",
    "from matplotlib import pyplot\n",
    "from scipy.stats import shapiro\n",
    "from scipy.stats import zscore\n",
    "from scipy.stats import levene\n",
    "from scipy.stats import boxcox\n",
    "from scipy.stats import norm\n",
    "from scipy.stats import probplot\n",
    "from distfit import distfit"
   ]
  },
  {
   "cell_type": "code",
   "execution_count": 2,
   "id": "c28eb05e",
   "metadata": {},
   "outputs": [],
   "source": [
    "import warnings\n",
    "warnings.filterwarnings(\"ignore\")"
   ]
  },
  {
   "cell_type": "markdown",
   "id": "198dcc3a",
   "metadata": {},
   "source": [
    "## Load Data"
   ]
  },
  {
   "cell_type": "code",
   "execution_count": 3,
   "id": "34648299",
   "metadata": {},
   "outputs": [],
   "source": [
    "original_data = pd.read_csv('survey_results.csv', index_col=0)\n",
    "\n",
    "# original_data"
   ]
  },
  {
   "cell_type": "code",
   "execution_count": 4,
   "id": "9ff88ed9",
   "metadata": {},
   "outputs": [],
   "source": [
    "original_df = df = pd.DataFrame(original_data) "
   ]
  },
  {
   "cell_type": "code",
   "execution_count": 5,
   "id": "24d97857",
   "metadata": {},
   "outputs": [
    {
     "data": {
      "text/plain": [
       "ffadb36b-5051-4684-b9cf-ed767a599434    0.013409\n",
       "e52573b2-d900-486a-8a2e-55b5ff069846    0.013409\n",
       "c50b7807-e77a-423f-bfe2-249f600a6498    0.013409\n",
       "40acd98a-cd00-46b7-a727-4b10379241d7    0.013409\n",
       "d0fe44d9-8816-4aea-99f8-a613c4c74fde    0.013409\n",
       "                                          ...   \n",
       "b1db6112-8144-433e-98c2-a89f1c5516d7    0.012913\n",
       "02f10e19-83e5-48a3-be35-5258e2e89c1a    0.012913\n",
       "1cf1d8ae-0e92-44c7-b3e2-488adfd0c537    0.012665\n",
       "51f28cc5-797e-489a-b4f3-545e47dec783    0.012665\n",
       "aaaac871-71b8-4180-a4fb-8028260c9bd5    0.012665\n",
       "Name: id, Length: 76, dtype: float64"
      ]
     },
     "execution_count": 5,
     "metadata": {},
     "output_type": "execute_result"
    }
   ],
   "source": [
    "original_df['id'].value_counts(normalize=True)"
   ]
  },
  {
   "cell_type": "markdown",
   "id": "a6710e88",
   "metadata": {},
   "source": [
    "## Split by assigned group (A/B)"
   ]
  },
  {
   "cell_type": "code",
   "execution_count": 6,
   "id": "670369d1",
   "metadata": {},
   "outputs": [
    {
     "data": {
      "text/html": [
       "<div>\n",
       "<style scoped>\n",
       "    .dataframe tbody tr th:only-of-type {\n",
       "        vertical-align: middle;\n",
       "    }\n",
       "\n",
       "    .dataframe tbody tr th {\n",
       "        vertical-align: top;\n",
       "    }\n",
       "\n",
       "    .dataframe thead th {\n",
       "        text-align: right;\n",
       "    }\n",
       "</style>\n",
       "<table border=\"1\" class=\"dataframe\">\n",
       "  <thead>\n",
       "    <tr style=\"text-align: right;\">\n",
       "      <th></th>\n",
       "      <th>group</th>\n",
       "      <th>id</th>\n",
       "      <th>question</th>\n",
       "      <th>answer</th>\n",
       "      <th>time</th>\n",
       "      <th>confidence</th>\n",
       "      <th>correct_answer</th>\n",
       "      <th>correct</th>\n",
       "      <th>zoom_timers</th>\n",
       "      <th>drag_timers</th>\n",
       "      <th>...</th>\n",
       "      <th>zoom_interactions</th>\n",
       "      <th>drag_interactions</th>\n",
       "      <th>highlight_interactions</th>\n",
       "      <th>slower_interactions</th>\n",
       "      <th>faster_interactions</th>\n",
       "      <th>slider_interactions</th>\n",
       "      <th>network_enc</th>\n",
       "      <th>task_type</th>\n",
       "      <th>task_entity</th>\n",
       "      <th>temporal_enc</th>\n",
       "    </tr>\n",
       "  </thead>\n",
       "  <tbody>\n",
       "    <tr>\n",
       "      <th>264</th>\n",
       "      <td>A</td>\n",
       "      <td>0fe0c9f2-4f5c-44ab-933d-f0b25f7bbe47</td>\n",
       "      <td>m_t2_single_tl</td>\n",
       "      <td>1</td>\n",
       "      <td>73</td>\n",
       "      <td>2</td>\n",
       "      <td>4</td>\n",
       "      <td>false</td>\n",
       "      <td>[]</td>\n",
       "      <td>[]</td>\n",
       "      <td>...</td>\n",
       "      <td>0</td>\n",
       "      <td>0</td>\n",
       "      <td>0</td>\n",
       "      <td>0</td>\n",
       "      <td>0</td>\n",
       "      <td>17</td>\n",
       "      <td>m</td>\n",
       "      <td>t2</td>\n",
       "      <td>single</td>\n",
       "      <td>tl</td>\n",
       "    </tr>\n",
       "    <tr>\n",
       "      <th>265</th>\n",
       "      <td>A</td>\n",
       "      <td>0fe0c9f2-4f5c-44ab-933d-f0b25f7bbe47</td>\n",
       "      <td>nl_t3_single_tl</td>\n",
       "      <td>2</td>\n",
       "      <td>33</td>\n",
       "      <td>4</td>\n",
       "      <td>2</td>\n",
       "      <td>true</td>\n",
       "      <td>[]</td>\n",
       "      <td>[]</td>\n",
       "      <td>...</td>\n",
       "      <td>0</td>\n",
       "      <td>0</td>\n",
       "      <td>0</td>\n",
       "      <td>0</td>\n",
       "      <td>0</td>\n",
       "      <td>9</td>\n",
       "      <td>nl</td>\n",
       "      <td>t3</td>\n",
       "      <td>single</td>\n",
       "      <td>tl</td>\n",
       "    </tr>\n",
       "    <tr>\n",
       "      <th>266</th>\n",
       "      <td>A</td>\n",
       "      <td>0fe0c9f2-4f5c-44ab-933d-f0b25f7bbe47</td>\n",
       "      <td>nl_t2_clique_an</td>\n",
       "      <td>6</td>\n",
       "      <td>214</td>\n",
       "      <td>2</td>\n",
       "      <td>4</td>\n",
       "      <td>false</td>\n",
       "      <td>[]</td>\n",
       "      <td>[]</td>\n",
       "      <td>...</td>\n",
       "      <td>0</td>\n",
       "      <td>0</td>\n",
       "      <td>0</td>\n",
       "      <td>0</td>\n",
       "      <td>0</td>\n",
       "      <td>9</td>\n",
       "      <td>nl</td>\n",
       "      <td>t2</td>\n",
       "      <td>clique</td>\n",
       "      <td>an</td>\n",
       "    </tr>\n",
       "    <tr>\n",
       "      <th>267</th>\n",
       "      <td>A</td>\n",
       "      <td>0fe0c9f2-4f5c-44ab-933d-f0b25f7bbe47</td>\n",
       "      <td>nl_t2_single_jp</td>\n",
       "      <td>4</td>\n",
       "      <td>78</td>\n",
       "      <td>3</td>\n",
       "      <td>4</td>\n",
       "      <td>true</td>\n",
       "      <td>[]</td>\n",
       "      <td>[]</td>\n",
       "      <td>...</td>\n",
       "      <td>0</td>\n",
       "      <td>0</td>\n",
       "      <td>0</td>\n",
       "      <td>0</td>\n",
       "      <td>0</td>\n",
       "      <td>9</td>\n",
       "      <td>nl</td>\n",
       "      <td>t2</td>\n",
       "      <td>single</td>\n",
       "      <td>jp</td>\n",
       "    </tr>\n",
       "    <tr>\n",
       "      <th>268</th>\n",
       "      <td>A</td>\n",
       "      <td>0fe0c9f2-4f5c-44ab-933d-f0b25f7bbe47</td>\n",
       "      <td>nl_t3_clique_tl</td>\n",
       "      <td>5</td>\n",
       "      <td>99</td>\n",
       "      <td>2</td>\n",
       "      <td>1</td>\n",
       "      <td>false</td>\n",
       "      <td>[]</td>\n",
       "      <td>[]</td>\n",
       "      <td>...</td>\n",
       "      <td>0</td>\n",
       "      <td>0</td>\n",
       "      <td>0</td>\n",
       "      <td>0</td>\n",
       "      <td>0</td>\n",
       "      <td>19</td>\n",
       "      <td>nl</td>\n",
       "      <td>t3</td>\n",
       "      <td>clique</td>\n",
       "      <td>tl</td>\n",
       "    </tr>\n",
       "    <tr>\n",
       "      <th>...</th>\n",
       "      <td>...</td>\n",
       "      <td>...</td>\n",
       "      <td>...</td>\n",
       "      <td>...</td>\n",
       "      <td>...</td>\n",
       "      <td>...</td>\n",
       "      <td>...</td>\n",
       "      <td>...</td>\n",
       "      <td>...</td>\n",
       "      <td>...</td>\n",
       "      <td>...</td>\n",
       "      <td>...</td>\n",
       "      <td>...</td>\n",
       "      <td>...</td>\n",
       "      <td>...</td>\n",
       "      <td>...</td>\n",
       "      <td>...</td>\n",
       "      <td>...</td>\n",
       "      <td>...</td>\n",
       "      <td>...</td>\n",
       "      <td>...</td>\n",
       "    </tr>\n",
       "    <tr>\n",
       "      <th>3968</th>\n",
       "      <td>A</td>\n",
       "      <td>fd0eab90-ea5f-48cf-9796-8115762f1f51</td>\n",
       "      <td>nl_t2_clique_jp</td>\n",
       "      <td>6</td>\n",
       "      <td>47</td>\n",
       "      <td>1</td>\n",
       "      <td>3</td>\n",
       "      <td>false</td>\n",
       "      <td>[]</td>\n",
       "      <td>[]</td>\n",
       "      <td>...</td>\n",
       "      <td>0</td>\n",
       "      <td>0</td>\n",
       "      <td>0</td>\n",
       "      <td>0</td>\n",
       "      <td>0</td>\n",
       "      <td>23</td>\n",
       "      <td>nl</td>\n",
       "      <td>t2</td>\n",
       "      <td>clique</td>\n",
       "      <td>jp</td>\n",
       "    </tr>\n",
       "    <tr>\n",
       "      <th>3969</th>\n",
       "      <td>A</td>\n",
       "      <td>fd0eab90-ea5f-48cf-9796-8115762f1f51</td>\n",
       "      <td>nl_t3_clique_jp</td>\n",
       "      <td>4</td>\n",
       "      <td>28</td>\n",
       "      <td>2</td>\n",
       "      <td>3</td>\n",
       "      <td>false</td>\n",
       "      <td>[]</td>\n",
       "      <td>[]</td>\n",
       "      <td>...</td>\n",
       "      <td>0</td>\n",
       "      <td>0</td>\n",
       "      <td>0</td>\n",
       "      <td>0</td>\n",
       "      <td>0</td>\n",
       "      <td>23</td>\n",
       "      <td>nl</td>\n",
       "      <td>t3</td>\n",
       "      <td>clique</td>\n",
       "      <td>jp</td>\n",
       "    </tr>\n",
       "    <tr>\n",
       "      <th>3970</th>\n",
       "      <td>A</td>\n",
       "      <td>fd0eab90-ea5f-48cf-9796-8115762f1f51</td>\n",
       "      <td>nl_t2_clique_si</td>\n",
       "      <td>3</td>\n",
       "      <td>74</td>\n",
       "      <td>1</td>\n",
       "      <td>6</td>\n",
       "      <td>false</td>\n",
       "      <td>[]</td>\n",
       "      <td>[]</td>\n",
       "      <td>...</td>\n",
       "      <td>0</td>\n",
       "      <td>0</td>\n",
       "      <td>0</td>\n",
       "      <td>0</td>\n",
       "      <td>0</td>\n",
       "      <td>23</td>\n",
       "      <td>nl</td>\n",
       "      <td>t2</td>\n",
       "      <td>clique</td>\n",
       "      <td>si</td>\n",
       "    </tr>\n",
       "    <tr>\n",
       "      <th>3971</th>\n",
       "      <td>A</td>\n",
       "      <td>fd0eab90-ea5f-48cf-9796-8115762f1f51</td>\n",
       "      <td>nl_t2_single_jp</td>\n",
       "      <td>4</td>\n",
       "      <td>37</td>\n",
       "      <td>4</td>\n",
       "      <td>4</td>\n",
       "      <td>true</td>\n",
       "      <td>[]</td>\n",
       "      <td>[]</td>\n",
       "      <td>...</td>\n",
       "      <td>0</td>\n",
       "      <td>0</td>\n",
       "      <td>0</td>\n",
       "      <td>0</td>\n",
       "      <td>0</td>\n",
       "      <td>23</td>\n",
       "      <td>nl</td>\n",
       "      <td>t2</td>\n",
       "      <td>single</td>\n",
       "      <td>jp</td>\n",
       "    </tr>\n",
       "    <tr>\n",
       "      <th>3972</th>\n",
       "      <td>A</td>\n",
       "      <td>fd0eab90-ea5f-48cf-9796-8115762f1f51</td>\n",
       "      <td>m_t2_clique_an</td>\n",
       "      <td>5</td>\n",
       "      <td>66</td>\n",
       "      <td>2</td>\n",
       "      <td>4</td>\n",
       "      <td>false</td>\n",
       "      <td>[]</td>\n",
       "      <td>[]</td>\n",
       "      <td>...</td>\n",
       "      <td>0</td>\n",
       "      <td>0</td>\n",
       "      <td>0</td>\n",
       "      <td>0</td>\n",
       "      <td>0</td>\n",
       "      <td>23</td>\n",
       "      <td>m</td>\n",
       "      <td>t2</td>\n",
       "      <td>clique</td>\n",
       "      <td>an</td>\n",
       "    </tr>\n",
       "  </tbody>\n",
       "</table>\n",
       "<p>954 rows × 24 columns</p>\n",
       "</div>"
      ],
      "text/plain": [
       "     group                                    id         question answer  \\\n",
       "264      A  0fe0c9f2-4f5c-44ab-933d-f0b25f7bbe47   m_t2_single_tl      1   \n",
       "265      A  0fe0c9f2-4f5c-44ab-933d-f0b25f7bbe47  nl_t3_single_tl      2   \n",
       "266      A  0fe0c9f2-4f5c-44ab-933d-f0b25f7bbe47  nl_t2_clique_an      6   \n",
       "267      A  0fe0c9f2-4f5c-44ab-933d-f0b25f7bbe47  nl_t2_single_jp      4   \n",
       "268      A  0fe0c9f2-4f5c-44ab-933d-f0b25f7bbe47  nl_t3_clique_tl      5   \n",
       "...    ...                                   ...              ...    ...   \n",
       "3968     A  fd0eab90-ea5f-48cf-9796-8115762f1f51  nl_t2_clique_jp      6   \n",
       "3969     A  fd0eab90-ea5f-48cf-9796-8115762f1f51  nl_t3_clique_jp      4   \n",
       "3970     A  fd0eab90-ea5f-48cf-9796-8115762f1f51  nl_t2_clique_si      3   \n",
       "3971     A  fd0eab90-ea5f-48cf-9796-8115762f1f51  nl_t2_single_jp      4   \n",
       "3972     A  fd0eab90-ea5f-48cf-9796-8115762f1f51   m_t2_clique_an      5   \n",
       "\n",
       "      time  confidence correct_answer correct zoom_timers drag_timers  ...  \\\n",
       "264     73           2              4   false          []          []  ...   \n",
       "265     33           4              2    true          []          []  ...   \n",
       "266    214           2              4   false          []          []  ...   \n",
       "267     78           3              4    true          []          []  ...   \n",
       "268     99           2              1   false          []          []  ...   \n",
       "...    ...         ...            ...     ...         ...         ...  ...   \n",
       "3968    47           1              3   false          []          []  ...   \n",
       "3969    28           2              3   false          []          []  ...   \n",
       "3970    74           1              6   false          []          []  ...   \n",
       "3971    37           4              4    true          []          []  ...   \n",
       "3972    66           2              4   false          []          []  ...   \n",
       "\n",
       "     zoom_interactions drag_interactions highlight_interactions  \\\n",
       "264                  0                 0                      0   \n",
       "265                  0                 0                      0   \n",
       "266                  0                 0                      0   \n",
       "267                  0                 0                      0   \n",
       "268                  0                 0                      0   \n",
       "...                ...               ...                    ...   \n",
       "3968                 0                 0                      0   \n",
       "3969                 0                 0                      0   \n",
       "3970                 0                 0                      0   \n",
       "3971                 0                 0                      0   \n",
       "3972                 0                 0                      0   \n",
       "\n",
       "     slower_interactions  faster_interactions  slider_interactions  \\\n",
       "264                    0                    0                   17   \n",
       "265                    0                    0                    9   \n",
       "266                    0                    0                    9   \n",
       "267                    0                    0                    9   \n",
       "268                    0                    0                   19   \n",
       "...                  ...                  ...                  ...   \n",
       "3968                   0                    0                   23   \n",
       "3969                   0                    0                   23   \n",
       "3970                   0                    0                   23   \n",
       "3971                   0                    0                   23   \n",
       "3972                   0                    0                   23   \n",
       "\n",
       "      network_enc  task_type  task_entity  temporal_enc  \n",
       "264             m         t2       single            tl  \n",
       "265            nl         t3       single            tl  \n",
       "266            nl         t2       clique            an  \n",
       "267            nl         t2       single            jp  \n",
       "268            nl         t3       clique            tl  \n",
       "...           ...        ...          ...           ...  \n",
       "3968           nl         t2       clique            jp  \n",
       "3969           nl         t3       clique            jp  \n",
       "3970           nl         t2       clique            si  \n",
       "3971           nl         t2       single            jp  \n",
       "3972            m         t2       clique            an  \n",
       "\n",
       "[954 rows x 24 columns]"
      ]
     },
     "execution_count": 6,
     "metadata": {},
     "output_type": "execute_result"
    }
   ],
   "source": [
    "group_A = original_df[original_df['group'] == \"A\"]\n",
    "group_A['network_enc'] = group_A['question'].str.split('_').str[0]\n",
    "group_A['task_type'] = group_A['question'].str.split('_').str[1]\n",
    "group_A['task_entity'] = group_A['question'].str.split('_').str[2]\n",
    "group_A['temporal_enc'] = group_A['question'].str.split('_').str[3]\n",
    "group_A['correct'] = group_A['correct'].apply(str).str.lower()\n",
    "# group_A = group_A.drop(['group', 'question', 'id'], axis='columns')\n",
    "\n",
    "group_A"
   ]
  },
  {
   "cell_type": "code",
   "execution_count": 7,
   "id": "ebf6c041",
   "metadata": {},
   "outputs": [],
   "source": [
    "group_B = original_df[original_df['group'] == \"B\"]\n",
    "\n",
    "group_B['network_enc'] = group_B['question'].str.split('_').str[0]\n",
    "group_B['task_type'] = group_B['question'].str.split('_').str[1]\n",
    "group_B['task_entity'] = group_B['question'].str.split('_').str[2]\n",
    "group_B['temporal_enc'] = group_B['question'].str.split('_').str[3]\n",
    "group_B['correct'] = group_B['correct'].apply(str).str.lower()\n",
    "# group_B = group_B.drop(['group', 'question', 'id'], axis='columns')\n",
    "\n",
    "# len(group_B['id'].unique())"
   ]
  },
  {
   "cell_type": "code",
   "execution_count": 8,
   "id": "82932070",
   "metadata": {},
   "outputs": [],
   "source": [
    "group_A.to_csv('group_A', sep=\";\")\n",
    "group_B.to_csv('group_B', sep=\";\")"
   ]
  },
  {
   "cell_type": "markdown",
   "id": "c2e2df05",
   "metadata": {},
   "source": [
    "## Control Questions"
   ]
  },
  {
   "cell_type": "code",
   "execution_count": 9,
   "id": "975e5111",
   "metadata": {},
   "outputs": [
    {
     "data": {
      "text/html": [
       "<div>\n",
       "<style scoped>\n",
       "    .dataframe tbody tr th:only-of-type {\n",
       "        vertical-align: middle;\n",
       "    }\n",
       "\n",
       "    .dataframe tbody tr th {\n",
       "        vertical-align: top;\n",
       "    }\n",
       "\n",
       "    .dataframe thead th {\n",
       "        text-align: right;\n",
       "    }\n",
       "</style>\n",
       "<table border=\"1\" class=\"dataframe\">\n",
       "  <thead>\n",
       "    <tr style=\"text-align: right;\">\n",
       "      <th></th>\n",
       "      <th>group</th>\n",
       "      <th>id</th>\n",
       "      <th>question</th>\n",
       "      <th>answer</th>\n",
       "      <th>time</th>\n",
       "      <th>confidence</th>\n",
       "      <th>correct_answer</th>\n",
       "      <th>correct</th>\n",
       "      <th>zoom_timers</th>\n",
       "      <th>drag_timers</th>\n",
       "      <th>...</th>\n",
       "      <th>zoom_interactions</th>\n",
       "      <th>drag_interactions</th>\n",
       "      <th>highlight_interactions</th>\n",
       "      <th>slower_interactions</th>\n",
       "      <th>faster_interactions</th>\n",
       "      <th>slider_interactions</th>\n",
       "      <th>network_enc</th>\n",
       "      <th>task_type</th>\n",
       "      <th>task_entity</th>\n",
       "      <th>temporal_enc</th>\n",
       "    </tr>\n",
       "  </thead>\n",
       "  <tbody>\n",
       "    <tr>\n",
       "      <th>1549</th>\n",
       "      <td>A</td>\n",
       "      <td>479e65b9-b9d6-4d01-bb8e-ba919e769fa7</td>\n",
       "      <td>control1</td>\n",
       "      <td>green</td>\n",
       "      <td>41</td>\n",
       "      <td>2</td>\n",
       "      <td>red</td>\n",
       "      <td>false</td>\n",
       "      <td>[]</td>\n",
       "      <td>[]</td>\n",
       "      <td>...</td>\n",
       "      <td>0</td>\n",
       "      <td>0</td>\n",
       "      <td>0</td>\n",
       "      <td>31</td>\n",
       "      <td>0</td>\n",
       "      <td>0</td>\n",
       "      <td>control1</td>\n",
       "      <td>NaN</td>\n",
       "      <td>NaN</td>\n",
       "      <td>NaN</td>\n",
       "    </tr>\n",
       "    <tr>\n",
       "      <th>3614</th>\n",
       "      <td>A</td>\n",
       "      <td>f357cda5-2402-4fd5-93ff-d8d6ed2a566d</td>\n",
       "      <td>control1</td>\n",
       "      <td>yellow</td>\n",
       "      <td>101</td>\n",
       "      <td>2</td>\n",
       "      <td>red</td>\n",
       "      <td>false</td>\n",
       "      <td>[]</td>\n",
       "      <td>[]</td>\n",
       "      <td>...</td>\n",
       "      <td>0</td>\n",
       "      <td>0</td>\n",
       "      <td>0</td>\n",
       "      <td>0</td>\n",
       "      <td>0</td>\n",
       "      <td>1</td>\n",
       "      <td>control1</td>\n",
       "      <td>NaN</td>\n",
       "      <td>NaN</td>\n",
       "      <td>NaN</td>\n",
       "    </tr>\n",
       "    <tr>\n",
       "      <th>3642</th>\n",
       "      <td>A</td>\n",
       "      <td>f357cda5-2402-4fd5-93ff-d8d6ed2a566d</td>\n",
       "      <td>control3</td>\n",
       "      <td>AD37</td>\n",
       "      <td>189</td>\n",
       "      <td>3</td>\n",
       "      <td>LT02</td>\n",
       "      <td>false</td>\n",
       "      <td>[]</td>\n",
       "      <td>[]</td>\n",
       "      <td>...</td>\n",
       "      <td>0</td>\n",
       "      <td>0</td>\n",
       "      <td>0</td>\n",
       "      <td>0</td>\n",
       "      <td>0</td>\n",
       "      <td>2</td>\n",
       "      <td>control3</td>\n",
       "      <td>NaN</td>\n",
       "      <td>NaN</td>\n",
       "      <td>NaN</td>\n",
       "    </tr>\n",
       "  </tbody>\n",
       "</table>\n",
       "<p>3 rows × 24 columns</p>\n",
       "</div>"
      ],
      "text/plain": [
       "     group                                    id  question  answer  time  \\\n",
       "1549     A  479e65b9-b9d6-4d01-bb8e-ba919e769fa7  control1   green    41   \n",
       "3614     A  f357cda5-2402-4fd5-93ff-d8d6ed2a566d  control1  yellow   101   \n",
       "3642     A  f357cda5-2402-4fd5-93ff-d8d6ed2a566d  control3    AD37   189   \n",
       "\n",
       "      confidence correct_answer correct zoom_timers drag_timers  ...  \\\n",
       "1549           2            red   false          []          []  ...   \n",
       "3614           2            red   false          []          []  ...   \n",
       "3642           3           LT02   false          []          []  ...   \n",
       "\n",
       "     zoom_interactions drag_interactions highlight_interactions  \\\n",
       "1549                 0                 0                      0   \n",
       "3614                 0                 0                      0   \n",
       "3642                 0                 0                      0   \n",
       "\n",
       "     slower_interactions  faster_interactions  slider_interactions  \\\n",
       "1549                  31                    0                    0   \n",
       "3614                   0                    0                    1   \n",
       "3642                   0                    0                    2   \n",
       "\n",
       "      network_enc  task_type  task_entity  temporal_enc  \n",
       "1549     control1        NaN          NaN           NaN  \n",
       "3614     control1        NaN          NaN           NaN  \n",
       "3642     control3        NaN          NaN           NaN  \n",
       "\n",
       "[3 rows x 24 columns]"
      ]
     },
     "execution_count": 9,
     "metadata": {},
     "output_type": "execute_result"
    }
   ],
   "source": [
    "group_A_control = group_A.loc[group_A['question'].str.contains('control')]\n",
    "group_A_control_false = group_A_control.loc[group_A_control['correct'] == 'false']\n",
    "group_A_control_false"
   ]
  },
  {
   "cell_type": "code",
   "execution_count": 10,
   "id": "89deb0e9",
   "metadata": {},
   "outputs": [
    {
     "data": {
      "text/html": [
       "<div>\n",
       "<style scoped>\n",
       "    .dataframe tbody tr th:only-of-type {\n",
       "        vertical-align: middle;\n",
       "    }\n",
       "\n",
       "    .dataframe tbody tr th {\n",
       "        vertical-align: top;\n",
       "    }\n",
       "\n",
       "    .dataframe thead th {\n",
       "        text-align: right;\n",
       "    }\n",
       "</style>\n",
       "<table border=\"1\" class=\"dataframe\">\n",
       "  <thead>\n",
       "    <tr style=\"text-align: right;\">\n",
       "      <th></th>\n",
       "      <th>group</th>\n",
       "      <th>id</th>\n",
       "      <th>question</th>\n",
       "      <th>answer</th>\n",
       "      <th>time</th>\n",
       "      <th>confidence</th>\n",
       "      <th>correct_answer</th>\n",
       "      <th>correct</th>\n",
       "      <th>zoom_timers</th>\n",
       "      <th>drag_timers</th>\n",
       "      <th>...</th>\n",
       "      <th>zoom_interactions</th>\n",
       "      <th>drag_interactions</th>\n",
       "      <th>highlight_interactions</th>\n",
       "      <th>slower_interactions</th>\n",
       "      <th>faster_interactions</th>\n",
       "      <th>slider_interactions</th>\n",
       "      <th>network_enc</th>\n",
       "      <th>task_type</th>\n",
       "      <th>task_entity</th>\n",
       "      <th>temporal_enc</th>\n",
       "    </tr>\n",
       "  </thead>\n",
       "  <tbody>\n",
       "    <tr>\n",
       "      <th>145</th>\n",
       "      <td>B</td>\n",
       "      <td>037605fd-b893-4885-b04a-8e9c2bed8a1a</td>\n",
       "      <td>control3</td>\n",
       "      <td>VZ38</td>\n",
       "      <td>17</td>\n",
       "      <td>5</td>\n",
       "      <td>LT02</td>\n",
       "      <td>false</td>\n",
       "      <td>[1204]</td>\n",
       "      <td>[]</td>\n",
       "      <td>...</td>\n",
       "      <td>1</td>\n",
       "      <td>0</td>\n",
       "      <td>21</td>\n",
       "      <td>0</td>\n",
       "      <td>1</td>\n",
       "      <td>0</td>\n",
       "      <td>control3</td>\n",
       "      <td>NaN</td>\n",
       "      <td>NaN</td>\n",
       "      <td>NaN</td>\n",
       "    </tr>\n",
       "    <tr>\n",
       "      <th>223</th>\n",
       "      <td>B</td>\n",
       "      <td>0d215911-e63c-46ad-a063-653b709f8253</td>\n",
       "      <td>control1</td>\n",
       "      <td>yellow</td>\n",
       "      <td>306</td>\n",
       "      <td>1</td>\n",
       "      <td>red</td>\n",
       "      <td>false</td>\n",
       "      <td>[152, 153, 508, 152]</td>\n",
       "      <td>[]</td>\n",
       "      <td>...</td>\n",
       "      <td>4</td>\n",
       "      <td>0</td>\n",
       "      <td>0</td>\n",
       "      <td>0</td>\n",
       "      <td>0</td>\n",
       "      <td>3</td>\n",
       "      <td>control1</td>\n",
       "      <td>NaN</td>\n",
       "      <td>NaN</td>\n",
       "      <td>NaN</td>\n",
       "    </tr>\n",
       "    <tr>\n",
       "      <th>251</th>\n",
       "      <td>B</td>\n",
       "      <td>0d215911-e63c-46ad-a063-653b709f8253</td>\n",
       "      <td>control3</td>\n",
       "      <td>AD37</td>\n",
       "      <td>139</td>\n",
       "      <td>1</td>\n",
       "      <td>LT02</td>\n",
       "      <td>false</td>\n",
       "      <td>[265, 151, 907, 152, 151, 957, 152, 2297, 1696...</td>\n",
       "      <td>[]</td>\n",
       "      <td>...</td>\n",
       "      <td>22</td>\n",
       "      <td>0</td>\n",
       "      <td>87</td>\n",
       "      <td>0</td>\n",
       "      <td>0</td>\n",
       "      <td>4</td>\n",
       "      <td>control3</td>\n",
       "      <td>NaN</td>\n",
       "      <td>NaN</td>\n",
       "      <td>NaN</td>\n",
       "    </tr>\n",
       "    <tr>\n",
       "      <th>383</th>\n",
       "      <td>B</td>\n",
       "      <td>1039ad57-5293-4af8-acce-89edd244cc7a</td>\n",
       "      <td>control1</td>\n",
       "      <td>yellow</td>\n",
       "      <td>40</td>\n",
       "      <td>5</td>\n",
       "      <td>red</td>\n",
       "      <td>false</td>\n",
       "      <td>[165, 165, 499, 333, 154, 230, 237]</td>\n",
       "      <td>[]</td>\n",
       "      <td>...</td>\n",
       "      <td>7</td>\n",
       "      <td>0</td>\n",
       "      <td>27</td>\n",
       "      <td>0</td>\n",
       "      <td>0</td>\n",
       "      <td>31</td>\n",
       "      <td>control1</td>\n",
       "      <td>NaN</td>\n",
       "      <td>NaN</td>\n",
       "      <td>NaN</td>\n",
       "    </tr>\n",
       "    <tr>\n",
       "      <th>912</th>\n",
       "      <td>B</td>\n",
       "      <td>224c8817-b026-4280-b546-04d6cb5388f7</td>\n",
       "      <td>control1</td>\n",
       "      <td>green</td>\n",
       "      <td>45</td>\n",
       "      <td>1</td>\n",
       "      <td>red</td>\n",
       "      <td>false</td>\n",
       "      <td>[158, 244, 449, 230, 151, 151, 548, 675, 635, ...</td>\n",
       "      <td>[85, 3463, 3227]</td>\n",
       "      <td>...</td>\n",
       "      <td>10</td>\n",
       "      <td>3</td>\n",
       "      <td>0</td>\n",
       "      <td>7</td>\n",
       "      <td>0</td>\n",
       "      <td>0</td>\n",
       "      <td>control1</td>\n",
       "      <td>NaN</td>\n",
       "      <td>NaN</td>\n",
       "      <td>NaN</td>\n",
       "    </tr>\n",
       "    <tr>\n",
       "      <th>940</th>\n",
       "      <td>B</td>\n",
       "      <td>224c8817-b026-4280-b546-04d6cb5388f7</td>\n",
       "      <td>control3</td>\n",
       "      <td>DO54</td>\n",
       "      <td>122</td>\n",
       "      <td>1</td>\n",
       "      <td>LT02</td>\n",
       "      <td>false</td>\n",
       "      <td>[153, 160, 1600, 484]</td>\n",
       "      <td>[3412]</td>\n",
       "      <td>...</td>\n",
       "      <td>4</td>\n",
       "      <td>1</td>\n",
       "      <td>0</td>\n",
       "      <td>0</td>\n",
       "      <td>0</td>\n",
       "      <td>2</td>\n",
       "      <td>control3</td>\n",
       "      <td>NaN</td>\n",
       "      <td>NaN</td>\n",
       "      <td>NaN</td>\n",
       "    </tr>\n",
       "    <tr>\n",
       "      <th>1046</th>\n",
       "      <td>B</td>\n",
       "      <td>2e4f721a-71de-465c-97c1-4bd8a4c7a5d4</td>\n",
       "      <td>control3</td>\n",
       "      <td>VZ38</td>\n",
       "      <td>43</td>\n",
       "      <td>5</td>\n",
       "      <td>LT02</td>\n",
       "      <td>false</td>\n",
       "      <td>[159, 160, 259, 1597, 193, 902, 218, 151, 807]</td>\n",
       "      <td>[]</td>\n",
       "      <td>...</td>\n",
       "      <td>9</td>\n",
       "      <td>0</td>\n",
       "      <td>0</td>\n",
       "      <td>0</td>\n",
       "      <td>0</td>\n",
       "      <td>0</td>\n",
       "      <td>control3</td>\n",
       "      <td>NaN</td>\n",
       "      <td>NaN</td>\n",
       "      <td>NaN</td>\n",
       "    </tr>\n",
       "    <tr>\n",
       "      <th>1497</th>\n",
       "      <td>B</td>\n",
       "      <td>40ec582a-987a-4135-af15-2c273b27ae87</td>\n",
       "      <td>control1</td>\n",
       "      <td>black</td>\n",
       "      <td>9</td>\n",
       "      <td>1</td>\n",
       "      <td>red</td>\n",
       "      <td>false</td>\n",
       "      <td>[205, 275, 464, 565]</td>\n",
       "      <td>[400, 4947]</td>\n",
       "      <td>...</td>\n",
       "      <td>4</td>\n",
       "      <td>2</td>\n",
       "      <td>0</td>\n",
       "      <td>0</td>\n",
       "      <td>0</td>\n",
       "      <td>0</td>\n",
       "      <td>control1</td>\n",
       "      <td>NaN</td>\n",
       "      <td>NaN</td>\n",
       "      <td>NaN</td>\n",
       "    </tr>\n",
       "    <tr>\n",
       "      <th>2127</th>\n",
       "      <td>B</td>\n",
       "      <td>78b9a69e-7ab0-4c26-bb02-21125956bd0a</td>\n",
       "      <td>control1</td>\n",
       "      <td>black</td>\n",
       "      <td>29</td>\n",
       "      <td>1</td>\n",
       "      <td>red</td>\n",
       "      <td>false</td>\n",
       "      <td>[]</td>\n",
       "      <td>[]</td>\n",
       "      <td>...</td>\n",
       "      <td>0</td>\n",
       "      <td>0</td>\n",
       "      <td>5</td>\n",
       "      <td>0</td>\n",
       "      <td>0</td>\n",
       "      <td>3</td>\n",
       "      <td>control1</td>\n",
       "      <td>NaN</td>\n",
       "      <td>NaN</td>\n",
       "      <td>NaN</td>\n",
       "    </tr>\n",
       "    <tr>\n",
       "      <th>2180</th>\n",
       "      <td>B</td>\n",
       "      <td>86bfd834-db2c-44ee-8300-8f182be02533</td>\n",
       "      <td>control1</td>\n",
       "      <td>green</td>\n",
       "      <td>96</td>\n",
       "      <td>1</td>\n",
       "      <td>red</td>\n",
       "      <td>false</td>\n",
       "      <td>[154, 262, 302]</td>\n",
       "      <td>[]</td>\n",
       "      <td>...</td>\n",
       "      <td>3</td>\n",
       "      <td>0</td>\n",
       "      <td>1</td>\n",
       "      <td>4</td>\n",
       "      <td>0</td>\n",
       "      <td>0</td>\n",
       "      <td>control1</td>\n",
       "      <td>NaN</td>\n",
       "      <td>NaN</td>\n",
       "      <td>NaN</td>\n",
       "    </tr>\n",
       "    <tr>\n",
       "      <th>2194</th>\n",
       "      <td>B</td>\n",
       "      <td>86bfd834-db2c-44ee-8300-8f182be02533</td>\n",
       "      <td>control2</td>\n",
       "      <td>0</td>\n",
       "      <td>31</td>\n",
       "      <td>1</td>\n",
       "      <td>4</td>\n",
       "      <td>false</td>\n",
       "      <td>[]</td>\n",
       "      <td>[1096]</td>\n",
       "      <td>...</td>\n",
       "      <td>0</td>\n",
       "      <td>1</td>\n",
       "      <td>0</td>\n",
       "      <td>0</td>\n",
       "      <td>0</td>\n",
       "      <td>0</td>\n",
       "      <td>control2</td>\n",
       "      <td>NaN</td>\n",
       "      <td>NaN</td>\n",
       "      <td>NaN</td>\n",
       "    </tr>\n",
       "    <tr>\n",
       "      <th>2866</th>\n",
       "      <td>B</td>\n",
       "      <td>b998c460-ce32-4abf-a6c8-d96caf7284c9</td>\n",
       "      <td>control1</td>\n",
       "      <td>green</td>\n",
       "      <td>78</td>\n",
       "      <td>1</td>\n",
       "      <td>red</td>\n",
       "      <td>false</td>\n",
       "      <td>[817, 203, 427, 135]</td>\n",
       "      <td>[]</td>\n",
       "      <td>...</td>\n",
       "      <td>4</td>\n",
       "      <td>0</td>\n",
       "      <td>14</td>\n",
       "      <td>0</td>\n",
       "      <td>0</td>\n",
       "      <td>0</td>\n",
       "      <td>control1</td>\n",
       "      <td>NaN</td>\n",
       "      <td>NaN</td>\n",
       "      <td>NaN</td>\n",
       "    </tr>\n",
       "    <tr>\n",
       "      <th>3025</th>\n",
       "      <td>B</td>\n",
       "      <td>c50b7807-e77a-423f-bfe2-249f600a6498</td>\n",
       "      <td>control1</td>\n",
       "      <td>yellow</td>\n",
       "      <td>48</td>\n",
       "      <td>2</td>\n",
       "      <td>red</td>\n",
       "      <td>false</td>\n",
       "      <td>[402, 698, 155, 152, 6641, 570, 606, 157, 816,...</td>\n",
       "      <td>[2338, 1321, 223, 1453, 227, 141, 1005, 600, 221]</td>\n",
       "      <td>...</td>\n",
       "      <td>68</td>\n",
       "      <td>9</td>\n",
       "      <td>0</td>\n",
       "      <td>0</td>\n",
       "      <td>0</td>\n",
       "      <td>0</td>\n",
       "      <td>control1</td>\n",
       "      <td>NaN</td>\n",
       "      <td>NaN</td>\n",
       "      <td>NaN</td>\n",
       "    </tr>\n",
       "    <tr>\n",
       "      <th>3239</th>\n",
       "      <td>B</td>\n",
       "      <td>d5d47990-2fbb-4eed-b467-f49476866cd0</td>\n",
       "      <td>control1</td>\n",
       "      <td>green</td>\n",
       "      <td>54</td>\n",
       "      <td>1</td>\n",
       "      <td>red</td>\n",
       "      <td>false</td>\n",
       "      <td>[493, 306, 568, 498, 154]</td>\n",
       "      <td>[]</td>\n",
       "      <td>...</td>\n",
       "      <td>5</td>\n",
       "      <td>0</td>\n",
       "      <td>13</td>\n",
       "      <td>0</td>\n",
       "      <td>2</td>\n",
       "      <td>0</td>\n",
       "      <td>control1</td>\n",
       "      <td>NaN</td>\n",
       "      <td>NaN</td>\n",
       "      <td>NaN</td>\n",
       "    </tr>\n",
       "    <tr>\n",
       "      <th>3400</th>\n",
       "      <td>B</td>\n",
       "      <td>e207e91b-f772-486c-bc7e-8ad924a50598</td>\n",
       "      <td>control1</td>\n",
       "      <td>yellow</td>\n",
       "      <td>73</td>\n",
       "      <td>1</td>\n",
       "      <td>red</td>\n",
       "      <td>false</td>\n",
       "      <td>[265, 1512, 246]</td>\n",
       "      <td>[2080, 2791, 1470, 807, 999]</td>\n",
       "      <td>...</td>\n",
       "      <td>3</td>\n",
       "      <td>5</td>\n",
       "      <td>0</td>\n",
       "      <td>0</td>\n",
       "      <td>0</td>\n",
       "      <td>2</td>\n",
       "      <td>control1</td>\n",
       "      <td>NaN</td>\n",
       "      <td>NaN</td>\n",
       "      <td>NaN</td>\n",
       "    </tr>\n",
       "    <tr>\n",
       "      <th>3773</th>\n",
       "      <td>B</td>\n",
       "      <td>f7d50be8-6102-4e5c-abf2-b5a05bc1c168</td>\n",
       "      <td>control1</td>\n",
       "      <td>yellow</td>\n",
       "      <td>102</td>\n",
       "      <td>4</td>\n",
       "      <td>red</td>\n",
       "      <td>false</td>\n",
       "      <td>[923, 163, 160, 275, 203, 298, 475, 558, 189, ...</td>\n",
       "      <td>[3061, 3274, 1237, 4452, 109]</td>\n",
       "      <td>...</td>\n",
       "      <td>18</td>\n",
       "      <td>5</td>\n",
       "      <td>0</td>\n",
       "      <td>0</td>\n",
       "      <td>0</td>\n",
       "      <td>0</td>\n",
       "      <td>control1</td>\n",
       "      <td>NaN</td>\n",
       "      <td>NaN</td>\n",
       "      <td>NaN</td>\n",
       "    </tr>\n",
       "    <tr>\n",
       "      <th>3825</th>\n",
       "      <td>B</td>\n",
       "      <td>f81817ac-49cb-47ed-a599-6b9ba011360d</td>\n",
       "      <td>control1</td>\n",
       "      <td>green</td>\n",
       "      <td>113</td>\n",
       "      <td>1</td>\n",
       "      <td>red</td>\n",
       "      <td>false</td>\n",
       "      <td>[157, 718, 155, 402, 216, 152, 202, 266, 151, ...</td>\n",
       "      <td>[]</td>\n",
       "      <td>...</td>\n",
       "      <td>12</td>\n",
       "      <td>0</td>\n",
       "      <td>0</td>\n",
       "      <td>0</td>\n",
       "      <td>0</td>\n",
       "      <td>3</td>\n",
       "      <td>control1</td>\n",
       "      <td>NaN</td>\n",
       "      <td>NaN</td>\n",
       "      <td>NaN</td>\n",
       "    </tr>\n",
       "    <tr>\n",
       "      <th>4014</th>\n",
       "      <td>B</td>\n",
       "      <td>ffadb36b-5051-4684-b9cf-ed767a599434</td>\n",
       "      <td>control3</td>\n",
       "      <td>DO54</td>\n",
       "      <td>41</td>\n",
       "      <td>4</td>\n",
       "      <td>LT02</td>\n",
       "      <td>false</td>\n",
       "      <td>[1055, 111]</td>\n",
       "      <td>[2678, 3302, 2237]</td>\n",
       "      <td>...</td>\n",
       "      <td>2</td>\n",
       "      <td>3</td>\n",
       "      <td>0</td>\n",
       "      <td>0</td>\n",
       "      <td>0</td>\n",
       "      <td>11</td>\n",
       "      <td>control3</td>\n",
       "      <td>NaN</td>\n",
       "      <td>NaN</td>\n",
       "      <td>NaN</td>\n",
       "    </tr>\n",
       "  </tbody>\n",
       "</table>\n",
       "<p>18 rows × 24 columns</p>\n",
       "</div>"
      ],
      "text/plain": [
       "     group                                    id  question  answer  time  \\\n",
       "145      B  037605fd-b893-4885-b04a-8e9c2bed8a1a  control3    VZ38    17   \n",
       "223      B  0d215911-e63c-46ad-a063-653b709f8253  control1  yellow   306   \n",
       "251      B  0d215911-e63c-46ad-a063-653b709f8253  control3    AD37   139   \n",
       "383      B  1039ad57-5293-4af8-acce-89edd244cc7a  control1  yellow    40   \n",
       "912      B  224c8817-b026-4280-b546-04d6cb5388f7  control1   green    45   \n",
       "940      B  224c8817-b026-4280-b546-04d6cb5388f7  control3    DO54   122   \n",
       "1046     B  2e4f721a-71de-465c-97c1-4bd8a4c7a5d4  control3    VZ38    43   \n",
       "1497     B  40ec582a-987a-4135-af15-2c273b27ae87  control1   black     9   \n",
       "2127     B  78b9a69e-7ab0-4c26-bb02-21125956bd0a  control1   black    29   \n",
       "2180     B  86bfd834-db2c-44ee-8300-8f182be02533  control1   green    96   \n",
       "2194     B  86bfd834-db2c-44ee-8300-8f182be02533  control2       0    31   \n",
       "2866     B  b998c460-ce32-4abf-a6c8-d96caf7284c9  control1   green    78   \n",
       "3025     B  c50b7807-e77a-423f-bfe2-249f600a6498  control1  yellow    48   \n",
       "3239     B  d5d47990-2fbb-4eed-b467-f49476866cd0  control1   green    54   \n",
       "3400     B  e207e91b-f772-486c-bc7e-8ad924a50598  control1  yellow    73   \n",
       "3773     B  f7d50be8-6102-4e5c-abf2-b5a05bc1c168  control1  yellow   102   \n",
       "3825     B  f81817ac-49cb-47ed-a599-6b9ba011360d  control1   green   113   \n",
       "4014     B  ffadb36b-5051-4684-b9cf-ed767a599434  control3    DO54    41   \n",
       "\n",
       "      confidence correct_answer correct  \\\n",
       "145            5           LT02   false   \n",
       "223            1            red   false   \n",
       "251            1           LT02   false   \n",
       "383            5            red   false   \n",
       "912            1            red   false   \n",
       "940            1           LT02   false   \n",
       "1046           5           LT02   false   \n",
       "1497           1            red   false   \n",
       "2127           1            red   false   \n",
       "2180           1            red   false   \n",
       "2194           1              4   false   \n",
       "2866           1            red   false   \n",
       "3025           2            red   false   \n",
       "3239           1            red   false   \n",
       "3400           1            red   false   \n",
       "3773           4            red   false   \n",
       "3825           1            red   false   \n",
       "4014           4           LT02   false   \n",
       "\n",
       "                                            zoom_timers  \\\n",
       "145                                              [1204]   \n",
       "223                                [152, 153, 508, 152]   \n",
       "251   [265, 151, 907, 152, 151, 957, 152, 2297, 1696...   \n",
       "383                 [165, 165, 499, 333, 154, 230, 237]   \n",
       "912   [158, 244, 449, 230, 151, 151, 548, 675, 635, ...   \n",
       "940                               [153, 160, 1600, 484]   \n",
       "1046     [159, 160, 259, 1597, 193, 902, 218, 151, 807]   \n",
       "1497                               [205, 275, 464, 565]   \n",
       "2127                                                 []   \n",
       "2180                                    [154, 262, 302]   \n",
       "2194                                                 []   \n",
       "2866                               [817, 203, 427, 135]   \n",
       "3025  [402, 698, 155, 152, 6641, 570, 606, 157, 816,...   \n",
       "3239                          [493, 306, 568, 498, 154]   \n",
       "3400                                   [265, 1512, 246]   \n",
       "3773  [923, 163, 160, 275, 203, 298, 475, 558, 189, ...   \n",
       "3825  [157, 718, 155, 402, 216, 152, 202, 266, 151, ...   \n",
       "4014                                        [1055, 111]   \n",
       "\n",
       "                                            drag_timers  ...  \\\n",
       "145                                                  []  ...   \n",
       "223                                                  []  ...   \n",
       "251                                                  []  ...   \n",
       "383                                                  []  ...   \n",
       "912                                    [85, 3463, 3227]  ...   \n",
       "940                                              [3412]  ...   \n",
       "1046                                                 []  ...   \n",
       "1497                                        [400, 4947]  ...   \n",
       "2127                                                 []  ...   \n",
       "2180                                                 []  ...   \n",
       "2194                                             [1096]  ...   \n",
       "2866                                                 []  ...   \n",
       "3025  [2338, 1321, 223, 1453, 227, 141, 1005, 600, 221]  ...   \n",
       "3239                                                 []  ...   \n",
       "3400                       [2080, 2791, 1470, 807, 999]  ...   \n",
       "3773                      [3061, 3274, 1237, 4452, 109]  ...   \n",
       "3825                                                 []  ...   \n",
       "4014                                 [2678, 3302, 2237]  ...   \n",
       "\n",
       "     zoom_interactions drag_interactions highlight_interactions  \\\n",
       "145                  1                 0                     21   \n",
       "223                  4                 0                      0   \n",
       "251                 22                 0                     87   \n",
       "383                  7                 0                     27   \n",
       "912                 10                 3                      0   \n",
       "940                  4                 1                      0   \n",
       "1046                 9                 0                      0   \n",
       "1497                 4                 2                      0   \n",
       "2127                 0                 0                      5   \n",
       "2180                 3                 0                      1   \n",
       "2194                 0                 1                      0   \n",
       "2866                 4                 0                     14   \n",
       "3025                68                 9                      0   \n",
       "3239                 5                 0                     13   \n",
       "3400                 3                 5                      0   \n",
       "3773                18                 5                      0   \n",
       "3825                12                 0                      0   \n",
       "4014                 2                 3                      0   \n",
       "\n",
       "     slower_interactions  faster_interactions  slider_interactions  \\\n",
       "145                    0                    1                    0   \n",
       "223                    0                    0                    3   \n",
       "251                    0                    0                    4   \n",
       "383                    0                    0                   31   \n",
       "912                    7                    0                    0   \n",
       "940                    0                    0                    2   \n",
       "1046                   0                    0                    0   \n",
       "1497                   0                    0                    0   \n",
       "2127                   0                    0                    3   \n",
       "2180                   4                    0                    0   \n",
       "2194                   0                    0                    0   \n",
       "2866                   0                    0                    0   \n",
       "3025                   0                    0                    0   \n",
       "3239                   0                    2                    0   \n",
       "3400                   0                    0                    2   \n",
       "3773                   0                    0                    0   \n",
       "3825                   0                    0                    3   \n",
       "4014                   0                    0                   11   \n",
       "\n",
       "      network_enc  task_type  task_entity  temporal_enc  \n",
       "145      control3        NaN          NaN           NaN  \n",
       "223      control1        NaN          NaN           NaN  \n",
       "251      control3        NaN          NaN           NaN  \n",
       "383      control1        NaN          NaN           NaN  \n",
       "912      control1        NaN          NaN           NaN  \n",
       "940      control3        NaN          NaN           NaN  \n",
       "1046     control3        NaN          NaN           NaN  \n",
       "1497     control1        NaN          NaN           NaN  \n",
       "2127     control1        NaN          NaN           NaN  \n",
       "2180     control1        NaN          NaN           NaN  \n",
       "2194     control2        NaN          NaN           NaN  \n",
       "2866     control1        NaN          NaN           NaN  \n",
       "3025     control1        NaN          NaN           NaN  \n",
       "3239     control1        NaN          NaN           NaN  \n",
       "3400     control1        NaN          NaN           NaN  \n",
       "3773     control1        NaN          NaN           NaN  \n",
       "3825     control1        NaN          NaN           NaN  \n",
       "4014     control3        NaN          NaN           NaN  \n",
       "\n",
       "[18 rows x 24 columns]"
      ]
     },
     "execution_count": 10,
     "metadata": {},
     "output_type": "execute_result"
    }
   ],
   "source": [
    "group_B_control = group_B.loc[group_B['question'].str.contains('control')]\n",
    "group_B_control_false = group_B_control.loc[group_B_control['correct'] == 'false']\n",
    "group_B_control_false"
   ]
  },
  {
   "cell_type": "code",
   "execution_count": 11,
   "id": "c6cbfe02",
   "metadata": {},
   "outputs": [
    {
     "data": {
      "text/plain": [
       "array(['037605fd-b893-4885-b04a-8e9c2bed8a1a',\n",
       "       '0d215911-e63c-46ad-a063-653b709f8253',\n",
       "       '1039ad57-5293-4af8-acce-89edd244cc7a',\n",
       "       '224c8817-b026-4280-b546-04d6cb5388f7',\n",
       "       '2e4f721a-71de-465c-97c1-4bd8a4c7a5d4',\n",
       "       '40ec582a-987a-4135-af15-2c273b27ae87',\n",
       "       '78b9a69e-7ab0-4c26-bb02-21125956bd0a',\n",
       "       '86bfd834-db2c-44ee-8300-8f182be02533',\n",
       "       'b998c460-ce32-4abf-a6c8-d96caf7284c9',\n",
       "       'c50b7807-e77a-423f-bfe2-249f600a6498',\n",
       "       'd5d47990-2fbb-4eed-b467-f49476866cd0',\n",
       "       'e207e91b-f772-486c-bc7e-8ad924a50598',\n",
       "       'f7d50be8-6102-4e5c-abf2-b5a05bc1c168',\n",
       "       'f81817ac-49cb-47ed-a599-6b9ba011360d',\n",
       "       'ffadb36b-5051-4684-b9cf-ed767a599434'], dtype=object)"
      ]
     },
     "execution_count": 11,
     "metadata": {},
     "output_type": "execute_result"
    }
   ],
   "source": [
    "group_B_control_false['id'].unique()"
   ]
  },
  {
   "cell_type": "markdown",
   "id": "e1825aa5",
   "metadata": {},
   "source": [
    "## Split group by task type (T1/T2/T3)"
   ]
  },
  {
   "cell_type": "markdown",
   "id": "e7769a31",
   "metadata": {},
   "source": [
    "### A"
   ]
  },
  {
   "cell_type": "code",
   "execution_count": 12,
   "id": "1b8a20f6",
   "metadata": {},
   "outputs": [],
   "source": [
    "group_A_T1 = group_A[group_A['question'].str.contains('T1', case=False)]\n",
    "# group_A_T1"
   ]
  },
  {
   "cell_type": "code",
   "execution_count": 13,
   "id": "1f492888",
   "metadata": {},
   "outputs": [],
   "source": [
    "group_A_T2 = group_A[group_A['question'].str.contains('T2', case=False)]\n",
    "# group_A_T2"
   ]
  },
  {
   "cell_type": "code",
   "execution_count": 14,
   "id": "73977fcc",
   "metadata": {},
   "outputs": [],
   "source": [
    "group_A_T3 = group_A[group_A['question'].str.contains('T3', case=False)]\n",
    "# group_A_T3"
   ]
  },
  {
   "cell_type": "markdown",
   "id": "e3e6274a",
   "metadata": {},
   "source": [
    "### B"
   ]
  },
  {
   "cell_type": "code",
   "execution_count": 15,
   "id": "9898ab29",
   "metadata": {},
   "outputs": [],
   "source": [
    "group_B_T1 = group_B[group_B['question'].str.contains('T1', case=False)]\n",
    "# group_B_T1"
   ]
  },
  {
   "cell_type": "code",
   "execution_count": 16,
   "id": "bd22685a",
   "metadata": {},
   "outputs": [],
   "source": [
    "group_B_T2 = group_B[group_B['question'].str.contains('T2', case=False)]\n",
    "# group_B_T2"
   ]
  },
  {
   "cell_type": "code",
   "execution_count": 17,
   "id": "87e33571",
   "metadata": {},
   "outputs": [],
   "source": [
    "group_B_T3 = group_B[group_B['question'].str.contains('T3', case=False)]\n",
    "# group_B_T3"
   ]
  },
  {
   "cell_type": "markdown",
   "id": "39d49733",
   "metadata": {},
   "source": [
    "## Split by network representation "
   ]
  },
  {
   "cell_type": "markdown",
   "id": "f6f3ca28",
   "metadata": {},
   "source": [
    "### Node-Link A+B"
   ]
  },
  {
   "cell_type": "code",
   "execution_count": 18,
   "id": "be0bf835",
   "metadata": {},
   "outputs": [],
   "source": [
    "group_A_T1_NL = group_A_T1[group_A_T1['question'].str.contains('nl_', case=False)]\n",
    "group_A_T1_NL['temporal_enc'] = group_A_T1_NL['question'].str.upper().str[-2:]\n",
    "# group_A_T1_NL"
   ]
  },
  {
   "cell_type": "code",
   "execution_count": 19,
   "id": "e06fc242",
   "metadata": {},
   "outputs": [],
   "source": [
    "group_A_T2_NL = group_A_T2[group_A_T2['question'].str.contains('nl_', case=False)]\n",
    "group_A_T2_NL['temporal_enc'] = group_A_T2_NL['question'].str.upper().str[-2:]\n",
    "# group_A_T2_NL"
   ]
  },
  {
   "cell_type": "code",
   "execution_count": 20,
   "id": "1753665e",
   "metadata": {},
   "outputs": [],
   "source": [
    "group_A_T3_NL = group_A_T3[group_A_T3['question'].str.contains('nl_', case=False)]\n",
    "group_A_T3_NL['temporal_enc'] = group_A_T3_NL['question'].str.upper().str[-2:]\n",
    "# group_A_T3_NL"
   ]
  },
  {
   "cell_type": "code",
   "execution_count": 21,
   "id": "06bfb67b",
   "metadata": {},
   "outputs": [],
   "source": [
    "group_B_T1_NL = group_B_T1[group_B_T1['question'].str.contains('nl_', case=False)]\n",
    "group_B_T1_NL['temporal_enc'] = group_B_T1_NL['question'].str.upper().str[-2:]\n",
    "# group_B_T1_NL"
   ]
  },
  {
   "cell_type": "code",
   "execution_count": 22,
   "id": "eab68fec",
   "metadata": {},
   "outputs": [],
   "source": [
    "group_B_T2_NL = group_B_T2[group_B_T2['question'].str.contains('nl_', case=False)]\n",
    "group_B_T2_NL['temporal_enc'] = group_B_T2_NL['question'].str.upper().str[-2:]\n",
    "# group_B_T2_NL"
   ]
  },
  {
   "cell_type": "code",
   "execution_count": 23,
   "id": "5960ef6b",
   "metadata": {},
   "outputs": [],
   "source": [
    "group_B_T3_NL = group_B_T3[group_B_T3['question'].str.contains('nl_', case=False)]\n",
    "group_B_T3_NL['temporal_enc'] = group_B_T3_NL['question'].str.upper().str[-2:]\n",
    "# group_B_T3_NL"
   ]
  },
  {
   "cell_type": "markdown",
   "id": "9e10aec2",
   "metadata": {},
   "source": [
    "### Matrix A+B"
   ]
  },
  {
   "cell_type": "code",
   "execution_count": 24,
   "id": "75844e19",
   "metadata": {},
   "outputs": [],
   "source": [
    "group_A_T1_M = group_A_T1[group_A_T1['question'].str.contains('m_', case=False)]\n",
    "group_A_T1_M['temporal_enc'] = group_A_T1_M['question'].str.upper().str[-2:]\n",
    "# group_A_T1_M"
   ]
  },
  {
   "cell_type": "code",
   "execution_count": 25,
   "id": "38ca669b",
   "metadata": {},
   "outputs": [],
   "source": [
    "group_A_T2_M = group_A_T2[group_A_T2['question'].str.contains('m_', case=False)]\n",
    "group_A_T2_M['temporal_enc'] = group_A_T2_M['question'].str.upper().str[-2:]\n",
    "# group_A_T2_M"
   ]
  },
  {
   "cell_type": "code",
   "execution_count": 26,
   "id": "6dcfe45c",
   "metadata": {},
   "outputs": [],
   "source": [
    "group_A_T3_M = group_A_T3[group_A_T3['question'].str.contains('m_', case=False)]\n",
    "group_A_T3_M['temporal_enc'] = group_A_T3_M['question'].str.upper().str[-2:]\n",
    "# group_A_T3_M"
   ]
  },
  {
   "cell_type": "code",
   "execution_count": 27,
   "id": "ee85d8dd",
   "metadata": {},
   "outputs": [],
   "source": [
    "group_B_T1_M = group_B_T1[group_B_T1['question'].str.contains('m_', case=False)]\n",
    "group_B_T1_M['temporal_enc'] = group_B_T1_M['question'].str.upper().str[-2:]\n",
    "# group_B_T1_M"
   ]
  },
  {
   "cell_type": "code",
   "execution_count": 28,
   "id": "f4185f83",
   "metadata": {},
   "outputs": [],
   "source": [
    "group_B_T2_M = group_B_T2[group_B_T2['question'].str.contains('m_', case=False)]\n",
    "group_B_T2_M['temporal_enc'] = group_B_T2_M['question'].str.upper().str[-2:]\n",
    "# group_B_T2_M"
   ]
  },
  {
   "cell_type": "code",
   "execution_count": 29,
   "id": "50c8b55e",
   "metadata": {},
   "outputs": [],
   "source": [
    "group_B_T3_M = group_B_T3[group_B_T3['question'].str.contains('m_', case=False)]\n",
    "group_B_T3_M['temporal_enc'] = group_B_T3_M['question'].str.upper().str[-2:]\n",
    "# group_B_T3_M"
   ]
  },
  {
   "cell_type": "markdown",
   "id": "8e39e20b",
   "metadata": {},
   "source": [
    "## Bar and Whiskers Plots"
   ]
  },
  {
   "cell_type": "code",
   "execution_count": 30,
   "id": "0cfc7c74",
   "metadata": {},
   "outputs": [
    {
     "data": {
      "text/plain": [
       "[Text(0.5, 1.0, 'M T3')]"
      ]
     },
     "execution_count": 30,
     "metadata": {},
     "output_type": "execute_result"
    },
    {
     "data": {
      "image/png": "[encoded data removed]",
      "text/plain": [
       "<Figure size 1296x720 with 6 Axes>"
      ]
     },
     "metadata": {
      "needs_background": "light"
     },
     "output_type": "display_data"
    }
   ],
   "source": [
    "fig, axes = plt.subplots(2, 3, figsize=(18, 10))\n",
    "\n",
    "fig.suptitle('GROUP A: Node-Link vs Matrix per Task Category and Temporal Encoding')\n",
    "\n",
    "sns.boxplot(ax=axes[0, 0], data=group_A[(group_A['network_enc'] == 'nl') & (group_A['task_type'] == 't1')], x='time', y='temporal_enc').set(title='NL T1')\n",
    "sns.boxplot(ax=axes[0, 1], data=group_A[(group_A['network_enc'] == 'nl') & (group_A['task_type'] == 't2')], x='time', y='temporal_enc').set(title='NL T2')\n",
    "sns.boxplot(ax=axes[0, 2], data=group_A[(group_A['network_enc'] == 'nl') & (group_A['task_type'] == 't3')], x='time', y='temporal_enc').set(title='NL T3')\n",
    "sns.boxplot(ax=axes[1, 0], data=group_A[(group_A['network_enc'] == 'm') & (group_A['task_type'] == 't1')], x='time', y='temporal_enc').set(title='M T1')\n",
    "sns.boxplot(ax=axes[1, 1], data=group_A[(group_A['network_enc'] == 'm') & (group_A['task_type'] == 't2')], x='time', y='temporal_enc').set(title='M T2')\n",
    "sns.boxplot(ax=axes[1, 2], data=group_A[(group_A['network_enc'] == 'm') & (group_A['task_type'] == 't3')], x='time', y='temporal_enc').set(title='M T3')"
   ]
  },
  {
   "cell_type": "code",
   "execution_count": 31,
   "id": "fa4eb835",
   "metadata": {},
   "outputs": [
    {
     "data": {
      "text/plain": [
       "[Text(0.5, 1.0, 'M T3')]"
      ]
     },
     "execution_count": 31,
     "metadata": {},
     "output_type": "execute_result"
    },
    {
     "data": {
      "image/png": "[encoded data removed]",
      "text/plain": [
       "<Figure size 1296x720 with 6 Axes>"
      ]
     },
     "metadata": {
      "needs_background": "light"
     },
     "output_type": "display_data"
    }
   ],
   "source": [
    "fig, axes = plt.subplots(2, 3, figsize=(18, 10))\n",
    "\n",
    "fig.suptitle('GROUP B: Node-Link vs Matrix per Task Category and Temporal Encoding')\n",
    "\n",
    "sns.boxplot(ax=axes[0, 0], data=group_B[(group_B['network_enc'] == 'nl') & (group_B['task_type'] == 't1')], x='time', y='temporal_enc').set(title='NL T1')\n",
    "sns.boxplot(ax=axes[0, 1], data=group_B[(group_B['network_enc'] == 'nl') & (group_B['task_type'] == 't2')], x='time', y='temporal_enc').set(title='NL T2')\n",
    "sns.boxplot(ax=axes[0, 2], data=group_B[(group_B['network_enc'] == 'nl') & (group_B['task_type'] == 't3')], x='time', y='temporal_enc').set(title='NL T3')\n",
    "sns.boxplot(ax=axes[1, 0], data=group_B[(group_B['network_enc'] == 'm') & (group_B['task_type'] == 't1')], x='time', y='temporal_enc').set(title='M T1')\n",
    "sns.boxplot(ax=axes[1, 1], data=group_B[(group_B['network_enc'] == 'm') & (group_B['task_type'] == 't2')], x='time', y='temporal_enc').set(title='M T2')\n",
    "sns.boxplot(ax=axes[1, 2], data=group_B[(group_B['network_enc'] == 'm') & (group_B['task_type'] == 't3')], x='time', y='temporal_enc').set(title='M T3')"
   ]
  },
  {
   "cell_type": "code",
   "execution_count": 32,
   "id": "45cdfd03",
   "metadata": {
    "scrolled": false
   },
   "outputs": [
    {
     "data": {
      "image/png": "[encoded data removed]",
      "text/plain": [
       "<Figure size 1296x720 with 6 Axes>"
      ]
     },
     "metadata": {
      "needs_background": "light"
     },
     "output_type": "display_data"
    }
   ],
   "source": [
    "fig, axes = plt.subplots(2, 3, figsize=(18, 10))\n",
    "fig.suptitle('GROUP A: Node-Link vs Matrix per Task Category and Temporal Encoding - Correctness')\n",
    "\n",
    "df1 = group_A[(group_A['network_enc'] == 'nl') & (group_A['task_type'] == 't1')]\n",
    "df2 = group_A[(group_A['network_enc'] == 'nl') & (group_A['task_type'] == 't2')]\n",
    "df3 = group_A[(group_A['network_enc'] == 'nl') & (group_A['task_type'] == 't3')]\n",
    "df4 = group_A[(group_A['network_enc'] == 'm') & (group_A['task_type'] == 't1')]\n",
    "df5 = group_A[(group_A['network_enc'] == 'm') & (group_A['task_type'] == 't2')]\n",
    "df6 = group_A[(group_A['network_enc'] == 'm') & (group_A['task_type'] == 't3')]\n",
    "\n",
    "df_list = [df1 ,df2, df3, df4, df5, df6]\n",
    "titles = ['NL T1', 'NL T2', 'NL T3', 'M T1', 'M T2', 'M T3']\n",
    "\n",
    "# plot counter\n",
    "count=0\n",
    "for r in range(2):\n",
    "    for c in range(3):\n",
    "        pd.crosstab(df_list[count]['temporal_enc'], df_list[count]['correct'], normalize=\"index\").plot(ax=axes[r,c], kind=\"bar\",stacked=True).set(title=titles[count])\n",
    "        count+=1"
   ]
  },
  {
   "cell_type": "code",
   "execution_count": 33,
   "id": "e6fdac42",
   "metadata": {},
   "outputs": [
    {
     "data": {
      "text/plain": [
       "nl_t1_single_jp    20\n",
       "nl_t1_single_si    19\n",
       "nl_t1_clique_jp    19\n",
       "nl_t1_clique_si    19\n",
       "nl_t1_clique_an    19\n",
       "nl_t1_single_an    18\n",
       "nl_t1_single_tl    18\n",
       "nl_t1_clique_tl    17\n",
       "Name: question, dtype: int64"
      ]
     },
     "execution_count": 33,
     "metadata": {},
     "output_type": "execute_result"
    }
   ],
   "source": [
    "df1['question'].value_counts()"
   ]
  },
  {
   "cell_type": "code",
   "execution_count": 34,
   "id": "5d379c52",
   "metadata": {},
   "outputs": [
    {
     "data": {
      "image/png": "[encoded data removed]",
      "text/plain": [
       "<Figure size 1296x720 with 6 Axes>"
      ]
     },
     "metadata": {
      "needs_background": "light"
     },
     "output_type": "display_data"
    }
   ],
   "source": [
    "fig, axes = plt.subplots(2, 3, figsize=(18, 10))\n",
    "fig.suptitle('GROUP B: Node-Link vs Matrix per Task Category and Temporal Encoding - Correctness')\n",
    "\n",
    "df1 = group_B[(group_B['network_enc'] == 'nl') & (group_B['task_type'] == 't1')]\n",
    "df2 = group_B[(group_B['network_enc'] == 'nl') & (group_B['task_type'] == 't2')]\n",
    "df3 = group_B[(group_B['network_enc'] == 'nl') & (group_B['task_type'] == 't3')]\n",
    "df4 = group_B[(group_B['network_enc'] == 'm') & (group_B['task_type'] == 't1')]\n",
    "df5 = group_B[(group_B['network_enc'] == 'm') & (group_B['task_type'] == 't2')]\n",
    "df6 = group_B[(group_B['network_enc'] == 'm') & (group_B['task_type'] == 't3')]\n",
    "\n",
    "df_list = [df1 ,df2, df3, df4, df5, df6]\n",
    "titles = ['NL T1', 'NL T2', 'NL T3', 'M T1', 'M T2', 'M T3']\n",
    "\n",
    "# plot counter\n",
    "count=0\n",
    "for r in range(2):\n",
    "    for c in range(3):\n",
    "        pd.crosstab(df_list[count]['temporal_enc'], df_list[count]['correct'], normalize=\"index\").plot(ax=axes[r,c], kind=\"bar\",stacked=True).set(title=titles[count])\n",
    "        count+=1"
   ]
  },
  {
   "cell_type": "code",
   "execution_count": 35,
   "id": "97c1a10d",
   "metadata": {},
   "outputs": [
    {
     "data": {
      "text/plain": [
       "nl_t1_single_tl    63\n",
       "nl_t1_clique_jp    63\n",
       "nl_t1_single_si    60\n",
       "nl_t1_single_an    60\n",
       "nl_t1_single_jp    60\n",
       "nl_t1_clique_tl    60\n",
       "nl_t1_clique_an    58\n",
       "nl_t1_clique_si    58\n",
       "Name: question, dtype: int64"
      ]
     },
     "execution_count": 35,
     "metadata": {},
     "output_type": "execute_result"
    }
   ],
   "source": [
    "df1['question'].value_counts()"
   ]
  },
  {
   "cell_type": "markdown",
   "id": "26f46113",
   "metadata": {},
   "source": [
    "## Normality Tests"
   ]
  },
  {
   "cell_type": "code",
   "execution_count": 36,
   "id": "66a8acce",
   "metadata": {},
   "outputs": [
    {
     "name": "stdout",
     "output_type": "stream",
     "text": [
      "Couldn't find program: 'false'\n"
     ]
    }
   ],
   "source": [
    "%%script false\n",
    "\n",
    "# GRP A NL\n",
    "group_A_T1_NL_time = group_A_T1_NL['time'] # Not normally distributed\n",
    "group_A_T1_NL_correctness = group_A_T1_NL['correct'] \n",
    "group_A_T1_NL_confidence = group_A_T1_NL['confidence'] # Not normally distributed\n",
    "group_A_T1_NL_answers = group_A_T1_NL['answer'] # Not normally distributed\n",
    "\n",
    "group_A_T2_NL_time = group_A_T2_NL['time'] # Not normally distributed\n",
    "group_A_T2_NL_correctness = group_A_T2_NL['correct']\n",
    "group_A_T2_NL_confidence = group_A_T2_NL['confidence'] # Not normally distributed\n",
    "group_A_T2_NL_answers = group_A_T2_NL['answer'] # Not normally distributed\n",
    "\n",
    "group_A_T3_NL_time = group_A_T3_NL['time'] # Not normally distributed\n",
    "group_A_T3_NL_correctness = group_A_T3_NL['correct'] \n",
    "group_A_T3_NL_confidence = group_A_T3_NL['confidence'] # Not normally distributed\n",
    "group_A_T3_NL_answers = group_A_T3_NL['answer'] # Not normally distributed\n",
    "\n",
    "# GRP A M\n",
    "group_A_T1_M_time = group_A_T1_NL['time'] # Not normally distributed\n",
    "group_A_T1_M_correctness = group_A_T1_M['correct'] \n",
    "group_A_T1_M_confidence = group_A_T1_M['confidence'] # Not normally distributed\n",
    "group_A_T1_M_answers = group_A_T1_M['answer'] # Not normally distributed\n",
    "\n",
    "group_A_T2_M_time = group_A_T2_M['time'] # Not normally distributed\n",
    "group_A_T2_M_correctness = group_A_T2_M['correct']\n",
    "group_A_T2_M_confidence = group_A_T2_M['confidence'] # Not normally distributed\n",
    "group_A_T2_M_answers = group_A_T2_M['answer'] # Not normally distributed\n",
    "\n",
    "group_A_T3_M_time = group_A_T3_M['time'] # Not normally distributed\n",
    "group_A_T3_M_correctness = group_A_T3_M['correct'] \n",
    "group_A_T3_M_confidence = group_A_T3_M['confidence'] # Not normally distributed\n",
    "group_A_T3_M_answers = group_A_T3_M['answer'] # Not normally distributed\n",
    "\n",
    "# GRP B NL\n",
    "group_B_T1_NL_time = group_B_T1_NL['time'] # Not normally distributed\n",
    "group_B_T1_NL_correctness = group_B_T1_NL['correct']\n",
    "group_B_T1_NL_confidence = group_B_T1_NL['confidence'] # Not normally distributed\n",
    "group_B_T1_NL_answers = group_B_T1_NL['answer'] # Not normally distributed\n",
    "\n",
    "group_B_T2_NL_time = group_B_T2_NL['time'] # Not normally distributed\n",
    "group_B_T2_NL_correctness = group_B_T2_NL['correct']\n",
    "group_B_T2_NL_confidence = group_B_T2_NL['confidence'] # Not normally distributed\n",
    "group_B_T2_NL_answers = group_B_T2_NL['answer'] # Not normally distributed\n",
    "\n",
    "group_B_T3_NL_time = group_B_T3_NL['time'] # Not normally distributed\n",
    "group_B_T3_NL_correctness = group_B_T3_NL['correct']\n",
    "group_B_T3_NL_confidence = group_B_T3_NL['confidence'] # Not normally distributed\n",
    "group_B_T3_NL_answers = group_B_T3_NL['answer'] # Not normally distributed\n",
    "\n",
    "#GRP B M\n",
    "group_B_T1_M_time = group_B_T1_NL['time'] # Not normally distributed \n",
    "group_B_T1_M_correctness = group_B_T1_M['correct']\n",
    "group_B_T1_M_confidence = group_B_T1_M['confidence'] # Not normally distributed\n",
    "group_B_T1_M_answers = group_B_T1_M['answer'] # Not normally distributed\n",
    "\n",
    "group_B_T2_M_time = group_B_T2_M['time'] # Not normally distributed\n",
    "group_B_T2_M_correctness = group_B_T2_M['correct']\n",
    "group_B_T2_M_confidence = group_B_T2_M['confidence'] # Not normally distributed\n",
    "group_B_T2_M_answers = group_B_T2_M['answer'] # Not normally distributed\n",
    "\n",
    "group_B_T3_M_time = group_B_T3_M['time'] # Not normally distributed\n",
    "group_B_T3_M_correctness = group_B_T3_M['correct']\n",
    "group_B_T3_M_confidence = group_B_T3_M['confidence'] # Not normally distributed\n",
    "group_B_T3_M_answers = group_B_T3_M['answer'] # Not normally distributed\n"
   ]
  },
  {
   "cell_type": "markdown",
   "id": "44a09b22",
   "metadata": {},
   "source": [
    "## Outlier removal"
   ]
  },
  {
   "cell_type": "code",
   "execution_count": 37,
   "id": "eafe23e9",
   "metadata": {},
   "outputs": [],
   "source": [
    "def remove_outliers(df, col, lower_perc, higher_perc):\n",
    "    for x in [col]:\n",
    "        # Np.percentile uses a normal distribution\n",
    "        # check parameters for skewed distributions (https://numpy.org/doc/stable/reference/generated/numpy.percentile.html) \n",
    "        # normalize before and match to a distribution using mean/variance/std \n",
    "        q75,q25 = np.percentile(df.loc[:,x],[higher_perc,lower_perc])\n",
    "        intr_qr = q75-q25\n",
    "\n",
    "        max = q75+(1.5*intr_qr)\n",
    "        min = q25-(1.5*intr_qr)\n",
    "\n",
    "        df.loc[df[x] < min,x] = np.nan\n",
    "        df.loc[df[x] > max,x] = np.nan\n",
    "        \n",
    "        df.isnull().sum()\n",
    "        df = df.dropna(axis = 0)\n",
    "    return df"
   ]
  },
  {
   "cell_type": "code",
   "execution_count": 38,
   "id": "ef19c523",
   "metadata": {},
   "outputs": [
    {
     "name": "stdout",
     "output_type": "stream",
     "text": [
      "Couldn't find program: 'false'\n"
     ]
    }
   ],
   "source": [
    "%%script false\n",
    "\n",
    "# GRP A NL\n",
    "group_A_T1_NL_cleaned = remove_outliers(group_A_T1_NL, 'time', 25, 75)\n",
    "group_A_T1_NL_cleaned = remove_outliers(group_A_T1_NL, 'time', 25, 75)\n",
    "group_A_T1_NL_cleaned = remove_outliers(group_A_T1_NL, 'time', 25, 75)\n",
    "\n",
    "group_A_T2_NL_cleaned = remove_outliers(group_A_T2_NL, 'time', 25, 75)\n",
    "group_A_T2_NL_cleaned = remove_outliers(group_A_T2_NL, 'time', 25, 75)\n",
    "group_A_T2_NL_cleaned = remove_outliers(group_A_T2_NL, 'time', 25, 75)\n",
    "\n",
    "group_A_T3_NL_cleaned = remove_outliers(group_A_T3_NL, 'time', 25, 75)\n",
    "group_A_T3_NL_cleaned = remove_outliers(group_A_T3_NL, 'time', 25, 75)\n",
    "group_A_T3_NL_cleaned = remove_outliers(group_A_T3_NL, 'time', 25, 75)\n",
    "\n",
    "# GRP A M\n",
    "group_A_T1_M_cleaned = remove_outliers(group_A_T1_M, 'time', 25, 75)\n",
    "group_A_T1_M_cleaned = remove_outliers(group_A_T1_M, 'time', 25, 75)\n",
    "group_A_T1_M_cleaned = remove_outliers(group_A_T1_M, 'time', 25, 75)\n",
    "\n",
    "group_A_T2_M_cleaned = remove_outliers(group_A_T2_M, 'time', 25, 75)\n",
    "group_A_T2_M_cleaned = remove_outliers(group_A_T2_M, 'time', 25, 75)\n",
    "group_A_T2_M_cleaned = remove_outliers(group_A_T2_M, 'time', 25, 75)\n",
    "\n",
    "group_A_T3_M_cleaned = remove_outliers(group_A_T3_M, 'time', 25, 75)\n",
    "group_A_T3_M_cleaned = remove_outliers(group_A_T3_M, 'time', 25, 75)\n",
    "group_A_T3_M_cleaned = remove_outliers(group_A_T3_M, 'time', 25, 75)\n",
    "\n",
    "# GRP B NL\n",
    "group_B_T1_NL_cleaned = remove_outliers(group_B_T1_NL, 'time', 25, 75)\n",
    "group_B_T1_NL_cleaned = remove_outliers(group_B_T1_NL, 'time', 25, 75)\n",
    "group_B_T1_NL_cleaned = remove_outliers(group_B_T1_NL, 'time', 25, 75)\n",
    "\n",
    "group_B_T2_NL_cleaned = remove_outliers(group_B_T2_NL, 'time', 25, 75)\n",
    "group_B_T2_NL_cleaned = remove_outliers(group_B_T2_NL, 'time', 25, 75)\n",
    "group_B_T2_NL_cleaned = remove_outliers(group_B_T2_NL, 'time', 25, 75)\n",
    "\n",
    "group_B_T3_NL_cleaned = remove_outliers(group_B_T3_NL, 'time', 25, 75)\n",
    "group_B_T3_NL_cleaned = remove_outliers(group_B_T3_NL, 'time', 25, 75)\n",
    "group_B_T3_NL_cleaned = remove_outliers(group_B_T3_NL, 'time', 25, 75)\n",
    "\n",
    "# GRP B M\n",
    "group_B_T1_M_cleaned = remove_outliers(group_B_T1_M, 'time', 25, 75)\n",
    "group_B_T1_M_cleaned = remove_outliers(group_B_T1_M, 'time', 25, 75)\n",
    "group_B_T1_M_cleaned = remove_outliers(group_B_T1_M, 'time', 25, 75)\n",
    "\n",
    "group_B_T2_M_cleaned = remove_outliers(group_B_T2_M, 'time', 25, 75)\n",
    "group_B_T2_M_cleaned = remove_outliers(group_B_T2_M, 'time', 25, 75)\n",
    "group_B_T2_M_cleaned = remove_outliers(group_B_T2_M, 'time', 25, 75)\n",
    "\n",
    "group_B_T3_M_cleaned = remove_outliers(group_B_T3_M, 'time', 25, 75)\n",
    "group_B_T3_M_cleaned = remove_outliers(group_B_T3_M, 'time', 25, 75)\n",
    "group_B_T3_M_cleaned = remove_outliers(group_B_T3_M, 'time', 25, 75)"
   ]
  },
  {
   "cell_type": "markdown",
   "id": "fdb5fb92",
   "metadata": {},
   "source": [
    "### Histograms"
   ]
  },
  {
   "cell_type": "code",
   "execution_count": 39,
   "id": "1843d8d8",
   "metadata": {},
   "outputs": [],
   "source": [
    "def plot_hist(data):\n",
    "    pyplot.hist(data)"
   ]
  },
  {
   "cell_type": "code",
   "execution_count": 40,
   "id": "02532c95",
   "metadata": {},
   "outputs": [
    {
     "name": "stdout",
     "output_type": "stream",
     "text": [
      "Couldn't find program: 'false'\n"
     ]
    }
   ],
   "source": [
    "%%script false\n",
    "plot_hist(group_A_T3_NL_cleaned['time'])"
   ]
  },
  {
   "cell_type": "code",
   "execution_count": 41,
   "id": "d3ed50d5",
   "metadata": {},
   "outputs": [
    {
     "name": "stdout",
     "output_type": "stream",
     "text": [
      "Couldn't find program: 'false'\n"
     ]
    }
   ],
   "source": [
    "%%script false\n",
    "plot_hist(group_A_T3_NL_time)"
   ]
  },
  {
   "cell_type": "code",
   "execution_count": 42,
   "id": "b5903617",
   "metadata": {},
   "outputs": [
    {
     "name": "stdout",
     "output_type": "stream",
     "text": [
      "Couldn't find program: 'false'\n"
     ]
    }
   ],
   "source": [
    "%%script false\n",
    "plot_hist(group_B_T3_M_cleaned['answer'])"
   ]
  },
  {
   "cell_type": "code",
   "execution_count": 43,
   "id": "f0aa396a",
   "metadata": {},
   "outputs": [
    {
     "name": "stdout",
     "output_type": "stream",
     "text": [
      "Couldn't find program: 'false'\n"
     ]
    }
   ],
   "source": [
    "%%script false\n",
    "plot_hist(group_B_T3_M_cleaned['correct'])"
   ]
  },
  {
   "cell_type": "code",
   "execution_count": 44,
   "id": "d2fa2ebc",
   "metadata": {},
   "outputs": [
    {
     "name": "stdout",
     "output_type": "stream",
     "text": [
      "Couldn't find program: 'false'\n"
     ]
    }
   ],
   "source": [
    "%%script false\n",
    "plot_hist(group_B_T3_M_cleaned['confidence'])"
   ]
  },
  {
   "cell_type": "markdown",
   "id": "b4e9c327",
   "metadata": {},
   "source": [
    "### Shapiro-Wilk Test"
   ]
  },
  {
   "cell_type": "code",
   "execution_count": 45,
   "id": "de1f7113",
   "metadata": {},
   "outputs": [],
   "source": [
    "def shapiro_wilk(data):\n",
    "    stat, p = shapiro(data)\n",
    "    print('Statistics=%.3f, p=%.3f' % (stat, p))\n",
    "    # interpret\n",
    "    alpha = 0.05\n",
    "    if p > alpha:\n",
    "        print('Sample looks Gaussian (fail to reject H0)')\n",
    "    else:\n",
    "        print('Sample does not look Gaussian (reject H0)')"
   ]
  },
  {
   "cell_type": "code",
   "execution_count": 46,
   "id": "513d297a",
   "metadata": {},
   "outputs": [
    {
     "name": "stdout",
     "output_type": "stream",
     "text": [
      "Couldn't find program: 'false'\n"
     ]
    }
   ],
   "source": [
    "%%script false\n",
    "shapiro_wilk(group_B_T3_M_cleaned['time'])"
   ]
  },
  {
   "cell_type": "code",
   "execution_count": 47,
   "id": "51b57728",
   "metadata": {},
   "outputs": [
    {
     "name": "stdout",
     "output_type": "stream",
     "text": [
      "Couldn't find program: 'false'\n"
     ]
    }
   ],
   "source": [
    "%%script false\n",
    "shapiro_wilk(group_B_T3_M_cleaned['confidence'])"
   ]
  },
  {
   "cell_type": "code",
   "execution_count": 48,
   "id": "5ca7b9ea",
   "metadata": {},
   "outputs": [
    {
     "name": "stdout",
     "output_type": "stream",
     "text": [
      "Couldn't find program: 'false'\n"
     ]
    }
   ],
   "source": [
    "%%script false\n",
    "shapiro_wilk(group_B_T3_M_cleaned['answer'])"
   ]
  },
  {
   "cell_type": "markdown",
   "id": "7e4f856d",
   "metadata": {},
   "source": [
    "## Homogeneity Tests"
   ]
  },
  {
   "cell_type": "code",
   "execution_count": 49,
   "id": "7681b817",
   "metadata": {},
   "outputs": [],
   "source": [
    "# not normally distributed data so use Levene's test \n",
    "# https://www.marsja.se/levenes-bartletts-test-of-equality-homogeneity-of-variance-in-python/"
   ]
  },
  {
   "cell_type": "code",
   "execution_count": 50,
   "id": "99482dfb",
   "metadata": {},
   "outputs": [],
   "source": [
    "def levene_test(arr1, arr2, arr3, arr4, center):\n",
    "    stat, p = levene(arr1, arr2, arr3, arr4, center=center)\n",
    "    print('Statistics=%.3f, p=%.3f' % (stat, p))"
   ]
  },
  {
   "cell_type": "code",
   "execution_count": 51,
   "id": "74165b93",
   "metadata": {},
   "outputs": [
    {
     "name": "stdout",
     "output_type": "stream",
     "text": [
      "Couldn't find program: 'false'\n"
     ]
    }
   ],
   "source": [
    "%%script false\n",
    "\n",
    "# GRP A NL\n",
    "grp_A_NL_T1_JP = group_A_T1_NL_cleaned[group_A_T1_NL_cleaned['temporal_enc']=='JP']['time']\n",
    "grp_A_NL_T1_SI = group_A_T1_NL_cleaned[group_A_T1_NL_cleaned['temporal_enc']=='SI']['time']\n",
    "grp_A_NL_T1_AN = group_A_T1_NL_cleaned[group_A_T1_NL_cleaned['temporal_enc']=='AN']['time']\n",
    "grp_A_NL_T1_TL = group_A_T1_NL_cleaned[group_A_T1_NL_cleaned['temporal_enc']=='TL']['time']\n",
    "\n",
    "grp_A_NL_T2_JP = group_A_T2_NL_cleaned[group_A_T2_NL_cleaned['temporal_enc']=='JP']['time']\n",
    "grp_A_NL_T2_SI = group_A_T2_NL_cleaned[group_A_T2_NL_cleaned['temporal_enc']=='SI']['time']\n",
    "grp_A_NL_T2_AN = group_A_T2_NL_cleaned[group_A_T2_NL_cleaned['temporal_enc']=='AN']['time']\n",
    "grp_A_NL_T2_TL = group_A_T2_NL_cleaned[group_A_T2_NL_cleaned['temporal_enc']=='TL']['time']\n",
    "\n",
    "grp_A_NL_T3_JP = group_A_T3_NL_cleaned[group_A_T3_NL_cleaned['temporal_enc']=='JP']['time']\n",
    "grp_A_NL_T3_SI = group_A_T3_NL_cleaned[group_A_T3_NL_cleaned['temporal_enc']=='SI']['time']\n",
    "grp_A_NL_T3_AN = group_A_T3_NL_cleaned[group_A_T3_NL_cleaned['temporal_enc']=='AN']['time']\n",
    "grp_A_NL_T3_TL = group_A_T3_NL_cleaned[group_A_T3_NL_cleaned['temporal_enc']=='TL']['time']\n",
    "\n",
    "# GRP A M\n",
    "grp_A_M_T1_JP = group_A_T1_M_cleaned[group_A_T1_M_cleaned['temporal_enc']=='JP']['time']\n",
    "grp_A_M_T1_SI = group_A_T1_M_cleaned[group_A_T1_M_cleaned['temporal_enc']=='SI']['time']\n",
    "grp_A_M_T1_AN = group_A_T1_M_cleaned[group_A_T1_M_cleaned['temporal_enc']=='AN']['time']\n",
    "grp_A_M_T1_TL = group_A_T1_M_cleaned[group_A_T1_M_cleaned['temporal_enc']=='TL']['time']\n",
    "\n",
    "grp_A_M_T2_JP = group_A_T2_M_cleaned[group_A_T2_M_cleaned['temporal_enc']=='JP']['time']\n",
    "grp_A_M_T2_SI = group_A_T2_M_cleaned[group_A_T2_M_cleaned['temporal_enc']=='SI']['time']\n",
    "grp_A_M_T2_AN = group_A_T2_M_cleaned[group_A_T2_M_cleaned['temporal_enc']=='AN']['time']\n",
    "grp_A_M_T2_TL = group_A_T2_M_cleaned[group_A_T2_M_cleaned['temporal_enc']=='TL']['time']\n",
    "\n",
    "grp_A_M_T3_JP = group_A_T3_M_cleaned[group_A_T3_M_cleaned['temporal_enc']=='JP']['time']\n",
    "grp_A_M_T3_SI = group_A_T3_M_cleaned[group_A_T3_M_cleaned['temporal_enc']=='SI']['time']\n",
    "grp_A_M_T3_AN = group_A_T3_M_cleaned[group_A_T3_M_cleaned['temporal_enc']=='AN']['time']\n",
    "grp_A_M_T3_TL = group_A_T3_M_cleaned[group_A_T3_M_cleaned['temporal_enc']=='TL']['time']\n",
    "\n",
    "# GRP B NL\n",
    "grp_B_NL_T1_JP = group_B_T1_NL_cleaned[group_B_T1_NL_cleaned['temporal_enc']=='JP']['time']\n",
    "grp_B_NL_T1_SI = group_B_T1_NL_cleaned[group_B_T1_NL_cleaned['temporal_enc']=='SI']['time']\n",
    "grp_B_NL_T1_AN = group_B_T1_NL_cleaned[group_B_T1_NL_cleaned['temporal_enc']=='AN']['time']\n",
    "grp_B_NL_T1_TL = group_B_T1_NL_cleaned[group_B_T1_NL_cleaned['temporal_enc']=='TL']['time']\n",
    "\n",
    "grp_B_NL_T2_JP = group_B_T2_NL_cleaned[group_B_T2_NL_cleaned['temporal_enc']=='JP']['time']\n",
    "grp_B_NL_T2_SI = group_B_T2_NL_cleaned[group_B_T2_NL_cleaned['temporal_enc']=='SI']['time']\n",
    "grp_B_NL_T2_AN = group_B_T2_NL_cleaned[group_B_T2_NL_cleaned['temporal_enc']=='AN']['time']\n",
    "grp_B_NL_T2_TL = group_B_T2_NL_cleaned[group_B_T2_NL_cleaned['temporal_enc']=='TL']['time']\n",
    "\n",
    "grp_B_NL_T3_JP = group_B_T3_NL_cleaned[group_B_T3_NL_cleaned['temporal_enc']=='JP']['time']\n",
    "grp_B_NL_T3_SI = group_B_T3_NL_cleaned[group_B_T3_NL_cleaned['temporal_enc']=='SI']['time']\n",
    "grp_B_NL_T3_AN = group_B_T3_NL_cleaned[group_B_T3_NL_cleaned['temporal_enc']=='AN']['time']\n",
    "grp_B_NL_T3_TL = group_B_T3_NL_cleaned[group_B_T3_NL_cleaned['temporal_enc']=='TL']['time']\n",
    "\n",
    "# GRP A M\n",
    "grp_B_M_T1_JP = group_B_T1_M_cleaned[group_B_T1_M_cleaned['temporal_enc']=='JP']['time']\n",
    "grp_B_M_T1_SI = group_B_T1_M_cleaned[group_B_T1_M_cleaned['temporal_enc']=='SI']['time']\n",
    "grp_B_M_T1_AN = group_B_T1_M_cleaned[group_B_T1_M_cleaned['temporal_enc']=='AN']['time']\n",
    "grp_B_M_T1_TL = group_B_T1_M_cleaned[group_B_T1_M_cleaned['temporal_enc']=='TL']['time']\n",
    "\n",
    "grp_B_M_T2_JP = group_B_T2_M_cleaned[group_B_T2_M_cleaned['temporal_enc']=='JP']['time']\n",
    "grp_B_M_T2_SI = group_B_T2_M_cleaned[group_B_T2_M_cleaned['temporal_enc']=='SI']['time']\n",
    "grp_B_M_T2_AN = group_B_T2_M_cleaned[group_B_T2_M_cleaned['temporal_enc']=='AN']['time']\n",
    "grp_B_M_T2_TL = group_B_T2_M_cleaned[group_B_T2_M_cleaned['temporal_enc']=='TL']['time']\n",
    "\n",
    "grp_B_M_T3_JP = group_B_T3_M_cleaned[group_B_T3_M_cleaned['temporal_enc']=='JP']['time']\n",
    "grp_B_M_T3_SI = group_B_T3_M_cleaned[group_B_T3_M_cleaned['temporal_enc']=='SI']['time']\n",
    "grp_B_M_T3_AN = group_B_T3_M_cleaned[group_B_T3_M_cleaned['temporal_enc']=='AN']['time']\n",
    "grp_B_M_T3_TL = group_B_T3_M_cleaned[group_B_T3_M_cleaned['temporal_enc']=='TL']['time']"
   ]
  },
  {
   "cell_type": "markdown",
   "id": "1326efd5",
   "metadata": {},
   "source": [
    "### Group A (NL and M - all tasks)"
   ]
  },
  {
   "cell_type": "code",
   "execution_count": 52,
   "id": "e33e4755",
   "metadata": {},
   "outputs": [
    {
     "name": "stdout",
     "output_type": "stream",
     "text": [
      "Couldn't find program: 'false'\n"
     ]
    }
   ],
   "source": [
    "%%script false\n",
    "levene_test(grp_A_NL_T1_JP, grp_A_NL_T1_SI, grp_A_NL_T1_AN, grp_A_NL_T1_TL, 'trimmed')"
   ]
  },
  {
   "cell_type": "code",
   "execution_count": 53,
   "id": "2dc01dcf",
   "metadata": {},
   "outputs": [
    {
     "name": "stdout",
     "output_type": "stream",
     "text": [
      "Couldn't find program: 'false'\n"
     ]
    }
   ],
   "source": [
    "%%script false\n",
    "levene_test(grp_A_NL_T2_JP, grp_A_NL_T2_SI, grp_A_NL_T2_AN, grp_A_NL_T2_TL, 'median')"
   ]
  },
  {
   "cell_type": "code",
   "execution_count": 54,
   "id": "0c908790",
   "metadata": {},
   "outputs": [
    {
     "name": "stdout",
     "output_type": "stream",
     "text": [
      "Couldn't find program: 'false'\n"
     ]
    }
   ],
   "source": [
    "%%script false\n",
    "levene_test(grp_A_NL_T3_JP, grp_A_NL_T3_SI, grp_A_NL_T3_AN, grp_A_NL_T3_TL, 'median')"
   ]
  },
  {
   "cell_type": "code",
   "execution_count": 55,
   "id": "e852ff16",
   "metadata": {},
   "outputs": [
    {
     "name": "stdout",
     "output_type": "stream",
     "text": [
      "Couldn't find program: 'false'\n"
     ]
    }
   ],
   "source": [
    "%%script false\n",
    "levene_test(grp_A_M_T1_JP, grp_A_M_T1_SI, grp_A_M_T1_AN, grp_A_M_T1_TL, 'median')"
   ]
  },
  {
   "cell_type": "code",
   "execution_count": 56,
   "id": "0d675d5e",
   "metadata": {},
   "outputs": [
    {
     "name": "stdout",
     "output_type": "stream",
     "text": [
      "Couldn't find program: 'false'\n"
     ]
    }
   ],
   "source": [
    "%%script false\n",
    "levene_test(grp_A_M_T2_JP, grp_A_M_T2_SI, grp_A_M_T2_AN, grp_A_M_T2_TL, 'median')"
   ]
  },
  {
   "cell_type": "code",
   "execution_count": 57,
   "id": "1983881a",
   "metadata": {},
   "outputs": [
    {
     "name": "stdout",
     "output_type": "stream",
     "text": [
      "Couldn't find program: 'false'\n"
     ]
    }
   ],
   "source": [
    "%%script false\n",
    "levene_test(grp_A_M_T3_JP, grp_A_M_T3_SI, grp_A_M_T3_AN, grp_A_M_T3_TL, 'median')"
   ]
  },
  {
   "cell_type": "markdown",
   "id": "485e04d9",
   "metadata": {},
   "source": [
    "### Group B (NL and M - all tasks)"
   ]
  },
  {
   "cell_type": "code",
   "execution_count": 58,
   "id": "662ecdff",
   "metadata": {},
   "outputs": [
    {
     "name": "stdout",
     "output_type": "stream",
     "text": [
      "Couldn't find program: 'false'\n"
     ]
    }
   ],
   "source": [
    "%%script false\n",
    "levene_test(grp_B_NL_T1_JP, grp_B_NL_T1_SI, grp_B_NL_T1_AN, grp_B_NL_T1_TL, 'median')"
   ]
  },
  {
   "cell_type": "code",
   "execution_count": 59,
   "id": "103e970b",
   "metadata": {},
   "outputs": [
    {
     "name": "stdout",
     "output_type": "stream",
     "text": [
      "Couldn't find program: 'false'\n"
     ]
    }
   ],
   "source": [
    "%%script false\n",
    "levene_test(grp_B_NL_T2_JP, grp_B_NL_T2_SI, grp_B_NL_T2_AN, grp_B_NL_T2_TL, 'median')"
   ]
  },
  {
   "cell_type": "code",
   "execution_count": 60,
   "id": "713f605a",
   "metadata": {},
   "outputs": [
    {
     "name": "stdout",
     "output_type": "stream",
     "text": [
      "Couldn't find program: 'false'\n"
     ]
    }
   ],
   "source": [
    "%%script false\n",
    "levene_test(grp_B_NL_T3_JP, grp_B_NL_T3_SI, grp_B_NL_T3_AN, grp_B_NL_T3_TL, 'median')"
   ]
  },
  {
   "cell_type": "code",
   "execution_count": 61,
   "id": "91556c94",
   "metadata": {},
   "outputs": [
    {
     "name": "stdout",
     "output_type": "stream",
     "text": [
      "Couldn't find program: 'false'\n"
     ]
    }
   ],
   "source": [
    "%%script false\n",
    "levene_test(grp_B_M_T1_JP, grp_B_M_T1_SI, grp_B_M_T1_AN, grp_B_M_T1_TL, 'median')"
   ]
  },
  {
   "cell_type": "code",
   "execution_count": 62,
   "id": "b2a4c5f2",
   "metadata": {},
   "outputs": [
    {
     "name": "stdout",
     "output_type": "stream",
     "text": [
      "Couldn't find program: 'false'\n"
     ]
    }
   ],
   "source": [
    "%%script false\n",
    "levene_test(grp_B_M_T2_JP, grp_B_M_T2_SI, grp_B_M_T2_AN, grp_B_M_T2_TL, 'median')"
   ]
  },
  {
   "cell_type": "code",
   "execution_count": 63,
   "id": "569686e6",
   "metadata": {},
   "outputs": [
    {
     "name": "stdout",
     "output_type": "stream",
     "text": [
      "Couldn't find program: 'false'\n"
     ]
    }
   ],
   "source": [
    "%%script false\n",
    "levene_test(grp_B_M_T3_JP, grp_B_M_T3_SI, grp_B_M_T3_AN, grp_B_M_T3_TL, 'median')"
   ]
  },
  {
   "cell_type": "markdown",
   "id": "464bfd0d",
   "metadata": {},
   "source": [
    "## Distribution Fitting"
   ]
  },
  {
   "cell_type": "code",
   "execution_count": 64,
   "id": "e3662290",
   "metadata": {},
   "outputs": [],
   "source": [
    "def test_distribution(time_orig, time_trans):\n",
    "    fig, (ax1, ax2) = plt.subplots(1, 2, figsize=(8, 4))\n",
    "\n",
    "    prob = probplot(time_orig, dist=norm, plot=ax1)\n",
    "    prob = probplot(time_trans, dist=norm, plot=ax2)\n",
    "\n",
    "    ax1.set_title('Original Data')\n",
    "    ax1.set_ylabel('Time Taken')\n",
    "    ax2.set_title('Transforamed Data, λ = %s' % -0.322);\n",
    "    ax2.set_ylabel('');"
   ]
  },
  {
   "cell_type": "code",
   "execution_count": 65,
   "id": "f413c804",
   "metadata": {},
   "outputs": [],
   "source": [
    "def box_cox(df):\n",
    "    df_trans, lmbda = boxcox(df)\n",
    "    return df_trans"
   ]
  },
  {
   "cell_type": "code",
   "execution_count": 66,
   "id": "ba68c57d",
   "metadata": {},
   "outputs": [
    {
     "data": {
      "image/png": "[encoded data removed]",
      "text/plain": [
       "<Figure size 576x288 with 2 Axes>"
      ]
     },
     "metadata": {
      "needs_background": "light"
     },
     "output_type": "display_data"
    }
   ],
   "source": [
    "grp_A_T1_NL_time = group_A_T1_NL['time']\n",
    "grp_A_T1_NL_time_trans = box_cox(grp_A_T1_NL_time)\n",
    "test_distribution(grp_A_T1_NL_time, grp_A_T1_NL_time_trans)"
   ]
  },
  {
   "cell_type": "code",
   "execution_count": 83,
   "id": "671a5092",
   "metadata": {},
   "outputs": [
    {
     "data": {
      "image/png": "[encoded data removed]",
      "text/plain": [
       "<Figure size 576x288 with 2 Axes>"
      ]
     },
     "metadata": {
      "needs_background": "light"
     },
     "output_type": "display_data"
    }
   ],
   "source": [
    "grp_A_T1_NL_rem = remove_outliers(group_A_T1_NL, 'time', 5, 95)\n",
    "\n",
    "grp_A_T1_NL_rem_time = grp_A_T1_NL_rem['time']\n",
    "grp_A_T1_NL_rem_time_trans = box_cox(grp_A_T1_NL_rem_time)\n",
    "test_distribution(grp_A_T1_NL_rem_time, grp_A_T1_NL_rem_time_trans)\n"
   ]
  },
  {
   "cell_type": "code",
   "execution_count": 71,
   "id": "ea2ee3cf",
   "metadata": {},
   "outputs": [
    {
     "data": {
      "image/png": "[encoded data removed]",
      "text/plain": [
       "<Figure size 576x288 with 2 Axes>"
      ]
     },
     "metadata": {
      "needs_background": "light"
     },
     "output_type": "display_data"
    }
   ],
   "source": [
    "grp_A_T2_NL_time = group_A_T2_NL['time']\n",
    "grp_A_T2_NL_time_trans = box_cox(grp_A_T2_NL_time)\n",
    "test_distribution(grp_A_T2_NL_time, grp_A_T2_NL_time_trans)"
   ]
  },
  {
   "cell_type": "code",
   "execution_count": 72,
   "id": "b8a82736",
   "metadata": {},
   "outputs": [
    {
     "data": {
      "image/png": "[encoded data removed]",
      "text/plain": [
       "<Figure size 576x288 with 2 Axes>"
      ]
     },
     "metadata": {
      "needs_background": "light"
     },
     "output_type": "display_data"
    }
   ],
   "source": [
    "grp_A_T3_NL_time = group_A_T3_NL['time']\n",
    "grp_A_T3_NL_time_trans = box_cox(grp_A_T3_NL_time)\n",
    "test_distribution(grp_A_T3_NL_time, grp_A_T3_NL_time_trans)"
   ]
  },
  {
   "cell_type": "code",
   "execution_count": 73,
   "id": "5682126f",
   "metadata": {},
   "outputs": [
    {
     "data": {
      "image/png": "[encoded data removed]",
      "text/plain": [
       "<Figure size 576x288 with 2 Axes>"
      ]
     },
     "metadata": {
      "needs_background": "light"
     },
     "output_type": "display_data"
    }
   ],
   "source": [
    "grp_A_T1_M_time = group_A_T1_M['time']\n",
    "grp_A_T1_M_time_trans = box_cox(grp_A_T1_M_time)\n",
    "test_distribution(grp_A_T1_M_time, grp_A_T1_M_time_trans)"
   ]
  },
  {
   "cell_type": "code",
   "execution_count": 74,
   "id": "14028ccd",
   "metadata": {},
   "outputs": [
    {
     "data": {
      "image/png": "[encoded data removed]",
      "text/plain": [
       "<Figure size 576x288 with 2 Axes>"
      ]
     },
     "metadata": {
      "needs_background": "light"
     },
     "output_type": "display_data"
    }
   ],
   "source": [
    "grp_A_T2_M_time = group_A_T2_M['time']\n",
    "grp_A_T2_M_time_trans = box_cox(grp_A_T2_M_time)\n",
    "test_distribution(grp_A_T2_M_time, grp_A_T2_M_time_trans)"
   ]
  },
  {
   "cell_type": "code",
   "execution_count": 75,
   "id": "f77649d0",
   "metadata": {},
   "outputs": [
    {
     "data": {
      "image/png": "[encoded data removed]",
      "text/plain": [
       "<Figure size 576x288 with 2 Axes>"
      ]
     },
     "metadata": {
      "needs_background": "light"
     },
     "output_type": "display_data"
    }
   ],
   "source": [
    "grp_A_T3_M_time = group_A_T3_M['time']\n",
    "grp_A_T3_M_time_trans = box_cox(grp_A_T3_M_time)\n",
    "test_distribution(grp_A_T3_M_time, grp_A_T3_M_time_trans)"
   ]
  },
  {
   "cell_type": "code",
   "execution_count": 76,
   "id": "35915017",
   "metadata": {},
   "outputs": [
    {
     "data": {
      "image/png": "[encoded data removed]",
      "text/plain": [
       "<Figure size 576x288 with 2 Axes>"
      ]
     },
     "metadata": {
      "needs_background": "light"
     },
     "output_type": "display_data"
    }
   ],
   "source": [
    "grp_B_T1_NL_time = group_B_T1_NL['time']\n",
    "grp_B_T1_NL_time_trans = box_cox(grp_B_T1_NL_time)\n",
    "test_distribution(grp_B_T1_NL_time, grp_B_T1_NL_time_trans)"
   ]
  },
  {
   "cell_type": "code",
   "execution_count": 77,
   "id": "92b1edc7",
   "metadata": {},
   "outputs": [
    {
     "data": {
      "image/png": "[encoded data removed]",
      "text/plain": [
       "<Figure size 576x288 with 2 Axes>"
      ]
     },
     "metadata": {
      "needs_background": "light"
     },
     "output_type": "display_data"
    }
   ],
   "source": [
    "grp_B_T2_NL_time = group_B_T2_NL['time']\n",
    "grp_B_T2_NL_time_trans = box_cox(grp_B_T2_NL_time)\n",
    "test_distribution(grp_B_T2_NL_time, grp_B_T2_NL_time_trans)"
   ]
  },
  {
   "cell_type": "code",
   "execution_count": 78,
   "id": "74df1695",
   "metadata": {},
   "outputs": [
    {
     "data": {
      "image/png": "[encoded data removed]",
      "text/plain": [
       "<Figure size 576x288 with 2 Axes>"
      ]
     },
     "metadata": {
      "needs_background": "light"
     },
     "output_type": "display_data"
    }
   ],
   "source": [
    "grp_B_T3_NL_time = group_B_T3_NL['time']\n",
    "grp_B_T3_NL_time_trans = box_cox(grp_B_T3_NL_time)\n",
    "test_distribution(grp_B_T3_NL_time, grp_B_T3_NL_time_trans)"
   ]
  },
  {
   "cell_type": "code",
   "execution_count": 79,
   "id": "0c5b8dbf",
   "metadata": {},
   "outputs": [
    {
     "data": {
      "image/png": "[encoded data removed]",
      "text/plain": [
       "<Figure size 576x288 with 2 Axes>"
      ]
     },
     "metadata": {
      "needs_background": "light"
     },
     "output_type": "display_data"
    }
   ],
   "source": [
    "grp_B_T1_M_time = group_B_T1_M['time']\n",
    "grp_B_T1_M_time_trans = box_cox(grp_B_T1_M_time)\n",
    "test_distribution(grp_B_T1_M_time, grp_B_T1_M_time_trans)"
   ]
  },
  {
   "cell_type": "code",
   "execution_count": 80,
   "id": "6fbc06ac",
   "metadata": {},
   "outputs": [
    {
     "data": {
      "image/png": "[encoded data removed]",
      "text/plain": [
       "<Figure size 576x288 with 2 Axes>"
      ]
     },
     "metadata": {
      "needs_background": "light"
     },
     "output_type": "display_data"
    }
   ],
   "source": [
    "grp_B_T2_M_time = group_B_T2_M['time']\n",
    "grp_B_T2_M_time_trans = box_cox(grp_B_T2_M_time)\n",
    "test_distribution(grp_B_T2_M_time, grp_B_T2_M_time_trans)"
   ]
  },
  {
   "cell_type": "code",
   "execution_count": 82,
   "id": "87c302f2",
   "metadata": {},
   "outputs": [
    {
     "data": {
      "image/png": "[encoded data removed]",
      "text/plain": [
       "<Figure size 576x288 with 2 Axes>"
      ]
     },
     "metadata": {
      "needs_background": "light"
     },
     "output_type": "display_data"
    }
   ],
   "source": [
    "grp_B_T3_M_time = group_B_T3_M['time']\n",
    "grp_B_T3_M_time_trans = box_cox(grp_B_T3_M_time)\n",
    "test_distribution(grp_B_T3_M_time, grp_B_T3_M_time_trans)"
   ]
  },
  {
   "cell_type": "code",
   "execution_count": 67,
   "id": "c7991a3d",
   "metadata": {},
   "outputs": [
    {
     "data": {
      "text/plain": [
       "{'model': {'distr': <scipy.stats._continuous_distns.genextreme_gen at 0x220d17f6760>,\n",
       "  'stats': 'RSS',\n",
       "  'params': (-0.7293291901187826, 64.59953610854959, 64.76052387079699),\n",
       "  'name': 'genextreme',\n",
       "  'model': <scipy.stats._distn_infrastructure.rv_frozen at 0x220d3d8edf0>,\n",
       "  'score': 1.2747934900587298e-06,\n",
       "  'loc': 64.59953610854959,\n",
       "  'scale': 64.76052387079699,\n",
       "  'arg': (-0.7293291901187826,),\n",
       "  'CII_min_alpha': 15.69445161119593,\n",
       "  'CII_max_alpha': 750.5827877646492},\n",
       " 'summary':          distr     score  LLE            loc         scale  \\\n",
       " 0   genextreme  0.000001  NaN      64.599536     64.760524   \n",
       " 1      lognorm  0.000002  NaN      -0.609725     97.944277   \n",
       " 2         beta  0.000005  NaN            3.0  39569.558732   \n",
       " 3        expon  0.000006  NaN            3.0    180.760915   \n",
       " 4            t  0.000011  NaN      74.834709      53.85191   \n",
       " 5       pareto  0.000021  NaN      -0.004222      3.004222   \n",
       " 6         norm  0.000045  NaN     183.760915    242.462418   \n",
       " 7     loggamma  0.000046  NaN -114957.338688  14268.116211   \n",
       " 8      uniform  0.000073  NaN            3.0        2127.0   \n",
       " 9        gamma  0.000079  NaN            3.0     12.277896   \n",
       " 10    dweibull  0.000274  NaN           67.0    102.029207   \n",
       " \n",
       "                                         arg  \n",
       " 0                    (-0.7293291901187826,)  \n",
       " 1                     (1.1485981875189482,)  \n",
       " 2   (0.8708915238288715, 191.4866052268438)  \n",
       " 3                                        ()  \n",
       " 4                     (1.0451818096874539,)  \n",
       " 5                    (0.28804977733710413,)  \n",
       " 6                                        ()  \n",
       " 7                     (3197.4071382095026,)  \n",
       " 8                                        ()  \n",
       " 9                    (0.04319185047810349,)  \n",
       " 10                    (0.7102670904107073,)  ,\n",
       " 'histdata': (array([6.10896239e-03, 5.13152840e-03, 3.61650573e-03, 1.51502267e-03,\n",
       "         1.41727927e-03, 7.81947185e-04, 5.37588690e-04, 2.93230194e-04,\n",
       "         5.37588690e-04, 7.81947185e-04, 3.42101894e-04, 3.42101894e-04,\n",
       "         4.39845292e-04, 1.95486796e-04, 1.46615097e-04, 2.44358495e-04,\n",
       "         1.46615097e-04, 1.46615097e-04, 1.95486796e-04, 0.00000000e+00,\n",
       "         4.88716991e-05, 0.00000000e+00, 4.88716991e-05, 9.77433982e-05,\n",
       "         2.44358495e-04, 0.00000000e+00, 0.00000000e+00, 0.00000000e+00,\n",
       "         4.88716991e-05, 0.00000000e+00, 0.00000000e+00, 0.00000000e+00,\n",
       "         0.00000000e+00, 0.00000000e+00, 0.00000000e+00, 0.00000000e+00,\n",
       "         0.00000000e+00, 0.00000000e+00, 0.00000000e+00, 0.00000000e+00,\n",
       "         0.00000000e+00, 0.00000000e+00, 0.00000000e+00, 0.00000000e+00,\n",
       "         4.88716991e-05, 0.00000000e+00, 0.00000000e+00, 0.00000000e+00,\n",
       "         0.00000000e+00, 4.88716991e-05]),\n",
       "  array([  24.27,   66.81,  109.35,  151.89,  194.43,  236.97,  279.51,\n",
       "          322.05,  364.59,  407.13,  449.67,  492.21,  534.75,  577.29,\n",
       "          619.83,  662.37,  704.91,  747.45,  789.99,  832.53,  875.07,\n",
       "          917.61,  960.15, 1002.69, 1045.23, 1087.77, 1130.31, 1172.85,\n",
       "         1215.39, 1257.93, 1300.47, 1343.01, 1385.55, 1428.09, 1470.63,\n",
       "         1513.17, 1555.71, 1598.25, 1640.79, 1683.33, 1725.87, 1768.41,\n",
       "         1810.95, 1853.49, 1896.03, 1938.57, 1981.11, 2023.65, 2066.19,\n",
       "         2108.73])),\n",
       " 'size': 481,\n",
       " 'alpha': 0.05,\n",
       " 'stats': 'RSS',\n",
       " 'bins': 50,\n",
       " 'bound': 'both',\n",
       " 'distr': 'popular',\n",
       " 'method': 'parametric',\n",
       " 'multtest': 'fdr_bh',\n",
       " 'n_perm': 10000,\n",
       " 'smooth': None,\n",
       " 'weighted': True,\n",
       " 'f': 1.5}"
      ]
     },
     "execution_count": 67,
     "metadata": {},
     "output_type": "execute_result"
    }
   ],
   "source": [
    "dist1 = distfit(alpha=0.05, stats='RSS')\n",
    "dist1.fit_transform(group_B_T3_M['time'],verbose=1)"
   ]
  },
  {
   "cell_type": "code",
   "execution_count": 68,
   "id": "48353180",
   "metadata": {},
   "outputs": [
    {
     "data": {
      "text/plain": [
       "(<Figure size 720x576 with 1 Axes>,\n",
       " <AxesSubplot:title={'center':'\\ngenextreme\\nc=-0.729329, loc=64.5995, scale=64.7605'}, xlabel='Values', ylabel='Frequency'>)"
      ]
     },
     "execution_count": 68,
     "metadata": {},
     "output_type": "execute_result"
    },
    {
     "data": {
      "image/png": "[encoded data removed]",
      "text/plain": [
       "<Figure size 720x576 with 1 Axes>"
      ]
     },
     "metadata": {
      "needs_background": "light"
     },
     "output_type": "display_data"
    }
   ],
   "source": [
    "dist1.plot(verbose=1)"
   ]
  },
  {
   "cell_type": "code",
   "execution_count": 69,
   "id": "e22b9b97",
   "metadata": {},
   "outputs": [
    {
     "data": {
      "text/html": [
       "<div>\n",
       "<style scoped>\n",
       "    .dataframe tbody tr th:only-of-type {\n",
       "        vertical-align: middle;\n",
       "    }\n",
       "\n",
       "    .dataframe tbody tr th {\n",
       "        vertical-align: top;\n",
       "    }\n",
       "\n",
       "    .dataframe thead th {\n",
       "        text-align: right;\n",
       "    }\n",
       "</style>\n",
       "<table border=\"1\" class=\"dataframe\">\n",
       "  <thead>\n",
       "    <tr style=\"text-align: right;\">\n",
       "      <th></th>\n",
       "      <th>distr</th>\n",
       "      <th>score</th>\n",
       "      <th>LLE</th>\n",
       "      <th>loc</th>\n",
       "      <th>scale</th>\n",
       "      <th>arg</th>\n",
       "    </tr>\n",
       "  </thead>\n",
       "  <tbody>\n",
       "    <tr>\n",
       "      <th>0</th>\n",
       "      <td>genextreme</td>\n",
       "      <td>0.000001</td>\n",
       "      <td>NaN</td>\n",
       "      <td>64.599536</td>\n",
       "      <td>64.760524</td>\n",
       "      <td>(-0.7293291901187826,)</td>\n",
       "    </tr>\n",
       "    <tr>\n",
       "      <th>1</th>\n",
       "      <td>lognorm</td>\n",
       "      <td>0.000002</td>\n",
       "      <td>NaN</td>\n",
       "      <td>-0.609725</td>\n",
       "      <td>97.944277</td>\n",
       "      <td>(1.1485981875189482,)</td>\n",
       "    </tr>\n",
       "    <tr>\n",
       "      <th>2</th>\n",
       "      <td>beta</td>\n",
       "      <td>0.000005</td>\n",
       "      <td>NaN</td>\n",
       "      <td>3.0</td>\n",
       "      <td>39569.558732</td>\n",
       "      <td>(0.8708915238288715, 191.4866052268438)</td>\n",
       "    </tr>\n",
       "    <tr>\n",
       "      <th>3</th>\n",
       "      <td>expon</td>\n",
       "      <td>0.000006</td>\n",
       "      <td>NaN</td>\n",
       "      <td>3.0</td>\n",
       "      <td>180.760915</td>\n",
       "      <td>()</td>\n",
       "    </tr>\n",
       "    <tr>\n",
       "      <th>4</th>\n",
       "      <td>t</td>\n",
       "      <td>0.000011</td>\n",
       "      <td>NaN</td>\n",
       "      <td>74.834709</td>\n",
       "      <td>53.85191</td>\n",
       "      <td>(1.0451818096874539,)</td>\n",
       "    </tr>\n",
       "    <tr>\n",
       "      <th>5</th>\n",
       "      <td>pareto</td>\n",
       "      <td>0.000021</td>\n",
       "      <td>NaN</td>\n",
       "      <td>-0.004222</td>\n",
       "      <td>3.004222</td>\n",
       "      <td>(0.28804977733710413,)</td>\n",
       "    </tr>\n",
       "    <tr>\n",
       "      <th>6</th>\n",
       "      <td>norm</td>\n",
       "      <td>0.000045</td>\n",
       "      <td>NaN</td>\n",
       "      <td>183.760915</td>\n",
       "      <td>242.462418</td>\n",
       "      <td>()</td>\n",
       "    </tr>\n",
       "    <tr>\n",
       "      <th>7</th>\n",
       "      <td>loggamma</td>\n",
       "      <td>0.000046</td>\n",
       "      <td>NaN</td>\n",
       "      <td>-114957.338688</td>\n",
       "      <td>14268.116211</td>\n",
       "      <td>(3197.4071382095026,)</td>\n",
       "    </tr>\n",
       "    <tr>\n",
       "      <th>8</th>\n",
       "      <td>uniform</td>\n",
       "      <td>0.000073</td>\n",
       "      <td>NaN</td>\n",
       "      <td>3.0</td>\n",
       "      <td>2127.0</td>\n",
       "      <td>()</td>\n",
       "    </tr>\n",
       "    <tr>\n",
       "      <th>9</th>\n",
       "      <td>gamma</td>\n",
       "      <td>0.000079</td>\n",
       "      <td>NaN</td>\n",
       "      <td>3.0</td>\n",
       "      <td>12.277896</td>\n",
       "      <td>(0.04319185047810349,)</td>\n",
       "    </tr>\n",
       "    <tr>\n",
       "      <th>10</th>\n",
       "      <td>dweibull</td>\n",
       "      <td>0.000274</td>\n",
       "      <td>NaN</td>\n",
       "      <td>67.0</td>\n",
       "      <td>102.029207</td>\n",
       "      <td>(0.7102670904107073,)</td>\n",
       "    </tr>\n",
       "  </tbody>\n",
       "</table>\n",
       "</div>"
      ],
      "text/plain": [
       "         distr     score  LLE            loc         scale  \\\n",
       "0   genextreme  0.000001  NaN      64.599536     64.760524   \n",
       "1      lognorm  0.000002  NaN      -0.609725     97.944277   \n",
       "2         beta  0.000005  NaN            3.0  39569.558732   \n",
       "3        expon  0.000006  NaN            3.0    180.760915   \n",
       "4            t  0.000011  NaN      74.834709      53.85191   \n",
       "5       pareto  0.000021  NaN      -0.004222      3.004222   \n",
       "6         norm  0.000045  NaN     183.760915    242.462418   \n",
       "7     loggamma  0.000046  NaN -114957.338688  14268.116211   \n",
       "8      uniform  0.000073  NaN            3.0        2127.0   \n",
       "9        gamma  0.000079  NaN            3.0     12.277896   \n",
       "10    dweibull  0.000274  NaN           67.0    102.029207   \n",
       "\n",
       "                                        arg  \n",
       "0                    (-0.7293291901187826,)  \n",
       "1                     (1.1485981875189482,)  \n",
       "2   (0.8708915238288715, 191.4866052268438)  \n",
       "3                                        ()  \n",
       "4                     (1.0451818096874539,)  \n",
       "5                    (0.28804977733710413,)  \n",
       "6                                        ()  \n",
       "7                     (3197.4071382095026,)  \n",
       "8                                        ()  \n",
       "9                    (0.04319185047810349,)  \n",
       "10                    (0.7102670904107073,)  "
      ]
     },
     "execution_count": 69,
     "metadata": {},
     "output_type": "execute_result"
    }
   ],
   "source": [
    "dist1.summary"
   ]
  },
  {
   "cell_type": "code",
   "execution_count": null,
   "id": "6cf1f4c1",
   "metadata": {},
   "outputs": [],
   "source": []
  },
  {
   "cell_type": "code",
   "execution_count": 70,
   "id": "b68b475d",
   "metadata": {},
   "outputs": [
    {
     "name": "stdout",
     "output_type": "stream",
     "text": [
      "[distfit] >plot summary..\n"
     ]
    },
    {
     "data": {
      "text/plain": [
       "(<Figure size 1080x576 with 1 Axes>,\n",
       " <AxesSubplot:title={'center':'Best fit: genextreme'}, xlabel='Distribution name', ylabel='RSS (lower is better)'>)"
      ]
     },
     "execution_count": 70,
     "metadata": {},
     "output_type": "execute_result"
    },
    {
     "data": {
      "image/png": "[encoded data removed]",
      "text/plain": [
       "<Figure size 1080x576 with 1 Axes>"
      ]
     },
     "metadata": {
      "needs_background": "light"
     },
     "output_type": "display_data"
    }
   ],
   "source": [
    "dist1.plot_summary()"
   ]
  },
  {
   "cell_type": "markdown",
   "id": "cfeaa964",
   "metadata": {},
   "source": [
    "## "
   ]
  }
 ],
 "metadata": {
  "kernelspec": {
   "display_name": "Python 3 (ipykernel)",
   "language": "python",
   "name": "python3"
  },
  "language_info": {
   "codemirror_mode": {
    "name": "ipython",
    "version": 3
   },
   "file_extension": ".py",
   "mimetype": "text/x-python",
   "name": "python",
   "nbconvert_exporter": "python",
   "pygments_lexer": "ipython3",
   "version": "3.9.7"
  }
 },
 "nbformat": 4,
 "nbformat_minor": 5
}
