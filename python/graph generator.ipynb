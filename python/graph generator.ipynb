{
 "cells": [
  {
   "cell_type": "code",
   "execution_count": 20,
   "metadata": {},
   "outputs": [],
   "source": [
    "import networkx as nx\n",
    "from networkx.readwrite import json_graph\n",
    "# from networkx.readwrite import json_graph\n",
    "import json\n",
    "import sys\n",
    "import string\n",
    "import random\n",
    "import numpy as np"
   ]
  },
  {
   "cell_type": "code",
   "execution_count": 2,
   "metadata": {},
   "outputs": [],
   "source": [
    "def generate_random_label():\n",
    "    base = ''.join(random.choice(string.ascii_uppercase) for i in range(2))\n",
    "    n1 = int(random.random()*10)\n",
    "    n2 = int(random.random()*10)\n",
    "    return base + str(n1) + str(n2)"
   ]
  },
  {
   "cell_type": "code",
   "execution_count": 3,
   "metadata": {},
   "outputs": [],
   "source": [
    "nodes = 30\n",
    "selectedSet = set()"
   ]
  },
  {
   "cell_type": "code",
   "execution_count": 4,
   "metadata": {},
   "outputs": [],
   "source": [
    "G = nx.scale_free_graph(nodes, 0.48, 0.45, 0.07, create_using=None)"
   ]
  },
  {
   "cell_type": "code",
   "execution_count": 5,
   "metadata": {},
   "outputs": [
    {
     "name": "stdout",
     "output_type": "stream",
     "text": [
      "Created graph with 30 nodes and 58 edges.\n"
     ]
    }
   ],
   "source": [
    "print(\"Created graph with \" + str(len(G.nodes)) + \" nodes and \" + str(len(G.edges)) + \" edges.\")\n",
    "for i in range(len(G.nodes)):\n",
    "    label = generate_random_label()\n",
    "    while label in selectedSet:\n",
    "        label = generate_random_label()\n",
    "    selectedSet.add(label)\n",
    "    G.nodes[i][\"label\"] = label"
   ]
  },
  {
   "cell_type": "code",
   "execution_count": 34,
   "metadata": {},
   "outputs": [
    {
     "name": "stdout",
     "output_type": "stream",
     "text": [
      "0 1 [1, 0, 1, 1]\n",
      "0 1 [1, 1, 1, 1]\n",
      "0 1 [1, 1, 1, 1]\n",
      "0 5 [1, 1, 1, 0]\n",
      "0 8 [0, 0, 1, 1]\n",
      "0 8 [1, 1, 1, 1]\n",
      "0 11 [1, 1, 1, 1]\n",
      "0 25 [1, 1, 1, 1]\n",
      "1 2 [1, 1, 1, 1]\n",
      "1 8 [1, 1, 1, 1]\n",
      "1 0 [1, 1, 1, 1]\n",
      "1 21 [1, 1, 1, 1]\n",
      "1 1 [1, 1, 1, 1]\n",
      "2 0 [1, 1, 1, 1]\n",
      "2 2 [1, 1, 1, 1]\n",
      "3 1 [1, 1, 1, 1]\n",
      "3 8 [1, 1, 1, 1]\n",
      "4 2 [1, 1, 1, 1]\n",
      "4 2 [1, 0, 1, 1]\n",
      "4 1 [1, 1, 1, 1]\n",
      "4 1 [0, 1, 1, 1]\n",
      "4 11 [1, 1, 1, 1]\n",
      "6 0 [1, 1, 1, 1]\n",
      "6 1 [1, 1, 1, 1]\n",
      "7 2 [1, 1, 1, 1]\n",
      "7 2 [1, 1, 1, 1]\n",
      "7 2 [1, 1, 1, 1]\n",
      "7 2 [1, 1, 1, 1]\n",
      "7 1 [1, 1, 1, 1]\n",
      "7 1 [1, 1, 1, 1]\n",
      "7 1 [1, 1, 1, 1]\n",
      "7 11 [1, 1, 1, 1]\n",
      "7 14 [1, 1, 1, 1]\n",
      "7 15 [1, 1, 1, 0]\n",
      "7 15 [1, 1, 1, 1]\n",
      "7 8 [1, 1, 1, 1]\n",
      "7 8 [1, 1, 1, 1]\n",
      "7 13 [1, 1, 1, 0]\n",
      "9 1 [1, 1, 1, 1]\n",
      "10 8 [1, 1, 0, 1]\n",
      "12 1 [1, 1, 1, 1]\n",
      "12 1 [1, 1, 1, 1]\n",
      "13 4 [1, 1, 1, 1]\n",
      "13 1 [1, 1, 1, 1]\n",
      "16 13 [1, 1, 1, 1]\n",
      "17 13 [1, 1, 1, 1]\n",
      "18 1 [1, 1, 1, 1]\n",
      "18 1 [1, 1, 1, 1]\n",
      "19 3 [1, 1, 1, 1]\n",
      "20 2 [1, 1, 1, 1]\n",
      "22 1 [1, 1, 1, 1]\n",
      "23 8 [1, 1, 1, 1]\n",
      "24 2 [1, 1, 1, 1]\n",
      "25 0 [0, 1, 1, 1]\n",
      "26 0 [1, 1, 1, 1]\n",
      "27 0 [1, 1, 1, 1]\n",
      "28 4 [1, 1, 1, 1]\n",
      "29 11 [1, 1, 1, 1]\n"
     ]
    }
   ],
   "source": [
    "for s, t, k in G.edges(data=True):\n",
    "#     print(np.arange(0, 2, 1))\n",
    "    timeArray = [np.random.choice(np.arange(0, 2, 1), p = [0.05, 0.95]),\n",
    "                 np.random.choice(np.arange(0, 2, 1), p = [0.05, 0.95]),\n",
    "                 np.random.choice(np.arange(0, 2, 1), p = [0.05, 0.95]),\n",
    "                 np.random.choice(np.arange(0, 2, 1), p = [0.05, 0.95])\n",
    "                ]\n",
    "    k = timeArray\n",
    "    print(s, t, k)\n",
    "    "
   ]
  },
  {
   "cell_type": "code",
   "execution_count": null,
   "metadata": {},
   "outputs": [],
   "source": [
    "file_name = \"SFG_\"+ str(len(G.nodes)) + \"_\" + str(len(G.edges))"
   ]
  },
  {
   "cell_type": "code",
   "execution_count": null,
   "metadata": {},
   "outputs": [],
   "source": [
    "# nx.write_gml(G, file_name + \".gml\")\n",
    "\n",
    "json_data = nx.json_graph.node_link_data(G)\n",
    "#H = nx.json_graph.node_link_graph(json_data)\n",
    "\n",
    "with open(file_name + '.json', 'w') as outfile:\n",
    "    json.dump(json_data, outfile)\n",
    "\n",
    "print(\"done.\")"
   ]
  }
 ],
 "metadata": {
  "kernelspec": {
   "display_name": "Python 3",
   "language": "python",
   "name": "python3"
  },
  "language_info": {
   "codemirror_mode": {
    "name": "ipython",
    "version": 3
   },
   "file_extension": ".py",
   "mimetype": "text/x-python",
   "name": "python",
   "nbconvert_exporter": "python",
   "pygments_lexer": "ipython3",
   "version": "3.7.6"
  }
 },
 "nbformat": 4,
 "nbformat_minor": 2
}
