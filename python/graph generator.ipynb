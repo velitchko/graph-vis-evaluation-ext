{
 "cells": [
  {
   "cell_type": "code",
   "execution_count": 1,
   "metadata": {},
   "outputs": [],
   "source": [
    "import networkx as nx\n",
    "from networkx.readwrite import json_graph\n",
    "import json\n",
    "import sys\n",
    "import string\n",
    "import random\n",
    "import numpy as np\n",
    "import itertools"
   ]
  },
  {
   "cell_type": "code",
   "execution_count": 2,
   "metadata": {},
   "outputs": [],
   "source": [
    "# generate random label\n",
    "def generate_random_label():\n",
    "    base = ''.join(random.choice(string.ascii_uppercase) for i in range(2))\n",
    "    n1 = int(random.random()*10)\n",
    "    n2 = int(random.random()*10)\n",
    "    return base + str(n1) + str(n2)"
   ]
  },
  {
   "cell_type": "code",
   "execution_count": 3,
   "metadata": {},
   "outputs": [
    {
     "name": "stdout",
     "output_type": "stream",
     "text": [
      "6\n"
     ]
    }
   ],
   "source": [
    "# network settings\n",
    "# nodes = random.randint(35, 45) #[35, 45] rng\n",
    "nodes = 6\n",
    "selected_set = set()\n",
    "clique = True # False True\n",
    "print(nodes)"
   ]
  },
  {
   "cell_type": "code",
   "execution_count": 4,
   "metadata": {},
   "outputs": [],
   "source": [
    "# generate scale free graph\n",
    "G = nx.scale_free_graph(nodes, 0.48, 0.45, 0.07)\n",
    "# alpha (float) – Probability for adding a new node connected to an existing node chosen randomly according to the in-degree distribution.\n",
    "# beta (float) – Probability for adding an edge between two existing nodes. One existing node is chosen randomly according the in-degree distribution and the other chosen randomly according to the out-degree distribution.\n",
    "# gamma (float) – Probability for adding a new node connected to an existing node chosen randomly according to the out-degree distribution."
   ]
  },
  {
   "cell_type": "code",
   "execution_count": 5,
   "metadata": {},
   "outputs": [],
   "source": [
    "# remove self loops\n",
    "for s, t, k in list(G.edges(data=True)):\n",
    "    if s == t: \n",
    "        G.remove_edge(s,t)"
   ]
  },
  {
   "cell_type": "code",
   "execution_count": 6,
   "metadata": {},
   "outputs": [],
   "source": [
    "# remove multi edges\n",
    "unique_edges = dict()\n",
    "for s, t, k in list(G.edges(data=True)):\n",
    "    if f'{s}:{t}' in unique_edges: \n",
    "        unique_edges[f'{s}:{t}'] = unique_edges.get(f'{s}:{t}') + 1\n",
    "    else: \n",
    "        unique_edges[f'{s}:{t}'] = 1\n",
    "        \n",
    "for s, t, k in list(G.edges(data=True)):\n",
    "    if f'{s}:{t}' in unique_edges and unique_edges.get(f'{s}:{t}') > 1:\n",
    "        G.remove_edge(s,t)\n",
    "        unique_edges[f'{s}:{t}'] = unique_edges.get(f'{s}:{t}') - 1"
   ]
  },
  {
   "cell_type": "code",
   "execution_count": 269,
   "metadata": {},
   "outputs": [
    {
     "name": "stdout",
     "output_type": "stream",
     "text": [
      "5 nodes selected at random:\n",
      "[34, 22, 4, 14, 6]\n",
      "All permutations:\n",
      "[(34, 22), (34, 4), (34, 14), (34, 6), (22, 34), (22, 4), (22, 14), (22, 6), (4, 34), (4, 22), (4, 14), (4, 6), (14, 34), (14, 22), (14, 4), (14, 6), (6, 34), (6, 22), (6, 4), (6, 14)]\n",
      "34-22 or 22-34 does not exist --- adding to edges\n",
      "34-4 or 4-34 does not exist --- adding to edges\n",
      "34-14 or 14-34 does not exist --- adding to edges\n",
      "34-6 or 6-34 does not exist --- adding to edges\n",
      "22-34 or 34-22 exists\n",
      "22-4 or 4-22 does not exist --- adding to edges\n",
      "22-14 or 14-22 does not exist --- adding to edges\n",
      "22-6 or 6-22 does not exist --- adding to edges\n",
      "4-34 or 34-4 exists\n",
      "4-22 or 22-4 exists\n",
      "4-14 or 14-4 does not exist --- adding to edges\n",
      "4-6 or 6-4 does not exist --- adding to edges\n",
      "14-34 or 34-14 exists\n",
      "14-22 or 22-14 exists\n",
      "14-4 or 4-14 exists\n",
      "14-6 or 6-14 does not exist --- adding to edges\n",
      "6-34 or 34-6 exists\n",
      "6-22 or 22-6 exists\n",
      "6-4 or 4-6 exists\n",
      "6-14 or 14-6 exists\n"
     ]
    }
   ],
   "source": [
    "# generate clique\n",
    "if clique:\n",
    "    number_of_nodes = 5\n",
    "    nodes = random.sample(G.nodes, number_of_nodes)\n",
    "    permutations = list(itertools.permutations(nodes, 2))\n",
    "    print(f'{number_of_nodes} nodes selected at random:')\n",
    "    print(nodes)\n",
    "    print('All permutations:')\n",
    "    print(permutations)\n",
    "    for i in permutations:\n",
    "        source = i[0]\n",
    "        target = i[1]\n",
    "        if (G.has_edge(source, target)) or (G.has_edge(target, source)): \n",
    "            print(f'{source}-{target} or {target}-{source} exists')\n",
    "            continue\n",
    "        else: \n",
    "            print(f'{source}-{target} or {target}-{source} does not exist --- adding to edges')\n",
    "            G.add_edge(source, target) "
   ]
  },
  {
   "cell_type": "code",
   "execution_count": 7,
   "metadata": {},
   "outputs": [
    {
     "name": "stdout",
     "output_type": "stream",
     "text": [
      "Created graph with 6 nodes and 6 edges.\n"
     ]
    }
   ],
   "source": [
    "# assign labels to nodes\n",
    "print(\"Created graph with \" + str(len(G.nodes)) + \" nodes and \" + str(len(G.edges)) + \" edges.\")\n",
    "for i in range(len(G.nodes)):\n",
    "    label = generate_random_label()\n",
    "    while label in selected_set:\n",
    "        label = generate_random_label()\n",
    "    selected_set.add(label)\n",
    "    G.nodes[i][\"label\"] = label"
   ]
  },
  {
   "cell_type": "code",
   "execution_count": 8,
   "metadata": {},
   "outputs": [],
   "source": [
    "# assign time steps to edges\n",
    "# pump up probability of disappearance\n",
    "for s, t, k in list(G.edges(data=True)):\n",
    "    timeArray = [int(np.random.choice(np.arange(0, 2, 1), p = [0.1, 0.9])),\n",
    "                 int(np.random.choice(np.arange(0, 2, 1), p = [0.1, 0.9])),\n",
    "                 int(np.random.choice(np.arange(0, 2, 1), p = [0.1, 0.9])),\n",
    "                 int(np.random.choice(np.arange(0, 2, 1), p = [0.1, 0.9]))\n",
    "                ]\n",
    "    G.adj[s][t][0]['time'] = timeArray"
   ]
  },
  {
   "cell_type": "code",
   "execution_count": 9,
   "metadata": {},
   "outputs": [],
   "source": [
    "# generate file name\n",
    "file_name = \"SFG_\"+ str(len(G.nodes)) + \"_\" + str(len(G.edges))\n",
    "\n",
    "if clique:\n",
    "    file_name += \"_clique\""
   ]
  },
  {
   "cell_type": "code",
   "execution_count": 10,
   "metadata": {},
   "outputs": [
    {
     "name": "stdout",
     "output_type": "stream",
     "text": [
      "SFG_6_6_clique done.\n"
     ]
    }
   ],
   "source": [
    "# write out file as json\n",
    "json_data = nx.json_graph.node_link_data(G)\n",
    "\n",
    "with open(file_name + '.json', 'w') as outfile:\n",
    "    json.dump(json_data, outfile)\n",
    "\n",
    "print(file_name, \"done.\")"
   ]
  }
 ],
 "metadata": {
  "kernelspec": {
   "display_name": "Python 3",
   "language": "python",
   "name": "python3"
  },
  "language_info": {
   "codemirror_mode": {
    "name": "ipython",
    "version": 3
   },
   "file_extension": ".py",
   "mimetype": "text/x-python",
   "name": "python",
   "nbconvert_exporter": "python",
   "pygments_lexer": "ipython3",
   "version": "3.7.6"
  }
 },
 "nbformat": 4,
 "nbformat_minor": 2
}
