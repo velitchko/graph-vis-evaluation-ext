{
 "cells": [
  {
   "cell_type": "code",
   "execution_count": 52,
   "id": "7d28abed",
   "metadata": {},
   "outputs": [],
   "source": [
    "import os\n",
    "import pandas as pd\n",
    "import numpy as np\n",
    "import math\n",
    "from IPython.display import display\n",
    "import seaborn as sns\n",
    "import matplotlib.pyplot as plt\n",
    "from matplotlib import pyplot\n",
    "from scipy.stats import shapiro\n",
    "from scipy.stats import zscore\n",
    "from scipy.stats import levene\n",
    "from scipy.stats import boxcox\n",
    "from scipy.stats import norm\n",
    "from scipy.stats import probplot\n",
    "from scipy.stats import friedmanchisquare\n",
    "from scipy.stats import wilcoxon\n",
    "from scipy.stats import mannwhitneyu\n",
    "from distfit import distfit\n",
    "import pingouin as pg"
   ]
  },
  {
   "cell_type": "code",
   "execution_count": 2,
   "id": "99680585",
   "metadata": {},
   "outputs": [
    {
     "data": {
      "text/html": [
       "<div>\n",
       "<style scoped>\n",
       "    .dataframe tbody tr th:only-of-type {\n",
       "        vertical-align: middle;\n",
       "    }\n",
       "\n",
       "    .dataframe tbody tr th {\n",
       "        vertical-align: top;\n",
       "    }\n",
       "\n",
       "    .dataframe thead th {\n",
       "        text-align: right;\n",
       "    }\n",
       "</style>\n",
       "<table border=\"1\" class=\"dataframe\">\n",
       "  <thead>\n",
       "    <tr style=\"text-align: right;\">\n",
       "      <th></th>\n",
       "      <th>group</th>\n",
       "      <th>id</th>\n",
       "      <th>question</th>\n",
       "      <th>answer</th>\n",
       "      <th>time</th>\n",
       "      <th>confidence</th>\n",
       "      <th>correct_answer</th>\n",
       "      <th>correct</th>\n",
       "      <th>zoom_timers</th>\n",
       "      <th>drag_timers</th>\n",
       "      <th>highlight_timers</th>\n",
       "      <th>slower_timers</th>\n",
       "      <th>faster_timers</th>\n",
       "      <th>slider_timers</th>\n",
       "      <th>zoom_interactions</th>\n",
       "      <th>drag_interactions</th>\n",
       "      <th>highlight_interactions</th>\n",
       "      <th>slower_interactions</th>\n",
       "      <th>faster_interactions</th>\n",
       "      <th>slider_interactions</th>\n",
       "    </tr>\n",
       "  </thead>\n",
       "  <tbody>\n",
       "    <tr>\n",
       "      <th>0</th>\n",
       "      <td>B</td>\n",
       "      <td>02f10e19-83e5-48a3-be35-5258e2e89c1a</td>\n",
       "      <td>m_t1_clique_si</td>\n",
       "      <td>3</td>\n",
       "      <td>754</td>\n",
       "      <td>1</td>\n",
       "      <td>3</td>\n",
       "      <td>True</td>\n",
       "      <td>[100]</td>\n",
       "      <td>[]</td>\n",
       "      <td>[3400, 429, 8300, 428, 233, 214, 1599, 57199, ...</td>\n",
       "      <td>[]</td>\n",
       "      <td>[]</td>\n",
       "      <td>[]</td>\n",
       "      <td>16</td>\n",
       "      <td>0</td>\n",
       "      <td>162</td>\n",
       "      <td>0</td>\n",
       "      <td>0</td>\n",
       "      <td>0</td>\n",
       "    </tr>\n",
       "    <tr>\n",
       "      <th>1</th>\n",
       "      <td>B</td>\n",
       "      <td>02f10e19-83e5-48a3-be35-5258e2e89c1a</td>\n",
       "      <td>nl_t3_single_si</td>\n",
       "      <td>1</td>\n",
       "      <td>86</td>\n",
       "      <td>5</td>\n",
       "      <td>1</td>\n",
       "      <td>True</td>\n",
       "      <td>[156, 249, 310, 327, 1317, 177, 248, 243, 164,...</td>\n",
       "      <td>[4407, 3694, 3410, 3901, 2870, 701, 3894, 4036]</td>\n",
       "      <td>[]</td>\n",
       "      <td>[]</td>\n",
       "      <td>[]</td>\n",
       "      <td>[]</td>\n",
       "      <td>26</td>\n",
       "      <td>8</td>\n",
       "      <td>0</td>\n",
       "      <td>0</td>\n",
       "      <td>0</td>\n",
       "      <td>0</td>\n",
       "    </tr>\n",
       "    <tr>\n",
       "      <th>2</th>\n",
       "      <td>B</td>\n",
       "      <td>02f10e19-83e5-48a3-be35-5258e2e89c1a</td>\n",
       "      <td>m_t1_single_tl</td>\n",
       "      <td>3</td>\n",
       "      <td>62</td>\n",
       "      <td>5</td>\n",
       "      <td>3</td>\n",
       "      <td>True</td>\n",
       "      <td>[156, 151, 203, 318, 162, 159, 158, 277, 1295,...</td>\n",
       "      <td>[]</td>\n",
       "      <td>[315, 381, 516, 279, 915, 551, 284, 277, 367, ...</td>\n",
       "      <td>[]</td>\n",
       "      <td>[]</td>\n",
       "      <td>[0, 0, 0, 0, 0, 0, 0, 0, 0, 0]</td>\n",
       "      <td>10</td>\n",
       "      <td>0</td>\n",
       "      <td>23</td>\n",
       "      <td>0</td>\n",
       "      <td>0</td>\n",
       "      <td>10</td>\n",
       "    </tr>\n",
       "    <tr>\n",
       "      <th>3</th>\n",
       "      <td>B</td>\n",
       "      <td>02f10e19-83e5-48a3-be35-5258e2e89c1a</td>\n",
       "      <td>m_t3_clique_jp</td>\n",
       "      <td>5</td>\n",
       "      <td>605</td>\n",
       "      <td>5</td>\n",
       "      <td>3</td>\n",
       "      <td>False</td>\n",
       "      <td>[]</td>\n",
       "      <td>[]</td>\n",
       "      <td>[1947, 263, 396, 9420, 464, 364, 25930, 304, 8...</td>\n",
       "      <td>[]</td>\n",
       "      <td>[]</td>\n",
       "      <td>[]</td>\n",
       "      <td>0</td>\n",
       "      <td>0</td>\n",
       "      <td>100</td>\n",
       "      <td>0</td>\n",
       "      <td>0</td>\n",
       "      <td>0</td>\n",
       "    </tr>\n",
       "    <tr>\n",
       "      <th>4</th>\n",
       "      <td>B</td>\n",
       "      <td>02f10e19-83e5-48a3-be35-5258e2e89c1a</td>\n",
       "      <td>m_t1_single_si</td>\n",
       "      <td>2</td>\n",
       "      <td>40</td>\n",
       "      <td>5</td>\n",
       "      <td>2</td>\n",
       "      <td>True</td>\n",
       "      <td>[]</td>\n",
       "      <td>[]</td>\n",
       "      <td>[1249, 360, 783, 332, 415, 518, 3727, 481, 114...</td>\n",
       "      <td>[]</td>\n",
       "      <td>[]</td>\n",
       "      <td>[]</td>\n",
       "      <td>0</td>\n",
       "      <td>0</td>\n",
       "      <td>10</td>\n",
       "      <td>0</td>\n",
       "      <td>0</td>\n",
       "      <td>0</td>\n",
       "    </tr>\n",
       "  </tbody>\n",
       "</table>\n",
       "</div>"
      ],
      "text/plain": [
       "  group                                    id         question answer  time  \\\n",
       "0     B  02f10e19-83e5-48a3-be35-5258e2e89c1a   m_t1_clique_si      3   754   \n",
       "1     B  02f10e19-83e5-48a3-be35-5258e2e89c1a  nl_t3_single_si      1    86   \n",
       "2     B  02f10e19-83e5-48a3-be35-5258e2e89c1a   m_t1_single_tl      3    62   \n",
       "3     B  02f10e19-83e5-48a3-be35-5258e2e89c1a   m_t3_clique_jp      5   605   \n",
       "4     B  02f10e19-83e5-48a3-be35-5258e2e89c1a   m_t1_single_si      2    40   \n",
       "\n",
       "   confidence correct_answer  correct  \\\n",
       "0           1              3     True   \n",
       "1           5              1     True   \n",
       "2           5              3     True   \n",
       "3           5              3    False   \n",
       "4           5              2     True   \n",
       "\n",
       "                                         zoom_timers  \\\n",
       "0                                              [100]   \n",
       "1  [156, 249, 310, 327, 1317, 177, 248, 243, 164,...   \n",
       "2  [156, 151, 203, 318, 162, 159, 158, 277, 1295,...   \n",
       "3                                                 []   \n",
       "4                                                 []   \n",
       "\n",
       "                                       drag_timers  \\\n",
       "0                                               []   \n",
       "1  [4407, 3694, 3410, 3901, 2870, 701, 3894, 4036]   \n",
       "2                                               []   \n",
       "3                                               []   \n",
       "4                                               []   \n",
       "\n",
       "                                    highlight_timers slower_timers  \\\n",
       "0  [3400, 429, 8300, 428, 233, 214, 1599, 57199, ...            []   \n",
       "1                                                 []            []   \n",
       "2  [315, 381, 516, 279, 915, 551, 284, 277, 367, ...            []   \n",
       "3  [1947, 263, 396, 9420, 464, 364, 25930, 304, 8...            []   \n",
       "4  [1249, 360, 783, 332, 415, 518, 3727, 481, 114...            []   \n",
       "\n",
       "  faster_timers                   slider_timers  zoom_interactions  \\\n",
       "0            []                              []                 16   \n",
       "1            []                              []                 26   \n",
       "2            []  [0, 0, 0, 0, 0, 0, 0, 0, 0, 0]                 10   \n",
       "3            []                              []                  0   \n",
       "4            []                              []                  0   \n",
       "\n",
       "   drag_interactions  highlight_interactions  slower_interactions  \\\n",
       "0                  0                     162                    0   \n",
       "1                  8                       0                    0   \n",
       "2                  0                      23                    0   \n",
       "3                  0                     100                    0   \n",
       "4                  0                      10                    0   \n",
       "\n",
       "   faster_interactions  slider_interactions  \n",
       "0                    0                    0  \n",
       "1                    0                    0  \n",
       "2                    0                   10  \n",
       "3                    0                    0  \n",
       "4                    0                    0  "
      ]
     },
     "execution_count": 2,
     "metadata": {},
     "output_type": "execute_result"
    }
   ],
   "source": [
    "original_data = pd.read_csv('survey_results.csv', index_col=0)\n",
    "original_df = df = pd.DataFrame(original_data) \n",
    "original_df.head()"
   ]
  },
  {
   "cell_type": "code",
   "execution_count": 3,
   "id": "adbaa3d4",
   "metadata": {},
   "outputs": [],
   "source": [
    "wrong_answers = ['0d215911-e63c-46ad-a063-653b709f8253',\n",
    "'037605fd-b893-4885-b04a-8e9c2bed8a1a',\n",
    "'1039ad57-5293-4af8-acce-89edd244cc7a',\n",
    "'86bfd834-db2c-44ee-8300-8f182be02533',\n",
    "'224c8817-b026-4280-b546-04d6cb5388f7',\n",
    "'2e4f721a-71de-465c-97c1-4bd8a4c7a5d4',\n",
    "'ffadb36b-5051-4684-b9cf-ed767a599434',\n",
    "'f357cda5-2402-4fd5-93ff-d8d6ed2a566d']"
   ]
  },
  {
   "cell_type": "code",
   "execution_count": 4,
   "id": "e209a1e2",
   "metadata": {},
   "outputs": [],
   "source": [
    "# remove id's who answered control questions 2&3 wrong\n",
    "original_df = original_df[~original_df['id'].isin(wrong_answers)]"
   ]
  },
  {
   "cell_type": "code",
   "execution_count": 5,
   "id": "c6e963d7",
   "metadata": {},
   "outputs": [
    {
     "data": {
      "text/html": [
       "<div>\n",
       "<style scoped>\n",
       "    .dataframe tbody tr th:only-of-type {\n",
       "        vertical-align: middle;\n",
       "    }\n",
       "\n",
       "    .dataframe tbody tr th {\n",
       "        vertical-align: top;\n",
       "    }\n",
       "\n",
       "    .dataframe thead th {\n",
       "        text-align: right;\n",
       "    }\n",
       "</style>\n",
       "<table border=\"1\" class=\"dataframe\">\n",
       "  <thead>\n",
       "    <tr style=\"text-align: right;\">\n",
       "      <th></th>\n",
       "      <th>group</th>\n",
       "      <th>answer</th>\n",
       "      <th>time</th>\n",
       "      <th>confidence</th>\n",
       "      <th>correct</th>\n",
       "      <th>zoom_timers</th>\n",
       "      <th>drag_timers</th>\n",
       "      <th>highlight_timers</th>\n",
       "      <th>slower_timers</th>\n",
       "      <th>faster_timers</th>\n",
       "      <th>...</th>\n",
       "      <th>zoom_interactions</th>\n",
       "      <th>drag_interactions</th>\n",
       "      <th>highlight_interactions</th>\n",
       "      <th>slower_interactions</th>\n",
       "      <th>faster_interactions</th>\n",
       "      <th>slider_interactions</th>\n",
       "      <th>network_enc</th>\n",
       "      <th>task_type</th>\n",
       "      <th>task_entity</th>\n",
       "      <th>temporal_enc</th>\n",
       "    </tr>\n",
       "  </thead>\n",
       "  <tbody>\n",
       "    <tr>\n",
       "      <th>0</th>\n",
       "      <td>B</td>\n",
       "      <td>3</td>\n",
       "      <td>754</td>\n",
       "      <td>1</td>\n",
       "      <td>true</td>\n",
       "      <td>[100]</td>\n",
       "      <td>[]</td>\n",
       "      <td>[3400, 429, 8300, 428, 233, 214, 1599, 57199, ...</td>\n",
       "      <td>[]</td>\n",
       "      <td>[]</td>\n",
       "      <td>...</td>\n",
       "      <td>16</td>\n",
       "      <td>0</td>\n",
       "      <td>162</td>\n",
       "      <td>0</td>\n",
       "      <td>0</td>\n",
       "      <td>0</td>\n",
       "      <td>m</td>\n",
       "      <td>t1</td>\n",
       "      <td>clique</td>\n",
       "      <td>si</td>\n",
       "    </tr>\n",
       "    <tr>\n",
       "      <th>1</th>\n",
       "      <td>B</td>\n",
       "      <td>1</td>\n",
       "      <td>86</td>\n",
       "      <td>5</td>\n",
       "      <td>true</td>\n",
       "      <td>[156, 249, 310, 327, 1317, 177, 248, 243, 164,...</td>\n",
       "      <td>[4407, 3694, 3410, 3901, 2870, 701, 3894, 4036]</td>\n",
       "      <td>[]</td>\n",
       "      <td>[]</td>\n",
       "      <td>[]</td>\n",
       "      <td>...</td>\n",
       "      <td>26</td>\n",
       "      <td>8</td>\n",
       "      <td>0</td>\n",
       "      <td>0</td>\n",
       "      <td>0</td>\n",
       "      <td>0</td>\n",
       "      <td>nl</td>\n",
       "      <td>t3</td>\n",
       "      <td>single</td>\n",
       "      <td>si</td>\n",
       "    </tr>\n",
       "    <tr>\n",
       "      <th>2</th>\n",
       "      <td>B</td>\n",
       "      <td>3</td>\n",
       "      <td>62</td>\n",
       "      <td>5</td>\n",
       "      <td>true</td>\n",
       "      <td>[156, 151, 203, 318, 162, 159, 158, 277, 1295,...</td>\n",
       "      <td>[]</td>\n",
       "      <td>[315, 381, 516, 279, 915, 551, 284, 277, 367, ...</td>\n",
       "      <td>[]</td>\n",
       "      <td>[]</td>\n",
       "      <td>...</td>\n",
       "      <td>10</td>\n",
       "      <td>0</td>\n",
       "      <td>23</td>\n",
       "      <td>0</td>\n",
       "      <td>0</td>\n",
       "      <td>10</td>\n",
       "      <td>m</td>\n",
       "      <td>t1</td>\n",
       "      <td>single</td>\n",
       "      <td>tl</td>\n",
       "    </tr>\n",
       "    <tr>\n",
       "      <th>3</th>\n",
       "      <td>B</td>\n",
       "      <td>5</td>\n",
       "      <td>605</td>\n",
       "      <td>5</td>\n",
       "      <td>false</td>\n",
       "      <td>[]</td>\n",
       "      <td>[]</td>\n",
       "      <td>[1947, 263, 396, 9420, 464, 364, 25930, 304, 8...</td>\n",
       "      <td>[]</td>\n",
       "      <td>[]</td>\n",
       "      <td>...</td>\n",
       "      <td>0</td>\n",
       "      <td>0</td>\n",
       "      <td>100</td>\n",
       "      <td>0</td>\n",
       "      <td>0</td>\n",
       "      <td>0</td>\n",
       "      <td>m</td>\n",
       "      <td>t3</td>\n",
       "      <td>clique</td>\n",
       "      <td>jp</td>\n",
       "    </tr>\n",
       "    <tr>\n",
       "      <th>4</th>\n",
       "      <td>B</td>\n",
       "      <td>2</td>\n",
       "      <td>40</td>\n",
       "      <td>5</td>\n",
       "      <td>true</td>\n",
       "      <td>[]</td>\n",
       "      <td>[]</td>\n",
       "      <td>[1249, 360, 783, 332, 415, 518, 3727, 481, 114...</td>\n",
       "      <td>[]</td>\n",
       "      <td>[]</td>\n",
       "      <td>...</td>\n",
       "      <td>0</td>\n",
       "      <td>0</td>\n",
       "      <td>10</td>\n",
       "      <td>0</td>\n",
       "      <td>0</td>\n",
       "      <td>0</td>\n",
       "      <td>m</td>\n",
       "      <td>t1</td>\n",
       "      <td>single</td>\n",
       "      <td>si</td>\n",
       "    </tr>\n",
       "  </tbody>\n",
       "</table>\n",
       "<p>5 rows × 21 columns</p>\n",
       "</div>"
      ],
      "text/plain": [
       "  group answer  time  confidence correct  \\\n",
       "0     B      3   754           1    true   \n",
       "1     B      1    86           5    true   \n",
       "2     B      3    62           5    true   \n",
       "3     B      5   605           5   false   \n",
       "4     B      2    40           5    true   \n",
       "\n",
       "                                         zoom_timers  \\\n",
       "0                                              [100]   \n",
       "1  [156, 249, 310, 327, 1317, 177, 248, 243, 164,...   \n",
       "2  [156, 151, 203, 318, 162, 159, 158, 277, 1295,...   \n",
       "3                                                 []   \n",
       "4                                                 []   \n",
       "\n",
       "                                       drag_timers  \\\n",
       "0                                               []   \n",
       "1  [4407, 3694, 3410, 3901, 2870, 701, 3894, 4036]   \n",
       "2                                               []   \n",
       "3                                               []   \n",
       "4                                               []   \n",
       "\n",
       "                                    highlight_timers slower_timers  \\\n",
       "0  [3400, 429, 8300, 428, 233, 214, 1599, 57199, ...            []   \n",
       "1                                                 []            []   \n",
       "2  [315, 381, 516, 279, 915, 551, 284, 277, 367, ...            []   \n",
       "3  [1947, 263, 396, 9420, 464, 364, 25930, 304, 8...            []   \n",
       "4  [1249, 360, 783, 332, 415, 518, 3727, 481, 114...            []   \n",
       "\n",
       "  faster_timers  ... zoom_interactions  drag_interactions  \\\n",
       "0            []  ...                16                  0   \n",
       "1            []  ...                26                  8   \n",
       "2            []  ...                10                  0   \n",
       "3            []  ...                 0                  0   \n",
       "4            []  ...                 0                  0   \n",
       "\n",
       "   highlight_interactions  slower_interactions  faster_interactions  \\\n",
       "0                     162                    0                    0   \n",
       "1                       0                    0                    0   \n",
       "2                      23                    0                    0   \n",
       "3                     100                    0                    0   \n",
       "4                      10                    0                    0   \n",
       "\n",
       "   slider_interactions  network_enc task_type task_entity temporal_enc  \n",
       "0                    0            m        t1      clique           si  \n",
       "1                    0           nl        t3      single           si  \n",
       "2                   10            m        t1      single           tl  \n",
       "3                    0            m        t3      clique           jp  \n",
       "4                    0            m        t1      single           si  \n",
       "\n",
       "[5 rows x 21 columns]"
      ]
     },
     "execution_count": 5,
     "metadata": {},
     "output_type": "execute_result"
    }
   ],
   "source": [
    "#filter control questions out\n",
    "control_questions = ['control1', 'control2', 'control3']\n",
    "original_df = original_df[~original_df['question'].isin(control_questions)]\n",
    "\n",
    "\n",
    "original_df['network_enc'] = original_df['question'].str.split('_').str[0]\n",
    "original_df['task_type'] = original_df['question'].str.split('_').str[1]\n",
    "original_df['task_entity'] = original_df['question'].str.split('_').str[2]\n",
    "original_df['temporal_enc'] = original_df['question'].str.split('_').str[3]\n",
    "original_df['correct'] = original_df['correct'].apply(str).str.lower()\n",
    "original_df['time'] = original_df['time'].apply(int)\n",
    "\n",
    "original_df = original_df.drop(['question', 'id', 'correct_answer'], axis=1)\n",
    "original_df.head()"
   ]
  },
  {
   "cell_type": "markdown",
   "id": "213afdb5",
   "metadata": {},
   "source": [
    "## Functions"
   ]
  },
  {
   "cell_type": "code",
   "execution_count": 6,
   "id": "6385bbbe",
   "metadata": {},
   "outputs": [],
   "source": [
    "def shapiro_wilk(data):\n",
    "    stat, p = shapiro(data)\n",
    "    print('Statistics=%.3f, p=%.3f' % (stat, p))\n",
    "    # interpret\n",
    "    alpha = 0.05\n",
    "    if p > alpha:\n",
    "        print('Sample looks Gaussian (fail to reject H0)')\n",
    "    else:\n",
    "        print('Sample does not look Gaussian (reject H0)')"
   ]
  },
  {
   "cell_type": "code",
   "execution_count": 7,
   "id": "18efa3a7",
   "metadata": {},
   "outputs": [],
   "source": [
    "def levene_test(arr1, arr2, arr3, arr4, center):\n",
    "    stat, p = levene(arr1, arr2, arr3, arr4, center=center)\n",
    "    print('Statistics=%.3f, p=%.3f' % (stat, p))"
   ]
  },
  {
   "cell_type": "code",
   "execution_count": 8,
   "id": "02df65e1",
   "metadata": {},
   "outputs": [],
   "source": [
    "def test_distribution(time_orig, time_trans):\n",
    "    fig, (ax1, ax2) = plt.subplots(1, 2, figsize=(8, 4))\n",
    "\n",
    "    prob = probplot(time_orig, dist=norm, plot=ax1)\n",
    "    prob = probplot(time_trans, dist=norm, plot=ax2)\n",
    "\n",
    "    ax1.set_title('Original Data')\n",
    "    ax1.set_ylabel('Time Taken')\n",
    "    ax2.set_title('Transformed Data, λ = %s' % -0.322);\n",
    "    ax2.set_ylabel('');"
   ]
  },
  {
   "cell_type": "code",
   "execution_count": 9,
   "id": "fdcb8418",
   "metadata": {},
   "outputs": [],
   "source": [
    "def box_cox(df):\n",
    "    df_trans, lmbda = boxcox(df)\n",
    "    return df_trans"
   ]
  },
  {
   "cell_type": "code",
   "execution_count": 10,
   "id": "b6ea6ad3",
   "metadata": {},
   "outputs": [],
   "source": [
    "def remove_outlier_IQR(df, col, lower, upper):\n",
    "    Q1=df[col].quantile(lower/100)\n",
    "    Q3=df[col].quantile(upper/100)\n",
    "    IQR=Q3-Q1\n",
    "    \n",
    "    df_final=df[~((df[col]<(Q1-1.5*IQR)) | (df[col]>(Q3+1.5*IQR)))]\n",
    "    return df_final"
   ]
  },
  {
   "cell_type": "code",
   "execution_count": 11,
   "id": "561da9b6",
   "metadata": {},
   "outputs": [],
   "source": [
    "def plot_hist(data):\n",
    "    pyplot.hist(data, bins=\"sqrt\")"
   ]
  },
  {
   "cell_type": "code",
   "execution_count": 12,
   "id": "ed545173",
   "metadata": {},
   "outputs": [],
   "source": [
    "def transform_data(df):\n",
    "    df['time_trans'] = box_cox(df['time'])\n",
    "    test_distribution(df['time'], df['time_trans'])\n",
    "\n",
    "    shapiro_wilk(df['time_trans'])"
   ]
  },
  {
   "cell_type": "code",
   "execution_count": 13,
   "id": "884979a4",
   "metadata": {},
   "outputs": [],
   "source": [
    "def check_dist(df):\n",
    "    dist = distfit(alpha=0.05, stats='RSS')\n",
    "    dist.fit_transform(df,verbose=1)\n",
    "    dist.plot(verbose=1)\n",
    "    dist.summary"
   ]
  },
  {
   "cell_type": "code",
   "execution_count": 67,
   "id": "b5468d56",
   "metadata": {},
   "outputs": [],
   "source": [
    "def box_plot(df):\n",
    "    sns.boxplot(x=df)"
   ]
  },
  {
   "cell_type": "markdown",
   "id": "2388a9bd",
   "metadata": {},
   "source": [
    "## H1"
   ]
  },
  {
   "cell_type": "code",
   "execution_count": 14,
   "id": "fc5c2807",
   "metadata": {},
   "outputs": [],
   "source": [
    "# step 1: create data groups (nl vs m)\n",
    "h1_nl_df = original_df.loc[original_df['network_enc'] == 'nl']\n",
    "h1_m_df = original_df.loc[original_df['network_enc'] == 'm']"
   ]
  },
  {
   "cell_type": "code",
   "execution_count": 15,
   "id": "4014e75e",
   "metadata": {},
   "outputs": [
    {
     "data": {
      "image/png": "[encoded data removed]",
      "text/plain": [
       "<Figure size 720x576 with 1 Axes>"
      ]
     },
     "metadata": {
      "needs_background": "light"
     },
     "output_type": "display_data"
    }
   ],
   "source": [
    "# step 2: check data distribution\n",
    "check_dist(box_cox(h1_nl_df['time']))"
   ]
  },
  {
   "cell_type": "code",
   "execution_count": 16,
   "id": "f6f49f0d",
   "metadata": {},
   "outputs": [
    {
     "data": {
      "image/png": "[encoded data removed]",
      "text/plain": [
       "<Figure size 720x576 with 1 Axes>"
      ]
     },
     "metadata": {
      "needs_background": "light"
     },
     "output_type": "display_data"
    }
   ],
   "source": [
    "# step 2: check data distribution\n",
    "check_dist(box_cox(h1_m_df['time']))"
   ]
  },
  {
   "cell_type": "code",
   "execution_count": 17,
   "id": "54d236ab",
   "metadata": {
    "scrolled": true
   },
   "outputs": [
    {
     "name": "stdout",
     "output_type": "stream",
     "text": [
      "Statistics=0.965, p=0.000\n",
      "Sample does not look Gaussian (reject H0)\n"
     ]
    },
    {
     "data": {
      "image/png": "[encoded data removed]",
      "text/plain": [
       "<Figure size 576x288 with 2 Axes>"
      ]
     },
     "metadata": {
      "needs_background": "light"
     },
     "output_type": "display_data"
    }
   ],
   "source": [
    "# step 3: transform using box cox and compare before and after\n",
    "transform_data(h1_nl_df)"
   ]
  },
  {
   "cell_type": "code",
   "execution_count": 18,
   "id": "9f6a2692",
   "metadata": {},
   "outputs": [
    {
     "name": "stdout",
     "output_type": "stream",
     "text": [
      "Statistics=0.983, p=0.000\n",
      "Sample does not look Gaussian (reject H0)\n"
     ]
    },
    {
     "data": {
      "image/png": "[encoded data removed]",
      "text/plain": [
       "<Figure size 576x288 with 2 Axes>"
      ]
     },
     "metadata": {
      "needs_background": "light"
     },
     "output_type": "display_data"
    }
   ],
   "source": [
    "# step 3: transform using box cox and compare before and after\n",
    "transform_data(h1_m_df)"
   ]
  },
  {
   "cell_type": "code",
   "execution_count": 76,
   "id": "7be93731",
   "metadata": {},
   "outputs": [
    {
     "name": "stdout",
     "output_type": "stream",
     "text": [
      "Statistics=0.998, p=0.018\n",
      "Sample does not look Gaussian (reject H0)\n"
     ]
    },
    {
     "data": {
      "image/png": "[encoded data removed]",
      "text/plain": [
       "<Figure size 576x288 with 2 Axes>"
      ]
     },
     "metadata": {
      "needs_background": "light"
     },
     "output_type": "display_data"
    }
   ],
   "source": [
    "# step 4: IQR outlier removal\n",
    "h1_nl_df_cleansed = remove_outlier_IQR(h1_nl_df, 'time_trans', 25, 75)\n",
    "test_distribution(h1_nl_df['time'], h1_nl_df_cleansed['time_trans'])\n",
    "shapiro_wilk(h1_nl_df_cleansed['time_trans'])"
   ]
  },
  {
   "cell_type": "code",
   "execution_count": 77,
   "id": "062c5bc2",
   "metadata": {},
   "outputs": [
    {
     "name": "stdout",
     "output_type": "stream",
     "text": [
      "Statistics=0.995, p=0.000\n",
      "Sample does not look Gaussian (reject H0)\n"
     ]
    },
    {
     "data": {
      "image/png": "[encoded data removed]",
      "text/plain": [
       "<Figure size 576x288 with 2 Axes>"
      ]
     },
     "metadata": {
      "needs_background": "light"
     },
     "output_type": "display_data"
    }
   ],
   "source": [
    "# step 4: IQR outlier removal\n",
    "h1_m_df_cleansed = remove_outlier_IQR(h1_m_df, 'time_trans', 25, 75)\n",
    "test_distribution(h1_m_df['time'], h1_m_df_cleansed['time_trans'])\n",
    "shapiro_wilk(h1_m_df_cleansed['time_trans'])"
   ]
  },
  {
   "cell_type": "code",
   "execution_count": 21,
   "id": "09e6d1be",
   "metadata": {},
   "outputs": [
    {
     "data": {
      "image/png": "[encoded data removed]",
      "text/plain": [
       "<Figure size 432x288 with 1 Axes>"
      ]
     },
     "metadata": {
      "needs_background": "light"
     },
     "output_type": "display_data"
    }
   ],
   "source": [
    "plot_hist(h1_nl_df_cleansed['time'])"
   ]
  },
  {
   "cell_type": "code",
   "execution_count": 22,
   "id": "c357a890",
   "metadata": {},
   "outputs": [
    {
     "data": {
      "image/png": "[encoded data removed]",
      "text/plain": [
       "<Figure size 432x288 with 1 Axes>"
      ]
     },
     "metadata": {
      "needs_background": "light"
     },
     "output_type": "display_data"
    }
   ],
   "source": [
    "plot_hist(h1_nl_df_cleansed['time_trans'])"
   ]
  },
  {
   "cell_type": "code",
   "execution_count": 23,
   "id": "22a8b797",
   "metadata": {},
   "outputs": [
    {
     "data": {
      "image/png": "[encoded data removed]",
      "text/plain": [
       "<Figure size 432x288 with 1 Axes>"
      ]
     },
     "metadata": {
      "needs_background": "light"
     },
     "output_type": "display_data"
    }
   ],
   "source": [
    "plot_hist(h1_m_df_cleansed['time'])"
   ]
  },
  {
   "cell_type": "code",
   "execution_count": 24,
   "id": "cf7895bc",
   "metadata": {},
   "outputs": [
    {
     "data": {
      "image/png": "[encoded data removed]",
      "text/plain": [
       "<Figure size 432x288 with 1 Axes>"
      ]
     },
     "metadata": {
      "needs_background": "light"
     },
     "output_type": "display_data"
    }
   ],
   "source": [
    "plot_hist(h1_m_df_cleansed['time_trans'])"
   ]
  },
  {
   "cell_type": "code",
   "execution_count": 78,
   "id": "54d9ca42",
   "metadata": {},
   "outputs": [],
   "source": [
    "# step 5: further subdivide based on task type\n",
    "# nl vs m for t1\n",
    "h1_nl_df_t1 = h1_nl_df_cleansed.loc[h1_nl_df_cleansed['task_type'] == 't1']\n",
    "h1_m_df_t1 = h1_m_df_cleansed.loc[h1_m_df_cleansed['task_type'] == 't1']\n",
    "\n",
    "# nl vs m for t2\n",
    "h1_nl_df_t2 = h1_nl_df_cleansed.loc[h1_nl_df_cleansed['task_type'] == 't2']\n",
    "h1_m_df_t2 = h1_m_df_cleansed.loc[h1_m_df_cleansed['task_type'] == 't2']\n",
    "\n",
    "# nl vs m for t3\n",
    "h1_nl_df_t3 = h1_nl_df_cleansed.loc[h1_nl_df_cleansed['task_type'] == 't3']\n",
    "h1_m_df_t3 = h1_m_df_cleansed.loc[h1_m_df_cleansed['task_type'] == 't3']"
   ]
  },
  {
   "cell_type": "code",
   "execution_count": 26,
   "id": "2910cb6a",
   "metadata": {},
   "outputs": [
    {
     "ename": "ValueError",
     "evalue": "Unequal N in friedmanchisquare.  Aborting.",
     "output_type": "error",
     "traceback": [
      "\u001b[1;31m---------------------------------------------------------------------------\u001b[0m",
      "\u001b[1;31mValueError\u001b[0m                                Traceback (most recent call last)",
      "\u001b[1;32m~\\AppData\\Local\\Temp/ipykernel_19468/2261558572.py\u001b[0m in \u001b[0;36m<module>\u001b[1;34m\u001b[0m\n\u001b[1;32m----> 1\u001b[1;33m \u001b[0mfriedmanchisquare\u001b[0m\u001b[1;33m(\u001b[0m\u001b[0moriginal_df\u001b[0m\u001b[1;33m[\u001b[0m\u001b[1;34m'time'\u001b[0m\u001b[1;33m]\u001b[0m\u001b[1;33m,\u001b[0m \u001b[0mh1_nl_df_t2\u001b[0m\u001b[1;33m[\u001b[0m\u001b[1;34m'time_trans'\u001b[0m\u001b[1;33m]\u001b[0m\u001b[1;33m,\u001b[0m \u001b[0mh1_nl_df_t3\u001b[0m\u001b[1;33m[\u001b[0m\u001b[1;34m'time_trans'\u001b[0m\u001b[1;33m]\u001b[0m\u001b[1;33m)\u001b[0m\u001b[1;33m\u001b[0m\u001b[1;33m\u001b[0m\u001b[0m\n\u001b[0m",
      "\u001b[1;32m~\\anaconda3\\lib\\site-packages\\scipy\\stats\\stats.py\u001b[0m in \u001b[0;36mfriedmanchisquare\u001b[1;34m(*args)\u001b[0m\n\u001b[0;32m   7956\u001b[0m     \u001b[1;32mfor\u001b[0m \u001b[0mi\u001b[0m \u001b[1;32min\u001b[0m \u001b[0mrange\u001b[0m\u001b[1;33m(\u001b[0m\u001b[1;36m1\u001b[0m\u001b[1;33m,\u001b[0m \u001b[0mk\u001b[0m\u001b[1;33m)\u001b[0m\u001b[1;33m:\u001b[0m\u001b[1;33m\u001b[0m\u001b[1;33m\u001b[0m\u001b[0m\n\u001b[0;32m   7957\u001b[0m         \u001b[1;32mif\u001b[0m \u001b[0mlen\u001b[0m\u001b[1;33m(\u001b[0m\u001b[0margs\u001b[0m\u001b[1;33m[\u001b[0m\u001b[0mi\u001b[0m\u001b[1;33m]\u001b[0m\u001b[1;33m)\u001b[0m \u001b[1;33m!=\u001b[0m \u001b[0mn\u001b[0m\u001b[1;33m:\u001b[0m\u001b[1;33m\u001b[0m\u001b[1;33m\u001b[0m\u001b[0m\n\u001b[1;32m-> 7958\u001b[1;33m             \u001b[1;32mraise\u001b[0m \u001b[0mValueError\u001b[0m\u001b[1;33m(\u001b[0m\u001b[1;34m'Unequal N in friedmanchisquare.  Aborting.'\u001b[0m\u001b[1;33m)\u001b[0m\u001b[1;33m\u001b[0m\u001b[1;33m\u001b[0m\u001b[0m\n\u001b[0m\u001b[0;32m   7959\u001b[0m \u001b[1;33m\u001b[0m\u001b[0m\n\u001b[0;32m   7960\u001b[0m     \u001b[1;31m# Rank data\u001b[0m\u001b[1;33m\u001b[0m\u001b[1;33m\u001b[0m\u001b[0m\n",
      "\u001b[1;31mValueError\u001b[0m: Unequal N in friedmanchisquare.  Aborting."
     ]
    }
   ],
   "source": [
    "friedmanchisquare(original_df['time'], h1_nl_df_t2['time_trans'], h1_nl_df_t3['time_trans'])"
   ]
  },
  {
   "cell_type": "code",
   "execution_count": 40,
   "id": "5162d35f",
   "metadata": {},
   "outputs": [
    {
     "data": {
      "image/png": "[encoded data removed]",
      "text/plain": [
       "<Figure size 720x576 with 1 Axes>"
      ]
     },
     "metadata": {
      "needs_background": "light"
     },
     "output_type": "display_data"
    }
   ],
   "source": [
    "check_dist(box_cox(original_df['time']))"
   ]
  },
  {
   "cell_type": "code",
   "execution_count": 41,
   "id": "716e9158",
   "metadata": {},
   "outputs": [
    {
     "name": "stdout",
     "output_type": "stream",
     "text": [
      "Statistics=0.977, p=0.000\n",
      "Sample does not look Gaussian (reject H0)\n"
     ]
    },
    {
     "data": {
      "image/png": "[encoded data removed]",
      "text/plain": [
       "<Figure size 576x288 with 2 Axes>"
      ]
     },
     "metadata": {
      "needs_background": "light"
     },
     "output_type": "display_data"
    }
   ],
   "source": [
    "transform_data(original_df)"
   ]
  },
  {
   "cell_type": "code",
   "execution_count": 79,
   "id": "923e2661",
   "metadata": {},
   "outputs": [
    {
     "name": "stdout",
     "output_type": "stream",
     "text": [
      "Statistics=0.996, p=0.000\n",
      "Sample does not look Gaussian (reject H0)\n"
     ]
    },
    {
     "data": {
      "image/png": "[encoded data removed]",
      "text/plain": [
       "<Figure size 576x288 with 2 Axes>"
      ]
     },
     "metadata": {
      "needs_background": "light"
     },
     "output_type": "display_data"
    }
   ],
   "source": [
    "# step 4: IQR outlier removal\n",
    "original_df_cleansed = remove_outlier_IQR(original_df, 'time_trans', 25, 75)\n",
    "test_distribution(original_df['time'], original_df_cleansed['time_trans'])\n",
    "shapiro_wilk(original_df_cleansed['time_trans'])"
   ]
  },
  {
   "cell_type": "code",
   "execution_count": 46,
   "id": "19f84ed5",
   "metadata": {},
   "outputs": [
    {
     "data": {
      "text/html": [
       "<div>\n",
       "<style scoped>\n",
       "    .dataframe tbody tr th:only-of-type {\n",
       "        vertical-align: middle;\n",
       "    }\n",
       "\n",
       "    .dataframe tbody tr th {\n",
       "        vertical-align: top;\n",
       "    }\n",
       "\n",
       "    .dataframe thead th {\n",
       "        text-align: right;\n",
       "    }\n",
       "</style>\n",
       "<table border=\"1\" class=\"dataframe\">\n",
       "  <thead>\n",
       "    <tr style=\"text-align: right;\">\n",
       "      <th></th>\n",
       "      <th>Source</th>\n",
       "      <th>W</th>\n",
       "      <th>ddof1</th>\n",
       "      <th>Q</th>\n",
       "      <th>p-unc</th>\n",
       "    </tr>\n",
       "  </thead>\n",
       "  <tbody>\n",
       "    <tr>\n",
       "      <th>Friedman</th>\n",
       "      <td>network_enc</td>\n",
       "      <td>1.0</td>\n",
       "      <td>1</td>\n",
       "      <td>3.0</td>\n",
       "      <td>0.083265</td>\n",
       "    </tr>\n",
       "  </tbody>\n",
       "</table>\n",
       "</div>"
      ],
      "text/plain": [
       "               Source    W  ddof1    Q     p-unc\n",
       "Friedman  network_enc  1.0      1  3.0  0.083265"
      ]
     },
     "execution_count": 46,
     "metadata": {},
     "output_type": "execute_result"
    }
   ],
   "source": [
    "# # check if nl vs m is different\n",
    "pg.friedman(data=original_df, dv=\"time_trans\", within=\"network_enc\", subject=\"task_type\", method=\"chisq\")"
   ]
  },
  {
   "cell_type": "code",
   "execution_count": null,
   "id": "026446c0",
   "metadata": {},
   "outputs": [],
   "source": [
    "# check if tasks are different in nl and m\n",
    "pg.friedman(data=h1_nl_df, dv=\"time_trans\", within=\"task_type\")"
   ]
  },
  {
   "cell_type": "code",
   "execution_count": null,
   "id": "77477b16",
   "metadata": {},
   "outputs": [],
   "source": [
    "friedman(data=h1_m_df, dv=\"time_trans\", within=\"task_type\")"
   ]
  },
  {
   "cell_type": "code",
   "execution_count": 71,
   "id": "d2cbe850",
   "metadata": {},
   "outputs": [
    {
     "data": {
      "text/plain": [
       "MannwhitneyuResult(statistic=1309116.0, pvalue=4.609345345004485e-06)"
      ]
     },
     "execution_count": 71,
     "metadata": {},
     "output_type": "execute_result"
    }
   ],
   "source": [
    "# H0: NL[time] === M[time]\n",
    "# H1: NL[time] !== M[time]\n",
    "mannwhitneyu(h1_nl_df['time'], h1_m_df['time'], alternative=\"two-sided\") # 0.00000460934 << 0.05 -> reject H0 assume not equal"
   ]
  },
  {
   "cell_type": "code",
   "execution_count": 72,
   "id": "a62cc59a",
   "metadata": {},
   "outputs": [
    {
     "data": {
      "text/plain": [
       "MannwhitneyuResult(statistic=146048.5, pvalue=0.013454838485222874)"
      ]
     },
     "execution_count": 72,
     "metadata": {},
     "output_type": "execute_result"
    }
   ],
   "source": [
    "mannwhitneyu(h1_nl_df_t1['time'], h1_m_df_t1['time'], alternative=\"two-sided\") # ~0.014-> reject? << 0.05 -> reject H0"
   ]
  },
  {
   "cell_type": "code",
   "execution_count": 73,
   "id": "8a7780e6",
   "metadata": {},
   "outputs": [
    {
     "data": {
      "text/plain": [
       "MannwhitneyuResult(statistic=146048.5, pvalue=0.006727419242611437)"
      ]
     },
     "execution_count": 73,
     "metadata": {},
     "output_type": "execute_result"
    }
   ],
   "source": [
    "# H0 NL_T1[time] >= M_T1[time]\n",
    "# H1.1 NL_T1[time] < M_T1[time]\n",
    "mannwhitneyu(h1_nl_df_t1['time'], h1_m_df_t1['time'], alternative=\"less\") # 0.006867247155202645 -> reject?"
   ]
  },
  {
   "cell_type": "code",
   "execution_count": 96,
   "id": "6496207d",
   "metadata": {},
   "outputs": [
    {
     "data": {
      "text/plain": [
       "<AxesSubplot:xlabel='time', ylabel='network_enc'>"
      ]
     },
     "execution_count": 96,
     "metadata": {},
     "output_type": "execute_result"
    },
    {
     "data": {
      "image/png": "[encoded data removed]",
      "text/plain": [
       "<Figure size 432x288 with 1 Axes>"
      ]
     },
     "metadata": {
      "needs_background": "light"
     },
     "output_type": "display_data"
    }
   ],
   "source": [
    "sns.boxplot(x='time', y='network_enc', data=original_df_cleansed[original_df_cleansed['task_type'] == 't1'])"
   ]
  },
  {
   "cell_type": "code",
   "execution_count": 95,
   "id": "d53e10f8",
   "metadata": {},
   "outputs": [
    {
     "data": {
      "text/plain": [
       "<AxesSubplot:xlabel='correct', ylabel='count'>"
      ]
     },
     "execution_count": 95,
     "metadata": {},
     "output_type": "execute_result"
    },
    {
     "data": {
      "image/png": "[encoded data removed]",
      "text/plain": [
       "<Figure size 432x288 with 1 Axes>"
      ]
     },
     "metadata": {
      "needs_background": "light"
     },
     "output_type": "display_data"
    }
   ],
   "source": [
    "sns.countplot(x=\"correct\", hue=\"network_enc\", data=original_df_cleansed[original_df_cleansed['task_type'] == 't1'])"
   ]
  },
  {
   "cell_type": "code",
   "execution_count": 86,
   "id": "ef743e7f",
   "metadata": {},
   "outputs": [
    {
     "data": {
      "text/plain": [
       "<AxesSubplot:xlabel='time', ylabel='network_enc'>"
      ]
     },
     "execution_count": 86,
     "metadata": {},
     "output_type": "execute_result"
    },
    {
     "data": {
      "image/png": "[encoded data removed]",
      "text/plain": [
       "<Figure size 432x288 with 1 Axes>"
      ]
     },
     "metadata": {
      "needs_background": "light"
     },
     "output_type": "display_data"
    }
   ],
   "source": [
    "sns.boxplot(x='time', y='network_enc', data=original_df_cleansed[original_df_cleansed['task_type'] == 't2'])"
   ]
  },
  {
   "cell_type": "code",
   "execution_count": 97,
   "id": "f02d2d43",
   "metadata": {},
   "outputs": [
    {
     "data": {
      "text/plain": [
       "<AxesSubplot:xlabel='correct', ylabel='count'>"
      ]
     },
     "execution_count": 97,
     "metadata": {},
     "output_type": "execute_result"
    },
    {
     "data": {
      "image/png": "[encoded data removed]",
      "text/plain": [
       "<Figure size 432x288 with 1 Axes>"
      ]
     },
     "metadata": {
      "needs_background": "light"
     },
     "output_type": "display_data"
    }
   ],
   "source": [
    "sns.countplot(x=\"correct\", hue=\"network_enc\", data=original_df_cleansed[original_df_cleansed['task_type'] == 't2'])"
   ]
  },
  {
   "cell_type": "code",
   "execution_count": 87,
   "id": "aa9c0d2d",
   "metadata": {},
   "outputs": [
    {
     "data": {
      "text/plain": [
       "<AxesSubplot:xlabel='time', ylabel='network_enc'>"
      ]
     },
     "execution_count": 87,
     "metadata": {},
     "output_type": "execute_result"
    },
    {
     "data": {
      "image/png": "[encoded data removed]",
      "text/plain": [
       "<Figure size 432x288 with 1 Axes>"
      ]
     },
     "metadata": {
      "needs_background": "light"
     },
     "output_type": "display_data"
    }
   ],
   "source": [
    "sns.boxplot(x='time', y='network_enc', data=original_df_cleansed[original_df_cleansed['task_type'] == 't3'])"
   ]
  },
  {
   "cell_type": "code",
   "execution_count": 98,
   "id": "7dc9a8f8",
   "metadata": {},
   "outputs": [
    {
     "data": {
      "text/plain": [
       "<AxesSubplot:xlabel='correct', ylabel='count'>"
      ]
     },
     "execution_count": 98,
     "metadata": {},
     "output_type": "execute_result"
    },
    {
     "data": {
      "image/png": "[encoded data removed]",
      "text/plain": [
       "<Figure size 432x288 with 1 Axes>"
      ]
     },
     "metadata": {
      "needs_background": "light"
     },
     "output_type": "display_data"
    }
   ],
   "source": [
    "sns.countplot(x=\"correct\", hue=\"network_enc\", data=original_df_cleansed[original_df_cleansed['task_type'] == 't3'])"
   ]
  },
  {
   "cell_type": "code",
   "execution_count": 63,
   "id": "542bf2a6",
   "metadata": {},
   "outputs": [
    {
     "data": {
      "text/plain": [
       "MannwhitneyuResult(statistic=154540.5, pvalue=0.16509464970518734)"
      ]
     },
     "execution_count": 63,
     "metadata": {},
     "output_type": "execute_result"
    }
   ],
   "source": [
    "# H0 NL_T2[time] >= M_T2[time]\n",
    "# H1.2 NL_T2[time] < M_T2[time]\n",
    "mannwhitneyu(h1_nl_df_t2['time'], h1_m_df_t2['time'], alternative=\"less\") # 0.16509464970518734 -> approve?"
   ]
  },
  {
   "cell_type": "code",
   "execution_count": 64,
   "id": "623e762f",
   "metadata": {},
   "outputs": [
    {
     "data": {
      "text/plain": [
       "MannwhitneyuResult(statistic=133248.5, pvalue=6.178450282400558e-07)"
      ]
     },
     "execution_count": 64,
     "metadata": {},
     "output_type": "execute_result"
    }
   ],
   "source": [
    "# H0 NL_T3[time] >= M_T3[time]\n",
    "# H1.3 NL_T3[time] < M_T3[time]\n",
    "mannwhitneyu(h1_nl_df_t3['time'], h1_m_df_t3['time'], alternative=\"less\") # 6.178450282400558e-07 -> reject?"
   ]
  },
  {
   "cell_type": "code",
   "execution_count": 53,
   "id": "04b55826",
   "metadata": {},
   "outputs": [
    {
     "name": "stdout",
     "output_type": "stream",
     "text": [
      "1701 1693\n"
     ]
    }
   ],
   "source": [
    "print(len(h1_nl_df['time_trans']), len(h1_m_df['time_trans']))"
   ]
  },
  {
   "cell_type": "markdown",
   "id": "8ce43f84",
   "metadata": {},
   "source": [
    "## H2"
   ]
  },
  {
   "cell_type": "code",
   "execution_count": null,
   "id": "47b2646a",
   "metadata": {},
   "outputs": [],
   "source": [
    "# step 1: create data groups (si vs jp vs tl vs an)\n",
    "h2_si_df = original_df.loc[original_df['temporal_enc'] == 'si']\n",
    "h2_jp_df = original_df.loc[original_df['temporal_enc'] == 'jp']\n",
    "h2_tl_df = original_df.loc[original_df['temporal_enc'] == 'tl']\n",
    "h2_an_df = original_df.loc[original_df['temporal_enc'] == 'an']"
   ]
  },
  {
   "cell_type": "code",
   "execution_count": null,
   "id": "5eb70bb1",
   "metadata": {},
   "outputs": [],
   "source": [
    "# step 2: check data distribution\n",
    "check_dist(box_cox(h2_si_df['time']))"
   ]
  },
  {
   "cell_type": "code",
   "execution_count": null,
   "id": "99ce442b",
   "metadata": {},
   "outputs": [],
   "source": [
    "# step 2: check data distribution\n",
    "check_dist(box_cox(h2_jp_df['time']))"
   ]
  },
  {
   "cell_type": "code",
   "execution_count": null,
   "id": "90e1a7bb",
   "metadata": {},
   "outputs": [],
   "source": [
    "# step 2: check data distribution\n",
    "check_dist(box_cox(h2_tl_df['time']))"
   ]
  },
  {
   "cell_type": "code",
   "execution_count": null,
   "id": "033dd20d",
   "metadata": {},
   "outputs": [],
   "source": [
    "# step 2: check data distribution\n",
    "check_dist(box_cox(h2_an_df['time']))"
   ]
  },
  {
   "cell_type": "code",
   "execution_count": null,
   "id": "4c8c487f",
   "metadata": {},
   "outputs": [],
   "source": [
    "# step 3: transform using box cox and compare before and after\n",
    "transform_data(h2_si_df)"
   ]
  },
  {
   "cell_type": "code",
   "execution_count": null,
   "id": "b496dd67",
   "metadata": {},
   "outputs": [],
   "source": [
    "# step 3: transform using box cox and compare before and after\n",
    "transform_data(h2_jp_df)"
   ]
  },
  {
   "cell_type": "code",
   "execution_count": null,
   "id": "ad383b05",
   "metadata": {},
   "outputs": [],
   "source": [
    "# step 3: transform using box cox and compare before and after\n",
    "transform_data(h2_tl_df)"
   ]
  },
  {
   "cell_type": "code",
   "execution_count": null,
   "id": "0924330a",
   "metadata": {},
   "outputs": [],
   "source": [
    "# step 3: transform using box cox and compare before and after\n",
    "transform_data(h2_an_df)"
   ]
  },
  {
   "cell_type": "code",
   "execution_count": null,
   "id": "af735a21",
   "metadata": {},
   "outputs": [],
   "source": [
    "# step 4: IQR outlier removal\n",
    "h2_si_df_cleansed = remove_outlier_IQR(h2_si_df, 'time_trans', 15, 85)\n",
    "test_distribution(h2_si_df['time'], h2_si_df_cleansed['time_trans'])\n",
    "shapiro_wilk(h2_si_df_cleansed['time_trans'])"
   ]
  },
  {
   "cell_type": "code",
   "execution_count": null,
   "id": "b4ba2f93",
   "metadata": {},
   "outputs": [],
   "source": [
    "# step 4: IQR outlier removal\n",
    "h2_jp_df_cleansed = remove_outlier_IQR(h2_jp_df, 'time_trans', 15, 85)\n",
    "test_distribution(h2_jp_df['time'], h2_jp_df_cleansed['time_trans'])\n",
    "shapiro_wilk(h2_jp_df_cleansed['time_trans'])"
   ]
  },
  {
   "cell_type": "code",
   "execution_count": null,
   "id": "d1949e33",
   "metadata": {},
   "outputs": [],
   "source": [
    "# step 4: IQR outlier removal\n",
    "h2_tl_df_cleansed = remove_outlier_IQR(h2_tl_df, 'time_trans', 15, 85)\n",
    "test_distribution(h2_tl_df['time'], h2_tl_df_cleansed['time_trans'])\n",
    "shapiro_wilk(h2_tl_df_cleansed['time_trans'])"
   ]
  },
  {
   "cell_type": "code",
   "execution_count": null,
   "id": "72104782",
   "metadata": {},
   "outputs": [],
   "source": [
    "# step 4: IQR outlier removal\n",
    "h2_an_df_cleansed = remove_outlier_IQR(h2_an_df, 'time_trans', 15, 85)\n",
    "test_distribution(h2_an_df['time'], h2_an_df_cleansed['time_trans'])\n",
    "shapiro_wilk(h2_an_df_cleansed['time_trans'])"
   ]
  },
  {
   "cell_type": "markdown",
   "id": "03b267f6",
   "metadata": {},
   "source": [
    "## H3"
   ]
  },
  {
   "cell_type": "code",
   "execution_count": null,
   "id": "29879d5a",
   "metadata": {},
   "outputs": [],
   "source": [
    "# step 1: create data groups (tl vs an)\n",
    "h3_tl_df = original_df.loc[original_df['temporal_enc'] == 'tl']\n",
    "h3_an_df = original_df.loc[original_df['temporal_enc'] == 'an']"
   ]
  },
  {
   "cell_type": "code",
   "execution_count": null,
   "id": "fb510909",
   "metadata": {},
   "outputs": [],
   "source": [
    "# step 2: check data distribution\n",
    "check_dist(box_cox(h3_tl_df['time']))"
   ]
  },
  {
   "cell_type": "code",
   "execution_count": null,
   "id": "f6af5781",
   "metadata": {},
   "outputs": [],
   "source": [
    "# step 2: check data distribution\n",
    "check_dist(box_cox(h3_an_df['time']))"
   ]
  },
  {
   "cell_type": "code",
   "execution_count": null,
   "id": "7e569c14",
   "metadata": {},
   "outputs": [],
   "source": [
    "# step 3: transform using box cox and compare before and after\n",
    "transform_data(h3_tl_df)"
   ]
  },
  {
   "cell_type": "code",
   "execution_count": null,
   "id": "04217cee",
   "metadata": {},
   "outputs": [],
   "source": [
    "# step 3: transform using box cox and compare before and after\n",
    "transform_data(h3_an_df)"
   ]
  },
  {
   "cell_type": "code",
   "execution_count": null,
   "id": "ff59a0dd",
   "metadata": {},
   "outputs": [],
   "source": [
    "# step 4: IQR outlier removal\n",
    "h3_tl_df_cleansed = remove_outlier_IQR(h3_tl_df, 'time_trans', 15, 85)\n",
    "test_distribution(h3_tl_df['time'], h3_tl_df_cleansed['time_trans'])\n",
    "shapiro_wilk(h3_tl_df_cleansed['time_trans'])"
   ]
  },
  {
   "cell_type": "code",
   "execution_count": null,
   "id": "9062dd30",
   "metadata": {},
   "outputs": [],
   "source": [
    "# step 4: IQR outlier removal\n",
    "h3_an_df_cleansed = remove_outlier_IQR(h3_an_df, 'time_trans', 15, 85)\n",
    "test_distribution(h3_an_df['time'], h3_an_df_cleansed['time_trans'])\n",
    "shapiro_wilk(h3_an_df_cleansed['time_trans'])"
   ]
  },
  {
   "cell_type": "markdown",
   "id": "9890041f",
   "metadata": {},
   "source": [
    "## H4"
   ]
  },
  {
   "cell_type": "code",
   "execution_count": null,
   "id": "ea0fa12e",
   "metadata": {},
   "outputs": [],
   "source": [
    "# step 1: create data groups (a vs b)\n",
    "h4_a_df = original_df.loc[original_df['group'] == 'A']\n",
    "h4_b_df = original_df.loc[original_df['group'] == 'B']"
   ]
  },
  {
   "cell_type": "code",
   "execution_count": null,
   "id": "b9f06697",
   "metadata": {},
   "outputs": [],
   "source": [
    "# step 2: check data distribution\n",
    "check_dist(box_cox(h4_a_df['time']))"
   ]
  },
  {
   "cell_type": "code",
   "execution_count": null,
   "id": "cdaf667e",
   "metadata": {},
   "outputs": [],
   "source": [
    "# step 2: check data distribution\n",
    "check_dist(box_cox(h4_b_df['time']))"
   ]
  },
  {
   "cell_type": "code",
   "execution_count": null,
   "id": "f46b5c09",
   "metadata": {},
   "outputs": [],
   "source": [
    "# step 3: transform using box cox and compare before and after\n",
    "transform_data(h4_a_df)"
   ]
  },
  {
   "cell_type": "code",
   "execution_count": null,
   "id": "691afb7d",
   "metadata": {},
   "outputs": [],
   "source": [
    "# step 3: transform using box cox and compare before and after\n",
    "transform_data(h4_b_df)"
   ]
  },
  {
   "cell_type": "code",
   "execution_count": null,
   "id": "23eaaf42",
   "metadata": {},
   "outputs": [],
   "source": [
    "# step 4: IQR outlier removal\n",
    "h4_a_df_cleansed = remove_outlier_IQR(h4_a_df, 'time_trans', 15, 85)\n",
    "test_distribution(h4_a_df['time'], h4_a_df_cleansed['time_trans'])\n",
    "shapiro_wilk(h4_a_df_cleansed['time_trans'])"
   ]
  },
  {
   "cell_type": "code",
   "execution_count": null,
   "id": "c6569008",
   "metadata": {},
   "outputs": [],
   "source": [
    "# step 4: IQR outlier removal\n",
    "h4_b_df_cleansed = remove_outlier_IQR(h4_b_df, 'time_trans', 15, 85)\n",
    "test_distribution(h4_b_df['time'], h4_b_df_cleansed['time_trans'])\n",
    "shapiro_wilk(h4_b_df_cleansed['time_trans'])"
   ]
  },
  {
   "cell_type": "markdown",
   "id": "96de5ccd",
   "metadata": {},
   "source": [
    "## H5"
   ]
  },
  {
   "cell_type": "code",
   "execution_count": null,
   "id": "68712a33",
   "metadata": {},
   "outputs": [],
   "source": [
    "# step 1: create data groups (tl vs an)\n",
    "h5_nl_df = original_df.loc[original_df['network_enc'] == 'nl']\n",
    "h5_m_df = original_df.loc[original_df['network_enc'] == 'm']"
   ]
  },
  {
   "cell_type": "code",
   "execution_count": null,
   "id": "6e7247be",
   "metadata": {},
   "outputs": [],
   "source": [
    "# step 2: check data distribution\n",
    "check_dist(box_cox(h5_nl_df['time']))"
   ]
  },
  {
   "cell_type": "code",
   "execution_count": null,
   "id": "6343f815",
   "metadata": {},
   "outputs": [],
   "source": [
    "# step 2: check data distribution\n",
    "check_dist(box_cox(h5_m_df['time']))"
   ]
  },
  {
   "cell_type": "code",
   "execution_count": null,
   "id": "c0806b2d",
   "metadata": {},
   "outputs": [],
   "source": [
    "# step 3: transform using box cox and compare before and after\n",
    "transform_data(h5_nl_df)"
   ]
  },
  {
   "cell_type": "code",
   "execution_count": null,
   "id": "c00caa7b",
   "metadata": {},
   "outputs": [],
   "source": [
    "# step 3: transform using box cox and compare before and after\n",
    "transform_data(h5_m_df)"
   ]
  },
  {
   "cell_type": "code",
   "execution_count": null,
   "id": "77741a12",
   "metadata": {},
   "outputs": [],
   "source": [
    "# step 4: IQR outlier removal\n",
    "h5_nl_df_cleansed = remove_outlier_IQR(h5_nl_df, 'time_trans', 15, 85)\n",
    "test_distribution(h5_nl_df['time'], h5_nl_df_cleansed['time_trans'])\n",
    "shapiro_wilk(h5_nl_df_cleansed['time_trans'])"
   ]
  },
  {
   "cell_type": "code",
   "execution_count": null,
   "id": "61d576cc",
   "metadata": {},
   "outputs": [],
   "source": [
    "# step 4: IQR outlier removal\n",
    "h5_m_df_cleansed = remove_outlier_IQR(h5_m_df, 'time_trans', 15, 85)\n",
    "test_distribution(h5_m_df['time'], h5_m_df_cleansed['time_trans'])\n",
    "shapiro_wilk(h5_m_df_cleansed['time_trans'])"
   ]
  },
  {
   "cell_type": "code",
   "execution_count": null,
   "id": "be78ebec",
   "metadata": {},
   "outputs": [],
   "source": [
    "# step 5: further subdivide based on task type\n",
    "# single vs clique for nl\n",
    "h5_nl_single_df = h5_nl_df.loc[h5_nl_df['task_entity'] == 'single']\n",
    "h5_nl_clique_df = h5_nl_df.loc[h5_nl_df['task_entity'] == 'clique']\n",
    "\n",
    "# single vs clique for m\n",
    "h5_m_single_df = h5_m_df.loc[h5_m_df['task_entity'] == 'single']\n",
    "h5_m_clique_df = h5_m_df.loc[h5_m_df['task_entity'] == 'clique']"
   ]
  },
  {
   "cell_type": "markdown",
   "id": "7a0eeee5",
   "metadata": {},
   "source": [
    "## H6"
   ]
  }
 ],
 "metadata": {
  "kernelspec": {
   "display_name": "Python 3 (ipykernel)",
   "language": "python",
   "name": "python3"
  },
  "language_info": {
   "codemirror_mode": {
    "name": "ipython",
    "version": 3
   },
   "file_extension": ".py",
   "mimetype": "text/x-python",
   "name": "python",
   "nbconvert_exporter": "python",
   "pygments_lexer": "ipython3",
   "version": "3.9.7"
  }
 },
 "nbformat": 4,
 "nbformat_minor": 5
}
