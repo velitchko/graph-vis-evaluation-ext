{
 "cells": [
  {
   "cell_type": "code",
   "execution_count": 1,
   "metadata": {},
   "outputs": [],
   "source": [
    "import networkx as nx\n",
    "from networkx.readwrite import json_graph\n",
    "import json\n",
    "import sys\n",
    "import string\n",
    "import random\n",
    "import numpy as np"
   ]
  },
  {
   "cell_type": "code",
   "execution_count": 2,
   "metadata": {},
   "outputs": [],
   "source": [
    "def generate_random_label():\n",
    "    base = ''.join(random.choice(string.ascii_uppercase) for i in range(2))\n",
    "    n1 = int(random.random()*10)\n",
    "    n2 = int(random.random()*10)\n",
    "    return base + str(n1) + str(n2)"
   ]
  },
  {
   "cell_type": "code",
   "execution_count": 3,
   "metadata": {},
   "outputs": [],
   "source": [
    "nodes = 30\n",
    "selectedSet = set()"
   ]
  },
  {
   "cell_type": "code",
   "execution_count": 4,
   "metadata": {},
   "outputs": [],
   "source": [
    "G = nx.scale_free_graph(nodes, 0.48, 0.45, 0.07)"
   ]
  },
  {
   "cell_type": "code",
   "execution_count": 5,
   "metadata": {},
   "outputs": [],
   "source": [
    "# remove self loops\n",
    "for s, t, k in list(G.edges(data=True)):\n",
    "    if s == t: \n",
    "        G.remove_edge(s,t)"
   ]
  },
  {
   "cell_type": "code",
   "execution_count": 6,
   "metadata": {},
   "outputs": [],
   "source": [
    "# remove multi edges\n",
    "uniqueEdge = dict()\n",
    "for s, t, k in list(G.edges(data=True)):\n",
    "    if f'{s}:{t}' in uniqueEdge: \n",
    "        uniqueEdge[f'{s}:{t}'] = uniqueEdge.get(f'{s}:{t}') + 1\n",
    "    else: \n",
    "        uniqueEdge[f'{s}:{t}'] = 1\n",
    "        \n",
    "for s, t, k in list(G.edges(data=True)):\n",
    "    if f'{s}:{t}' in uniqueEdge and uniqueEdge.get(f'{s}:{t}') > 1:\n",
    "        G.remove_edge(s,t)\n",
    "        uniqueEdge[f'{s}:{t}'] = uniqueEdge.get(f'{s}:{t}') - 1"
   ]
  },
  {
   "cell_type": "code",
   "execution_count": 7,
   "metadata": {},
   "outputs": [
    {
     "name": "stdout",
     "output_type": "stream",
     "text": [
      "Created graph with 30 nodes and 37 edges.\n"
     ]
    }
   ],
   "source": [
    "print(\"Created graph with \" + str(len(G.nodes)) + \" nodes and \" + str(len(G.edges)) + \" edges.\")\n",
    "for i in range(len(G.nodes)):\n",
    "    label = generate_random_label()\n",
    "    while label in selectedSet:\n",
    "        label = generate_random_label()\n",
    "    selectedSet.add(label)\n",
    "    G.nodes[i][\"label\"] = label"
   ]
  },
  {
   "cell_type": "code",
   "execution_count": 8,
   "metadata": {},
   "outputs": [
    {
     "name": "stdout",
     "output_type": "stream",
     "text": [
      "{}\n",
      "{}\n",
      "{}\n",
      "{}\n",
      "{}\n",
      "{}\n",
      "{}\n",
      "{}\n",
      "{}\n",
      "{}\n",
      "{}\n",
      "{}\n",
      "{}\n",
      "{}\n",
      "{}\n",
      "{}\n",
      "{}\n",
      "{}\n",
      "{}\n",
      "{}\n",
      "{}\n",
      "{}\n",
      "{}\n",
      "{}\n",
      "{}\n",
      "{}\n",
      "{}\n",
      "{}\n",
      "{}\n",
      "{}\n",
      "{}\n",
      "{}\n",
      "{}\n",
      "{}\n",
      "{}\n",
      "{}\n",
      "{}\n"
     ]
    }
   ],
   "source": [
    "for s, t, k in G.edges(data=True):\n",
    "    timeArray = [int(np.random.choice(np.arange(0, 2, 1), p = [0.05, 0.95])),\n",
    "                 int(np.random.choice(np.arange(0, 2, 1), p = [0.05, 0.95])),\n",
    "                 int(np.random.choice(np.arange(0, 2, 1), p = [0.05, 0.95])),\n",
    "                 int(np.random.choice(np.arange(0, 2, 1), p = [0.05, 0.95]))\n",
    "                ]\n",
    "    G.adj[s][t][0]['time'] = timeArray"
   ]
  },
  {
   "cell_type": "code",
   "execution_count": 9,
   "metadata": {},
   "outputs": [],
   "source": [
    "file_name = \"SFG_\"+ str(len(G.nodes)) + \"_\" + str(len(G.edges))"
   ]
  },
  {
   "cell_type": "code",
   "execution_count": 10,
   "metadata": {},
   "outputs": [
    {
     "name": "stdout",
     "output_type": "stream",
     "text": [
      "SFG_30_37 done.\n"
     ]
    }
   ],
   "source": [
    "# nx.write_gml(G, file_name + \".gml\")\n",
    "\n",
    "json_data = nx.json_graph.node_link_data(G)\n",
    "#H = nx.json_graph.node_link_graph(json_data)\n",
    "\n",
    "with open(file_name + '.json', 'w') as outfile:\n",
    "    json.dump(json_data, outfile)\n",
    "\n",
    "print(file_name, \"done.\")"
   ]
  }
 ],
 "metadata": {
  "kernelspec": {
   "display_name": "Python 3",
   "language": "python",
   "name": "python3"
  },
  "language_info": {
   "codemirror_mode": {
    "name": "ipython",
    "version": 3
   },
   "file_extension": ".py",
   "mimetype": "text/x-python",
   "name": "python",
   "nbconvert_exporter": "python",
   "pygments_lexer": "ipython3",
   "version": "3.7.6"
  }
 },
 "nbformat": 4,
 "nbformat_minor": 2
}
