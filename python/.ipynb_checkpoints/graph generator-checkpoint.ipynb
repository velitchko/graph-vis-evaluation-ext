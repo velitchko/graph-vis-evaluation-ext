{
 "cells": [
  {
   "cell_type": "code",
   "execution_count": 13,
   "metadata": {},
   "outputs": [],
   "source": [
    "import networkx as nx\n",
    "from networkx.readwrite import json_graph\n",
    "import json\n",
    "import sys\n",
    "import string\n",
    "import random\n",
    "import numpy as np\n",
    "import itertools"
   ]
  },
  {
   "cell_type": "code",
   "execution_count": 2,
   "metadata": {},
   "outputs": [],
   "source": [
    "# generate random label\n",
    "def generate_random_label():\n",
    "    base = ''.join(random.choice(string.ascii_uppercase) for i in range(2))\n",
    "    n1 = int(random.random()*10)\n",
    "    n2 = int(random.random()*10)\n",
    "    return base + str(n1) + str(n2)"
   ]
  },
  {
   "cell_type": "code",
   "execution_count": 30,
   "metadata": {},
   "outputs": [],
   "source": [
    "# network settings\n",
    "nodes = 30\n",
    "selected_set = set()\n",
    "clique = True # False True"
   ]
  },
  {
   "cell_type": "code",
   "execution_count": 31,
   "metadata": {},
   "outputs": [],
   "source": [
    "# generate scale free graph\n",
    "G = nx.scale_free_graph(nodes, 0.48, 0.45, 0.07)"
   ]
  },
  {
   "cell_type": "code",
   "execution_count": 32,
   "metadata": {},
   "outputs": [],
   "source": [
    "# remove self loops\n",
    "for s, t, k in list(G.edges(data=True)):\n",
    "    if s == t: \n",
    "        G.remove_edge(s,t)"
   ]
  },
  {
   "cell_type": "code",
   "execution_count": 33,
   "metadata": {},
   "outputs": [],
   "source": [
    "# remove multi edges\n",
    "unique_edges = dict()\n",
    "for s, t, k in list(G.edges(data=True)):\n",
    "    if f'{s}:{t}' in unique_edges: \n",
    "        unique_edges[f'{s}:{t}'] = unique_edges.get(f'{s}:{t}') + 1\n",
    "    else: \n",
    "        unique_edges[f'{s}:{t}'] = 1\n",
    "        \n",
    "for s, t, k in list(G.edges(data=True)):\n",
    "    if f'{s}:{t}' in unique_edges and unique_edges.get(f'{s}:{t}') > 1:\n",
    "        G.remove_edge(s,t)\n",
    "        unique_edges[f'{s}:{t}'] = unique_edges.get(f'{s}:{t}') - 1"
   ]
  },
  {
   "cell_type": "code",
   "execution_count": 39,
   "metadata": {},
   "outputs": [
    {
     "name": "stdout",
     "output_type": "stream",
     "text": [
      "5 nodes selected at random\n",
      "[15, 22, 17, 6, 11]\n",
      "All permutations:\n",
      "[(15, 22), (15, 17), (15, 6), (15, 11), (22, 15), (22, 17), (22, 6), (22, 11), (17, 15), (17, 22), (17, 6), (17, 11), (6, 15), (6, 22), (6, 17), (6, 11), (11, 15), (11, 22), (11, 17), (11, 6)]\n",
      "15-22 or 22-15 does not exist --- adding to edges\n",
      "15-17 or 17-15 does not exist --- adding to edges\n",
      "15-6 or 6-15 exists\n",
      "15-11 or 11-15 does not exist --- adding to edges\n",
      "22-15 or 15-22 exists\n",
      "22-17 or 17-22 exists\n",
      "22-6 or 6-22 does not exist --- adding to edges\n",
      "22-11 or 11-22 does not exist --- adding to edges\n",
      "17-15 or 15-17 exists\n",
      "17-22 or 22-17 exists\n",
      "17-6 or 6-17 does not exist --- adding to edges\n",
      "17-11 or 11-17 does not exist --- adding to edges\n",
      "6-15 or 15-6 exists\n",
      "6-22 or 22-6 exists\n",
      "6-17 or 17-6 exists\n",
      "6-11 or 11-6 does not exist --- adding to edges\n",
      "11-15 or 15-11 exists\n",
      "11-22 or 22-11 exists\n",
      "11-17 or 17-11 exists\n",
      "11-6 or 6-11 exists\n"
     ]
    }
   ],
   "source": [
    "# generate clique\n",
    "if clique:\n",
    "    number_of_nodes = 5\n",
    "    nodes = random.sample(G.nodes, number_of_nodes)\n",
    "    permutations = list(itertools.permutations(nodes, 2))\n",
    "    print(f'{number_of_nodes} nodes selected at random:')\n",
    "    print(nodes)\n",
    "    print('All permutations:')\n",
    "    print(permutations)\n",
    "    for i in permutations:\n",
    "        source = i[0]\n",
    "        target = i[1]\n",
    "        if (G.has_edge(source, target)) or (G.has_edge(target, source)): \n",
    "            print(f'{source}-{target} or {target}-{source} exists')\n",
    "            continue\n",
    "        else: \n",
    "            print(f'{source}-{target} or {target}-{source} does not exist --- adding to edges')\n",
    "            G.add_edge(source, target) "
   ]
  },
  {
   "cell_type": "code",
   "execution_count": 7,
   "metadata": {},
   "outputs": [
    {
     "name": "stdout",
     "output_type": "stream",
     "text": [
      "Created graph with 30 nodes and 44 edges.\n"
     ]
    }
   ],
   "source": [
    "# assign labels to nodes\n",
    "print(\"Created graph with \" + str(len(G.nodes)) + \" nodes and \" + str(len(G.edges)) + \" edges.\")\n",
    "for i in range(len(G.nodes)):\n",
    "    label = generate_random_label()\n",
    "    while label in selected_set:\n",
    "        label = generate_random_label()\n",
    "    selected_set.add(label)\n",
    "    G.nodes[i][\"label\"] = label"
   ]
  },
  {
   "cell_type": "code",
   "execution_count": 8,
   "metadata": {},
   "outputs": [],
   "source": [
    "# assign time steps to edges\n",
    "for s, t, k in list(G.edges(data=True)):\n",
    "    timeArray = [int(np.random.choice(np.arange(0, 2, 1), p = [0.05, 0.95])),\n",
    "                 int(np.random.choice(np.arange(0, 2, 1), p = [0.05, 0.95])),\n",
    "                 int(np.random.choice(np.arange(0, 2, 1), p = [0.05, 0.95])),\n",
    "                 int(np.random.choice(np.arange(0, 2, 1), p = [0.05, 0.95]))\n",
    "                ]\n",
    "    G.adj[s][t][0]['time'] = timeArray"
   ]
  },
  {
   "cell_type": "code",
   "execution_count": 9,
   "metadata": {},
   "outputs": [],
   "source": [
    "# generate file name\n",
    "file_name = \"SFG_\"+ str(len(G.nodes)) + \"_\" + str(len(G.edges))\n",
    "\n",
    "if clique:\n",
    "    file_name += \"_clique\""
   ]
  },
  {
   "cell_type": "code",
   "execution_count": 10,
   "metadata": {},
   "outputs": [
    {
     "name": "stdout",
     "output_type": "stream",
     "text": [
      "SFG_30_44 done.\n"
     ]
    }
   ],
   "source": [
    "# write out file as json\n",
    "json_data = nx.json_graph.node_link_data(G)\n",
    "\n",
    "with open(file_name + '.json', 'w') as outfile:\n",
    "    json.dump(json_data, outfile)\n",
    "\n",
    "print(file_name, \"done.\")"
   ]
  }
 ],
 "metadata": {
  "kernelspec": {
   "display_name": "Python 3",
   "language": "python",
   "name": "python3"
  },
  "language_info": {
   "codemirror_mode": {
    "name": "ipython",
    "version": 3
   },
   "file_extension": ".py",
   "mimetype": "text/x-python",
   "name": "python",
   "nbconvert_exporter": "python",
   "pygments_lexer": "ipython3",
   "version": "3.7.6"
  }
 },
 "nbformat": 4,
 "nbformat_minor": 2
}
