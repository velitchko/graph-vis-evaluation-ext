{
 "cells": [
  {
   "cell_type": "code",
   "execution_count": 17,
   "metadata": {},
   "outputs": [],
   "source": [
    "import random\n",
    "import csv\n",
    "import pandas as pd  "
   ]
  },
  {
   "cell_type": "code",
   "execution_count": 11,
   "metadata": {},
   "outputs": [],
   "source": [
    "set_of_combinations = list([\n",
    "    # nl\n",
    "    'NL T1 Single SI',\n",
    "    'NL T1 Single JP',\n",
    "    'NL T1 Single AN',\n",
    "    'NL T1 Single TL',\n",
    "    'NL T2 Single SI',\n",
    "    'NL T2 Single JP',\n",
    "    'NL T2 Single AN',\n",
    "    'NL T2 Single TL',\n",
    "    'NL T3 Single SI',\n",
    "    'NL T3 Single JP',\n",
    "    'NL T3 Single AN',\n",
    "    'NL T3 Single TL',\n",
    "    'NL T1 Clique SI',\n",
    "    'NL T1 Clique JP',\n",
    "    'NL T1 Clique AN',\n",
    "    'NL T1 Clique TL',\n",
    "    'NL T2 Clique SI',\n",
    "    'NL T2 Clique JP',\n",
    "    'NL T2 Clique AN',\n",
    "    'NL T2 Clique TL',\n",
    "    'NL T3 Clique SI',\n",
    "    'NL T3 Clique JP',\n",
    "    'NL T3 Clique AN',\n",
    "    'NL T3 Clique TL',\n",
    "    #matrices\n",
    "    'M T1 Single SI',\n",
    "    'M T1 Single JP',\n",
    "    'M T1 Single AN',\n",
    "    'M T1 Single TL',\n",
    "    'M T2 Single SI',\n",
    "    'M T2 Single JP',\n",
    "    'M T2 Single AN',\n",
    "    'M T2 Single TL',\n",
    "    'M T3 Single SI',\n",
    "    'M T3 Single JP',\n",
    "    'M T3 Single AN',\n",
    "    'M T3 Single TL',\n",
    "    'M T1 Clique SI',\n",
    "    'M T1 Clique JP',\n",
    "    'M T1 Clique AN',\n",
    "    'M T1 Clique TL',\n",
    "    'M T2 Clique SI',\n",
    "    'M T2 Clique JP',\n",
    "    'M T2 Clique AN',\n",
    "    'M T2 Clique TL',\n",
    "    'M T3 Clique SI',\n",
    "    'M T3 Clique JP',\n",
    "    'M T3 Clique AN',\n",
    "    'M T3 Clique TL',\n",
    "])\n"
   ]
  },
  {
   "cell_type": "code",
   "execution_count": 6,
   "metadata": {},
   "outputs": [
    {
     "name": "stdout",
     "output_type": "stream",
     "text": [
      "48\n"
     ]
    }
   ],
   "source": [
    "print(len(set_of_combinations))"
   ]
  },
  {
   "cell_type": "code",
   "execution_count": 15,
   "metadata": {},
   "outputs": [
    {
     "name": "stdout",
     "output_type": "stream",
     "text": [
      "['NL T2 Clique TL', 'M T2 Clique JP', 'M T2 Single SI', 'M T1 Single SI', 'NL T1 Clique JP', 'NL T2 Single TL', 'M T1 Clique SI', 'NL T1 Clique TL', 'NL T3 Clique AN', 'M T1 Clique TL', 'M T1 Clique AN', 'NL T3 Clique JP', 'M T1 Single JP', 'NL T1 Single JP', 'M T2 Single TL', 'NL T2 Single AN', 'NL T1 Single SI', 'M T3 Single SI', 'M T3 Single AN', 'NL T3 Clique SI', 'M T2 Clique AN', 'NL T1 Single TL', 'M T3 Single TL', 'M T2 Clique SI', 'M T2 Single JP', 'NL T3 Single JP', 'NL T1 Clique SI', 'M T1 Single AN', 'NL T2 Single SI', 'NL T3 Single SI', 'M T3 Clique SI', 'M T1 Single TL', 'M T3 Clique TL', 'NL T2 Single JP', 'NL T3 Clique TL', 'NL T3 Single TL', 'M T2 Single AN', 'M T3 Clique AN', 'NL T2 Clique JP', 'M T3 Clique JP', 'NL T1 Clique AN', 'NL T3 Single AN', 'NL T1 Single AN', 'NL T2 Clique SI', 'NL T2 Clique AN', 'M T3 Single JP', 'M T2 Clique TL', 'M T1 Clique JP']\n"
     ]
    }
   ],
   "source": [
    "random.shuffle(set_of_combinations) # math.random()\n",
    "print(set_of_combinations)"
   ]
  },
  {
   "cell_type": "code",
   "execution_count": 18,
   "metadata": {},
   "outputs": [],
   "source": [
    "# write to csv\n",
    "df = pd.DataFrame(set_of_combinations)\n",
    "# saving the dataframe \n",
    "df.to_csv('tasks.csv') "
   ]
  }
 ],
 "metadata": {
  "kernelspec": {
   "display_name": "Python 3",
   "language": "python",
   "name": "python3"
  },
  "language_info": {
   "codemirror_mode": {
    "name": "ipython",
    "version": 3
   },
   "file_extension": ".py",
   "mimetype": "text/x-python",
   "name": "python",
   "nbconvert_exporter": "python",
   "pygments_lexer": "ipython3",
   "version": "3.7.6"
  }
 },
 "nbformat": 4,
 "nbformat_minor": 4
}
